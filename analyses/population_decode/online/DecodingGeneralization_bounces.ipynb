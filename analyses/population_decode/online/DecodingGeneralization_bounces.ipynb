{
 "cells": [
  {
   "cell_type": "code",
   "execution_count": null,
   "metadata": {},
   "outputs": [],
   "source": [
    "%matplotlib inline\n",
    "\n",
    "import matplotlib\n",
    "import matplotlib.pyplot as plt\n",
    "import seaborn as sns\n",
    "\n",
    "sns.set_style('ticks', {\"axes.linewidth\": \"1\",'axes.yaxis.grid':False})"
   ]
  },
  {
   "cell_type": "code",
   "execution_count": 2,
   "metadata": {},
   "outputs": [],
   "source": [
    "from phys.plot_scripts import generic_plot_utils as rr_gpu\n",
    "import pickle as pk\n",
    "import numpy as np\n",
    "import pandas as pd\n",
    "from phys.phys_utils import nnan_pearsonr as nnan_pearsonr\n",
    "from phys import data_utils, phys_utils\n",
    "from copy import deepcopy\n",
    "\n",
    "from phys.decode_utils import Decoder_3Ddata\n",
    "current_palette = sns.color_palette()"
   ]
  },
  {
   "cell_type": "code",
   "execution_count": 3,
   "metadata": {},
   "outputs": [],
   "source": [
    "cmap = plt.get_cmap('Dark2', 8)\n",
    "figoutpath_base = '/om/user/rishir/figs/mpong_phys/paper_scratch_202202/'\n"
   ]
  },
  {
   "cell_type": "code",
   "execution_count": 4,
   "metadata": {},
   "outputs": [],
   "source": [
    "condition = 'occ'\n",
    "subject_id = 'all_hand_dmfc'\n",
    "timebinsize = 50\n",
    "neural_data_to_use = 'neural_responses_reliable_FactorAnalysis_50'\n",
    "masks_to_test_suffix = 'start_end_pad0'\n",
    "\n",
    "figoutpath = '%s/%s%d/%s/decode_%s%s/' % (figoutpath_base, subject_id, timebinsize,\n",
    "                                          neural_data_to_use, masks_to_test_suffix, condition)\n",
    "\n",
    "\n",
    "data_aug = data_utils.load_neural_dataset(subject_id=subject_id,\n",
    "                                                   timebinsize=timebinsize,\n",
    "                                                   recompute_augment=False)\n",
    "\n",
    "mask_fn_neur = mask_fn_beh =  masks_to_test_suffix\n",
    "# data_neur_nxcxt = np.array(data_aug['neural_responses_reliable_FactorAnalysis_50'][condition])\n",
    "data_neur_nxcxt = np.array(data_aug['neural_responses_reliable'][condition])\n",
    "beh_to_decode = ['ball_pos_x_TRUE', 'ball_pos_y_TRUE']\n",
    "data_beh_bxcxt = np.array([data_aug['behavioral_responses'][condition][fk] for fk in beh_to_decode])\n",
    "mask_neur_cxt = np.array(data_aug['masks'][condition][mask_fn_neur])\n",
    "mask_beh_cxt = np.array(data_aug['masks'][condition][mask_fn_beh])\n",
    "\n"
   ]
  },
  {
   "cell_type": "code",
   "execution_count": 5,
   "metadata": {},
   "outputs": [],
   "source": [
    "def get_position_error_metric(xy_t_ixb, xy_p_ixb, suffix=''):\n",
    "    niter = xy_t_ixb.shape[0]\n",
    "    err_met = {}\n",
    "    err = np.nanmean(np.sum((xy_t_ixb - xy_p_ixb)**2, axis=2)**0.5, axis=1)\n",
    "    err_met['rmse_mu%s'%suffix] = np.nanmean(err)\n",
    "    err_met['rmse_sig%s'%suffix] = np.nanstd(err)\n",
    "    \n",
    "    err = np.nanmean(np.mean(np.abs(xy_t_ixb - xy_p_ixb), axis=2), axis=1)\n",
    "    err_met['mae_mu%s'%suffix] = np.nanmean(err)\n",
    "    err_met['mae_sig%s'%suffix] = np.nanstd(err)\n",
    "    \n",
    "    err = np.nanmean(np.abs(xy_t_ixb[:,:,0] - xy_p_ixb[:,:,0]), axis=1)\n",
    "    err_met['maex_mu%s'%suffix] = np.nanmean(err)\n",
    "    err_met['maex_sig%s'%suffix] = np.nanstd(err)\n",
    "    \n",
    "    err = np.nanmean(np.abs(xy_t_ixb[:,:,1] - xy_p_ixb[:,:,1]), axis=1)\n",
    "    err_met['maey_mu%s'%suffix] = np.nanmean(err)\n",
    "    err_met['maey_sig%s'%suffix] = np.nanstd(err)\n",
    "    \n",
    "    err = np.array([nnan_pearsonr(xy_t_ixb[i,:,0],xy_p_ixb[i,:,0])[0] for i in range(niter)])\n",
    "    err_met['rx_mu%s'%suffix] = np.nanmean(err)\n",
    "    err_met['rx_sig%s'%suffix] = np.nanstd(err)\n",
    "    \n",
    "    err = np.array([nnan_pearsonr(xy_t_ixb[i,:,1],xy_p_ixb[i,:,1])[0] for i in range(niter)])\n",
    "    err_met['ry_mu%s'%suffix] = np.nanmean(err)\n",
    "    err_met['ry_sig%s'%suffix] = np.nanstd(err)\n",
    "    \n",
    "    return err_met\n",
    "\n",
    "def make_new_group(data, train_size, regroup_mode=None):\n",
    "    if regroup_mode is None:\n",
    "        metavar = np.array(data_aug['meta']['n_bounce_correct'])\n",
    "        train_0 = train_1 = metavar.shape[0]  * train_size\n",
    "        g = data['g']\n",
    "    else:\n",
    "        metavar = np.array(data_aug['meta'][regroup_mode])\n",
    "        thres = np.nanmedian(metavar)\n",
    "        metavar_1 = np.nonzero(metavar > thres)[0]\n",
    "        metavar_0 = np.nonzero(metavar <= thres)[0]\n",
    "        train_size = 0.5\n",
    "        train_0 = len(metavar_1)\n",
    "        train_1 = len(metavar_0)\n",
    "        g = np.expand_dims([float(g[0] in metavar_1) for g in data['g']], axis=1)\n",
    "    return g, train_size, train_0, train_1\n",
    "\n",
    "        \n",
    "\n",
    "def run_one(data_neur_nxcxt,data_beh_bxcxt, mask_neur_cxt, mask_beh_cxt, train_size=0.5, \n",
    "            regroup_mode=None, shuffle_features=False, nfeatures_sample=None):\n",
    "        \n",
    "    decoder_specs = {\n",
    "            'train_size': train_size,\n",
    "            'niter': 10,\n",
    "            'nfeatures_sample': nfeatures_sample,\n",
    "            'groupby': 'condition',\n",
    "            'matched_timepoints': True,\n",
    "            'groupshufflesplit': True,\n",
    "        }\n",
    "    dec = Decoder_3Ddata(**decoder_specs)\n",
    "    \n",
    "    x_nxcxtm = dec.mask_3ddata(data_neur_nxcxt, mask_neur_cxt)\n",
    "    y_bxcxtm = dec.mask_3ddata(data_beh_bxcxt, mask_beh_cxt)\n",
    "    data = dec.get_data(x_nxcxtm, y_bxcxtm, x2_nxcxt=None)\n",
    "    g, train_size, train_0, train_1 = make_new_group(data, train_size, regroup_mode=regroup_mode)\n",
    "    dec.train_size = train_size\n",
    "    data['g'] = g\n",
    "    \n",
    "    if shuffle_features:\n",
    "        x = np.array(data['x'])\n",
    "        data['x'] = np.random.random(x.shape)\n",
    "    \n",
    "    res = dec.decode_base(data)\n",
    "    metrics = {}\n",
    "    metrics.update(res)\n",
    "    metrics['train_0'] = train_0\n",
    "    metrics['train_1'] = train_1\n",
    "\n",
    "    tmp = get_position_error_metric(res['y_true_dist'], res['y_pred_dist'], suffix='')\n",
    "    metrics.update(tmp)\n",
    "    \n",
    "    if regroup_mode is not None:\n",
    "        idx_1 = np.nonzero(data['g'] == 1)[0]\n",
    "        idx_0 = np.nonzero(data['g'] == 0)[0]\n",
    "        \n",
    "        for j, idx_curr in enumerate([idx_0, idx_1]):\n",
    "            yt, yp = res['y_true_dist'][:,idx_curr,:], res['y_pred_dist'][:,idx_curr,:]\n",
    "            tmp = get_position_error_metric(yt, yp, suffix='_%d'%j)\n",
    "            metrics.update(tmp)\n",
    "            \n",
    "    return metrics"
   ]
  },
  {
   "cell_type": "code",
   "execution_count": 6,
   "metadata": {},
   "outputs": [],
   "source": [
    "met_all, met_shuf_all = [], []\n",
    "for train_size in np.arange(0.02,0.8,0.1):\n",
    "    met = run_one(data_neur_nxcxt,data_beh_bxcxt, mask_neur_cxt, mask_beh_cxt, train_size,\n",
    "                  regroup_mode=None)\n",
    "    met_all.append(met)\n",
    "    \n",
    "    met = run_one(data_neur_nxcxt,data_beh_bxcxt, mask_neur_cxt, mask_beh_cxt, train_size,\n",
    "                  regroup_mode=None, shuffle_features=True)\n",
    "    met_shuf_all.append(met)\n",
    "\n",
    "\n",
    "met_regrouped = {}\n",
    "for fk in ['n_bounce_correct', 'yf', 'dx', 'dy', 'x0', 'y0']:\n",
    "    met_regrouped[fk] = run_one(data_neur_nxcxt,data_beh_bxcxt, mask_neur_cxt, mask_beh_cxt, \n",
    "                     0.5, regroup_mode=fk)\n",
    "\n"
   ]
  },
  {
   "cell_type": "code",
   "execution_count": 24,
   "metadata": {},
   "outputs": [
    {
     "name": "stdout",
     "output_type": "stream",
     "text": [
      "saved to /om/user/rishir/figs/mpong_phys/paper_scratch_202202//all_hand_dmfc50/neural_responses_reliable_FactorAnalysis_50/decode_start_end_pad0occ//ntraining_samples_rx.pdf\n",
      "saved to /om/user/rishir/figs/mpong_phys/paper_scratch_202202//all_hand_dmfc50/neural_responses_reliable_FactorAnalysis_50/decode_start_end_pad0occ//ntraining_samples_ry.pdf\n"
     ]
    },
    {
     "data": {
      "image/png": "[encoded data removed]",
      "text/plain": [
       "<Figure size 288x360 with 1 Axes>"
      ]
     },
     "metadata": {},
     "output_type": "display_data"
    },
    {
     "data": {
      "image/png": "[encoded data removed]",
      "text/plain": [
       "<Figure size 288x360 with 1 Axes>"
      ]
     },
     "metadata": {},
     "output_type": "display_data"
    }
   ],
   "source": [
    "plot_regroup_keys = ['n_bounce_correct']\n",
    "cols = [cmap(0), [0.5, 0.5, 0.5]]\n",
    "for metricn in ['rx', 'ry']:\n",
    "\n",
    "    f,axes = plt.subplots(1,1,figsize=(4,5))\n",
    "    for mi, met_curr in enumerate([met_all, met_shuf_all]):\n",
    "        x = [met['train_1'] for met in met_curr]\n",
    "        mu = [met['%s_mu'%metricn] for met in met_curr]\n",
    "        sig = [met['%s_sig'%metricn] for met in met_curr]\n",
    "        axes.errorbar(x, mu, yerr=sig, fmt='-o', mfc='w', color=cols[mi])\n",
    "    \n",
    "    for met_fk in plot_regroup_keys:\n",
    "        met_other = met_regrouped[met_fk]\n",
    "        \n",
    "        X = [met_other['train_0'], met_other['train_1']]\n",
    "        Y = [met_other['%s_mu_0'%metricn], met_other['%s_mu_1'%metricn]]\n",
    "        axes.plot(X, Y,'--s', label=met_fk, mfc='w', color=cols[0])\n",
    "#     axes.legend()\n",
    "    axes.set_ylim([-0.1,1])\n",
    "    axes.set_title(metricn)\n",
    "    rr_gpu.make_axis_nice(axes)\n",
    "    figoutfn = '%s/ntraining_samples_%s.pdf' % (figoutpath, metricn)\n",
    "    f.savefig(figoutfn)\n",
    "    print('saved to %s' % figoutfn)"
   ]
  },
  {
   "cell_type": "code",
   "execution_count": null,
   "metadata": {},
   "outputs": [],
   "source": []
  }
 ],
 "metadata": {
  "kernelspec": {
   "display_name": "Python 3",
   "language": "python",
   "name": "python3"
  },
  "language_info": {
   "codemirror_mode": {
    "name": "ipython",
    "version": 3
   },
   "file_extension": ".py",
   "mimetype": "text/x-python",
   "name": "python",
   "nbconvert_exporter": "python",
   "pygments_lexer": "ipython3",
   "version": "3.6.2"
  }
 },
 "nbformat": 4,
 "nbformat_minor": 2
}

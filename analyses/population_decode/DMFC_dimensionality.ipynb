{
 "cells": [
  {
   "cell_type": "code",
   "execution_count": 1,
   "metadata": {},
   "outputs": [],
   "source": [
    "%matplotlib inline\n",
    "\n",
    "import matplotlib\n",
    "import matplotlib.pyplot as plt\n",
    "import seaborn as sns\n",
    "\n",
    "sns.set_style('ticks', {\"axes.linewidth\": \"1\",'axes.yaxis.grid':False})"
   ]
  },
  {
   "cell_type": "code",
   "execution_count": 2,
   "metadata": {},
   "outputs": [
    {
     "name": "stderr",
     "output_type": "stream",
     "text": [
      "/Users/hansem/Dropbox (MIT)/MPong/phys/plot_scripts/decoding_summary.py:57: SyntaxWarning: \"is not\" with a literal. Did you mean \"!=\"?\n",
      "  preproc_suffix = '_%s%d' % (self.preprocess_func, self.ncomp) if self.preprocess_func is not 'none' else ''\n"
     ]
    }
   ],
   "source": [
    "import os\n",
    "import pickle as pk\n",
    "import numpy as np\n",
    "import pandas as pd\n",
    "from phys.phys_utils import nnan_pearsonr as nnan_pearsonr\n",
    "from phys import data_utils, phys_utils\n",
    "# from rnn_analysis import utils as rnn_analysis_utils\n",
    "# from rnn_analysis import utils as analysis_utils\n",
    "from phys.plot_scripts import generic_plot_utils as rr_gpu\n",
    "from phys.plot_scripts import decoding_summary as dec_plots\n",
    "from phys.plot_scripts import rnn_comparisons_2021 as rnn_plots\n",
    "from sklearn.decomposition import PCA, FastICA, FactorAnalysis"
   ]
  },
  {
   "cell_type": "code",
   "execution_count": 3,
   "metadata": {},
   "outputs": [],
   "source": [
    "figoutpath_base = '/Users/hansem/Dropbox (MIT)/MPong/figs/mpong_phys/redo_paper_scratch_202202' # '/om/user/rishir/figs/mpong_phys/paper_scratch_202202/'"
   ]
  },
  {
   "cell_type": "markdown",
   "metadata": {},
   "source": [
    "# are factors representing task variables?"
   ]
  },
  {
   "cell_type": "code",
   "execution_count": 4,
   "metadata": {},
   "outputs": [],
   "source": [
    "from sklearn.feature_selection import f_regression, mutual_info_regression"
   ]
  },
  {
   "cell_type": "code",
   "execution_count": 5,
   "metadata": {},
   "outputs": [],
   "source": [
    "def load_neural_data_base(subject_id, mask_fn, \n",
    "                          condition='occ', \n",
    "                          neural_data_to_use='neural_responses_reliable_FactorAnalysis_20'):\n",
    "    neural_data = data_utils.load_neural_dataset(subject_id=subject_id, timebinsize=50, recompute_augment=False)\n",
    "\n",
    "    condition = 'occ'\n",
    "    beh_to_decode = ['ball_pos_x_TRUE', 'ball_pos_y_TRUE', 'ball_pos_dx_TRUE', 'ball_pos_dy_TRUE',\n",
    "                    't_from_start', 't_from_occ', 't_from_end']\n",
    "\n",
    "    mask_fn_neur = mask_fn_beh = mask_fn\n",
    "    mask_neur_cxt = np.array(neural_data['masks'][condition][mask_fn_neur])\n",
    "    mask_beh_cxt = np.array(neural_data['masks'][condition][mask_fn_beh])\n",
    "\n",
    "    data_neur_nxcxt = np.array(neural_data[neural_data_to_use][condition])\n",
    "    data_beh_bxcxt = np.array([neural_data['behavioral_responses'][condition][fk] for fk in beh_to_decode])\n",
    "\n",
    "    data = {\n",
    "        'data_neur_nxcxt': data_neur_nxcxt,\n",
    "        'data_beh_bxcxt': data_beh_bxcxt,\n",
    "        'mask_neur_cxt': mask_neur_cxt,\n",
    "        'mask_beh_cxt': mask_beh_cxt,\n",
    "    }\n",
    "    return data"
   ]
  },
  {
   "cell_type": "code",
   "execution_count": 6,
   "metadata": {},
   "outputs": [],
   "source": [
    "def convert_to_mat_pool_conditions_and_time_dims(x_nxcxt, y_bxcxt, mask_cxt):\n",
    "    \"\"\" turn NxCxT into CT x N. remove CT dims that are NaN.\n",
    "    This is done for mapping with matched time (each timepoint is another point in state space).\n",
    "    flatten_to_mat turns the first two dimensions into 1 cxtxn -> cxt x n\n",
    "    \"\"\"\n",
    "    x_cxtxn = np.transpose(x_nxcxt, (1, 2, 0))\n",
    "    y_cxtxb = np.transpose(y_bxcxt, (1, 2, 0))\n",
    "\n",
    "    # omit times and conditions where any feature or any label is NaN\n",
    "#     mask_cxt = np.mean(x_nxcxt, axis=0) * np.mean(y_bxcxt, axis=0)\n",
    "    mask_cxtx1 = np.expand_dims(mask_cxt, axis=2)\n",
    "\n",
    "    res_x = phys_utils.flatten_to_mat(x_cxtxn, mask_cxtx1)\n",
    "    res_y = phys_utils.flatten_to_mat(y_cxtxb, mask_cxtx1)\n",
    "#     res_g = phys_utils.flatten_to_mat(cond_cxtx1, mask_cxtx1)\n",
    "\n",
    "    mat_data = {\n",
    "        'x': np.array(res_x['X']),\n",
    "        'y': np.array(res_y['X']),\n",
    "#         'g': np.array(res_g['X']),\n",
    "#         'unflatten_res': res_g,\n",
    "    }\n",
    "    return mat_data"
   ]
  },
  {
   "cell_type": "code",
   "execution_count": 7,
   "metadata": {},
   "outputs": [
    {
     "name": "stderr",
     "output_type": "stream",
     "text": [
      "/opt/anaconda3/envs/mworks/lib/python3.8/site-packages/outdated/utils.py:14: OutdatedPackageWarning: The package pingouin is out of date. Your version is 0.5.2, the latest is 0.5.3.\n",
      "Set the environment variable OUTDATED_IGNORE=1 to disable these warnings.\n",
      "  return warn(\n"
     ]
    }
   ],
   "source": [
    "data = load_neural_data_base('all_hand_dmfc', 'start_end_pad0', neural_data_to_use='neural_responses_reliable')\n",
    "x, y = data['data_neur_nxcxt'], data['data_beh_bxcxt']\n",
    "mask_cxt = data['mask_neur_cxt']\n",
    "mat_data = convert_to_mat_pool_conditions_and_time_dims(x, y, mask_cxt)"
   ]
  },
  {
   "cell_type": "code",
   "execution_count": 8,
   "metadata": {},
   "outputs": [],
   "source": [
    "def get_mutual_information_bootstrap(data_2d, beh_idx, niter=10):\n",
    "    x,y =  data_2d['x'], data_2d['y'][:,beh_idx]\n",
    "    y2 = np.array(y)\n",
    "    np.random.shuffle(y2)\n",
    "    n = x.shape[0]\n",
    "    mi_all, mi_shuf = [], []\n",
    "    for i in range(niter):\n",
    "        idx = np.random.choice(range(n), n, replace=True)\n",
    "        x_, y_, y2_ = x[idx,:], y[idx], y2[idx]\n",
    "        mi = mutual_info_regression(x_, y_)\n",
    "        mi_all.append(mi)\n",
    "        mi2 = mutual_info_regression(x_, y2_)\n",
    "        mi_shuf.append(mi2)\n",
    "    return mi_all, mi_shuf"
   ]
  },
  {
   "cell_type": "code",
   "execution_count": 9,
   "metadata": {},
   "outputs": [],
   "source": [
    "def get_mutual_information_bootstrap(data_2d, beh_idx_list, niter=10):\n",
    "    x,y =  data_2d['x'], data_2d['y'][:,beh_idx_list]\n",
    "    y2 = np.array(y)\n",
    "    np.random.shuffle(y2)\n",
    "    n = x.shape[0]\n",
    "    mi_all, mi_shuf = [], []\n",
    "    for i in range(niter):\n",
    "        idx = np.random.choice(range(n), n, replace=True)\n",
    "        x_, y_, y2_ = x[idx,:], y[idx,:], y2[idx,:]\n",
    "        mi = mutual_info_regression(x_, y_)\n",
    "        mi_all.append(mi)\n",
    "        mi2 = mutual_info_regression(x_, y2_)\n",
    "        mi_shuf.append(mi2)\n",
    "    return mi_all, mi_shuf"
   ]
  },
  {
   "cell_type": "code",
   "execution_count": 9,
   "metadata": {},
   "outputs": [],
   "source": []
  },
  {
   "cell_type": "code",
   "execution_count": 10,
   "metadata": {},
   "outputs": [
    {
     "name": "stderr",
     "output_type": "stream",
     "text": [
      "/opt/anaconda3/envs/mworks/lib/python3.8/site-packages/sklearn/utils/validation.py:63: DataConversionWarning: A column-vector y was passed when a 1d array was expected. Please change the shape of y to (n_samples, ), for example using ravel().\n",
      "  return f(*args, **kwargs)\n",
      "/opt/anaconda3/envs/mworks/lib/python3.8/site-packages/sklearn/utils/validation.py:63: DataConversionWarning: A column-vector y was passed when a 1d array was expected. Please change the shape of y to (n_samples, ), for example using ravel().\n",
      "  return f(*args, **kwargs)\n",
      "/opt/anaconda3/envs/mworks/lib/python3.8/site-packages/sklearn/utils/validation.py:63: DataConversionWarning: A column-vector y was passed when a 1d array was expected. Please change the shape of y to (n_samples, ), for example using ravel().\n",
      "  return f(*args, **kwargs)\n",
      "/opt/anaconda3/envs/mworks/lib/python3.8/site-packages/sklearn/utils/validation.py:63: DataConversionWarning: A column-vector y was passed when a 1d array was expected. Please change the shape of y to (n_samples, ), for example using ravel().\n",
      "  return f(*args, **kwargs)\n",
      "/opt/anaconda3/envs/mworks/lib/python3.8/site-packages/sklearn/utils/validation.py:63: DataConversionWarning: A column-vector y was passed when a 1d array was expected. Please change the shape of y to (n_samples, ), for example using ravel().\n",
      "  return f(*args, **kwargs)\n",
      "/opt/anaconda3/envs/mworks/lib/python3.8/site-packages/sklearn/utils/validation.py:63: DataConversionWarning: A column-vector y was passed when a 1d array was expected. Please change the shape of y to (n_samples, ), for example using ravel().\n",
      "  return f(*args, **kwargs)\n",
      "/opt/anaconda3/envs/mworks/lib/python3.8/site-packages/sklearn/utils/validation.py:63: DataConversionWarning: A column-vector y was passed when a 1d array was expected. Please change the shape of y to (n_samples, ), for example using ravel().\n",
      "  return f(*args, **kwargs)\n",
      "/opt/anaconda3/envs/mworks/lib/python3.8/site-packages/sklearn/utils/validation.py:63: DataConversionWarning: A column-vector y was passed when a 1d array was expected. Please change the shape of y to (n_samples, ), for example using ravel().\n",
      "  return f(*args, **kwargs)\n",
      "/opt/anaconda3/envs/mworks/lib/python3.8/site-packages/sklearn/utils/validation.py:63: DataConversionWarning: A column-vector y was passed when a 1d array was expected. Please change the shape of y to (n_samples, ), for example using ravel().\n",
      "  return f(*args, **kwargs)\n",
      "/opt/anaconda3/envs/mworks/lib/python3.8/site-packages/sklearn/utils/validation.py:63: DataConversionWarning: A column-vector y was passed when a 1d array was expected. Please change the shape of y to (n_samples, ), for example using ravel().\n",
      "  return f(*args, **kwargs)\n",
      "/opt/anaconda3/envs/mworks/lib/python3.8/site-packages/sklearn/utils/validation.py:63: DataConversionWarning: A column-vector y was passed when a 1d array was expected. Please change the shape of y to (n_samples, ), for example using ravel().\n",
      "  return f(*args, **kwargs)\n",
      "/opt/anaconda3/envs/mworks/lib/python3.8/site-packages/sklearn/utils/validation.py:63: DataConversionWarning: A column-vector y was passed when a 1d array was expected. Please change the shape of y to (n_samples, ), for example using ravel().\n",
      "  return f(*args, **kwargs)\n",
      "/opt/anaconda3/envs/mworks/lib/python3.8/site-packages/sklearn/utils/validation.py:63: DataConversionWarning: A column-vector y was passed when a 1d array was expected. Please change the shape of y to (n_samples, ), for example using ravel().\n",
      "  return f(*args, **kwargs)\n",
      "/opt/anaconda3/envs/mworks/lib/python3.8/site-packages/sklearn/utils/validation.py:63: DataConversionWarning: A column-vector y was passed when a 1d array was expected. Please change the shape of y to (n_samples, ), for example using ravel().\n",
      "  return f(*args, **kwargs)\n",
      "/opt/anaconda3/envs/mworks/lib/python3.8/site-packages/sklearn/utils/validation.py:63: DataConversionWarning: A column-vector y was passed when a 1d array was expected. Please change the shape of y to (n_samples, ), for example using ravel().\n",
      "  return f(*args, **kwargs)\n",
      "/opt/anaconda3/envs/mworks/lib/python3.8/site-packages/sklearn/utils/validation.py:63: DataConversionWarning: A column-vector y was passed when a 1d array was expected. Please change the shape of y to (n_samples, ), for example using ravel().\n",
      "  return f(*args, **kwargs)\n",
      "/opt/anaconda3/envs/mworks/lib/python3.8/site-packages/sklearn/utils/validation.py:63: DataConversionWarning: A column-vector y was passed when a 1d array was expected. Please change the shape of y to (n_samples, ), for example using ravel().\n",
      "  return f(*args, **kwargs)\n",
      "/opt/anaconda3/envs/mworks/lib/python3.8/site-packages/sklearn/utils/validation.py:63: DataConversionWarning: A column-vector y was passed when a 1d array was expected. Please change the shape of y to (n_samples, ), for example using ravel().\n",
      "  return f(*args, **kwargs)\n",
      "/opt/anaconda3/envs/mworks/lib/python3.8/site-packages/sklearn/utils/validation.py:63: DataConversionWarning: A column-vector y was passed when a 1d array was expected. Please change the shape of y to (n_samples, ), for example using ravel().\n",
      "  return f(*args, **kwargs)\n",
      "/opt/anaconda3/envs/mworks/lib/python3.8/site-packages/sklearn/utils/validation.py:63: DataConversionWarning: A column-vector y was passed when a 1d array was expected. Please change the shape of y to (n_samples, ), for example using ravel().\n",
      "  return f(*args, **kwargs)\n"
     ]
    }
   ],
   "source": [
    "mi_all, mi_shuf = get_mutual_information_bootstrap(mat_data, [0])\n"
   ]
  },
  {
   "cell_type": "code",
   "execution_count": 11,
   "metadata": {},
   "outputs": [
    {
     "data": {
      "text/plain": "[array([0.74633181, 0.7652518 , 0.71901178, ..., 0.75495611, 0.50284877,\n        0.6935011 ]),\n array([0.75380291, 0.72716801, 0.76133354, ..., 0.72574654, 0.47262231,\n        0.67876734]),\n array([0.76139431, 0.83995283, 0.76843236, ..., 0.7587868 , 0.55848812,\n        0.79466232]),\n array([0.8188108 , 0.74803551, 0.83120359, ..., 0.77900134, 0.56539779,\n        0.71440837]),\n array([0.77007676, 0.76648282, 0.78795913, ..., 0.76925727, 0.55221613,\n        0.74696216]),\n array([0.68486245, 0.6966917 , 0.71141258, ..., 0.69467439, 0.4598029 ,\n        0.72512806]),\n array([0.76084564, 0.76350864, 0.81365341, ..., 0.76315423, 0.52425218,\n        0.76821487]),\n array([0.72686072, 0.72696678, 0.76368416, ..., 0.73554724, 0.57428479,\n        0.68089087]),\n array([0.67781741, 0.68623098, 0.70879112, ..., 0.70415006, 0.49711317,\n        0.70099188]),\n array([0.82200515, 0.79162996, 0.76865358, ..., 0.84237194, 0.5479164 ,\n        0.75251979])]"
     },
     "execution_count": 11,
     "metadata": {},
     "output_type": "execute_result"
    }
   ],
   "source": [
    "mi_all"
   ]
  },
  {
   "cell_type": "code",
   "execution_count": 12,
   "metadata": {},
   "outputs": [
    {
     "ename": "ValueError",
     "evalue": "y should be a 1d array, got an array of shape (3502, 2) instead.",
     "output_type": "error",
     "traceback": [
      "\u001B[0;31m---------------------------------------------------------------------------\u001B[0m",
      "\u001B[0;31mValueError\u001B[0m                                Traceback (most recent call last)",
      "\u001B[0;32m<ipython-input-12-c283f8326cea>\u001B[0m in \u001B[0;36m<module>\u001B[0;34m\u001B[0m\n\u001B[1;32m      1\u001B[0m \u001B[0mf\u001B[0m\u001B[0;34m,\u001B[0m\u001B[0maxes\u001B[0m \u001B[0;34m=\u001B[0m \u001B[0mplt\u001B[0m\u001B[0;34m.\u001B[0m\u001B[0msubplots\u001B[0m\u001B[0;34m(\u001B[0m\u001B[0;36m1\u001B[0m\u001B[0;34m,\u001B[0m\u001B[0;36m1\u001B[0m\u001B[0;34m,\u001B[0m\u001B[0mfigsize\u001B[0m\u001B[0;34m=\u001B[0m\u001B[0;34m(\u001B[0m\u001B[0;36m4\u001B[0m\u001B[0;34m,\u001B[0m\u001B[0;36m4\u001B[0m\u001B[0;34m)\u001B[0m\u001B[0;34m)\u001B[0m\u001B[0;34m\u001B[0m\u001B[0;34m\u001B[0m\u001B[0m\n\u001B[1;32m      2\u001B[0m \u001B[0;34m\u001B[0m\u001B[0m\n\u001B[0;32m----> 3\u001B[0;31m \u001B[0mmi_all\u001B[0m\u001B[0;34m,\u001B[0m \u001B[0mmi_shuf\u001B[0m \u001B[0;34m=\u001B[0m \u001B[0mget_mutual_information_bootstrap\u001B[0m\u001B[0;34m(\u001B[0m\u001B[0mmat_data\u001B[0m\u001B[0;34m,\u001B[0m \u001B[0;34m[\u001B[0m\u001B[0;36m0\u001B[0m\u001B[0;34m,\u001B[0m\u001B[0;36m1\u001B[0m\u001B[0;34m]\u001B[0m\u001B[0;34m)\u001B[0m\u001B[0;34m\u001B[0m\u001B[0;34m\u001B[0m\u001B[0m\n\u001B[0m\u001B[1;32m      4\u001B[0m \u001B[0;31m# axes[beh_idx].errorbar(range(20), np.nanmean(mi_all, axis=0), yerr=np.std(mi_all, axis=0),fmt='o')\u001B[0m\u001B[0;34m\u001B[0m\u001B[0;34m\u001B[0m\u001B[0;34m\u001B[0m\u001B[0m\n\u001B[1;32m      5\u001B[0m \u001B[0;31m# axes[beh_idx].errorbar(range(20), np.nanmean(mi_shuf, axis=0), yerr=np.std(mi_shuf, axis=0),fmt='.')\u001B[0m\u001B[0;34m\u001B[0m\u001B[0;34m\u001B[0m\u001B[0;34m\u001B[0m\u001B[0m\n",
      "\u001B[0;32m<ipython-input-9-531560bd4936>\u001B[0m in \u001B[0;36mget_mutual_information_bootstrap\u001B[0;34m(data_2d, beh_idx_list, niter)\u001B[0m\n\u001B[1;32m      8\u001B[0m         \u001B[0midx\u001B[0m \u001B[0;34m=\u001B[0m \u001B[0mnp\u001B[0m\u001B[0;34m.\u001B[0m\u001B[0mrandom\u001B[0m\u001B[0;34m.\u001B[0m\u001B[0mchoice\u001B[0m\u001B[0;34m(\u001B[0m\u001B[0mrange\u001B[0m\u001B[0;34m(\u001B[0m\u001B[0mn\u001B[0m\u001B[0;34m)\u001B[0m\u001B[0;34m,\u001B[0m \u001B[0mn\u001B[0m\u001B[0;34m,\u001B[0m \u001B[0mreplace\u001B[0m\u001B[0;34m=\u001B[0m\u001B[0;32mTrue\u001B[0m\u001B[0;34m)\u001B[0m\u001B[0;34m\u001B[0m\u001B[0;34m\u001B[0m\u001B[0m\n\u001B[1;32m      9\u001B[0m         \u001B[0mx_\u001B[0m\u001B[0;34m,\u001B[0m \u001B[0my_\u001B[0m\u001B[0;34m,\u001B[0m \u001B[0my2_\u001B[0m \u001B[0;34m=\u001B[0m \u001B[0mx\u001B[0m\u001B[0;34m[\u001B[0m\u001B[0midx\u001B[0m\u001B[0;34m,\u001B[0m\u001B[0;34m:\u001B[0m\u001B[0;34m]\u001B[0m\u001B[0;34m,\u001B[0m \u001B[0my\u001B[0m\u001B[0;34m[\u001B[0m\u001B[0midx\u001B[0m\u001B[0;34m,\u001B[0m\u001B[0;34m:\u001B[0m\u001B[0;34m]\u001B[0m\u001B[0;34m,\u001B[0m \u001B[0my2\u001B[0m\u001B[0;34m[\u001B[0m\u001B[0midx\u001B[0m\u001B[0;34m,\u001B[0m\u001B[0;34m:\u001B[0m\u001B[0;34m]\u001B[0m\u001B[0;34m\u001B[0m\u001B[0;34m\u001B[0m\u001B[0m\n\u001B[0;32m---> 10\u001B[0;31m         \u001B[0mmi\u001B[0m \u001B[0;34m=\u001B[0m \u001B[0mmutual_info_regression\u001B[0m\u001B[0;34m(\u001B[0m\u001B[0mx_\u001B[0m\u001B[0;34m,\u001B[0m \u001B[0my_\u001B[0m\u001B[0;34m)\u001B[0m\u001B[0;34m\u001B[0m\u001B[0;34m\u001B[0m\u001B[0m\n\u001B[0m\u001B[1;32m     11\u001B[0m         \u001B[0mmi_all\u001B[0m\u001B[0;34m.\u001B[0m\u001B[0mappend\u001B[0m\u001B[0;34m(\u001B[0m\u001B[0mmi\u001B[0m\u001B[0;34m)\u001B[0m\u001B[0;34m\u001B[0m\u001B[0;34m\u001B[0m\u001B[0m\n\u001B[1;32m     12\u001B[0m         \u001B[0mmi2\u001B[0m \u001B[0;34m=\u001B[0m \u001B[0mmutual_info_regression\u001B[0m\u001B[0;34m(\u001B[0m\u001B[0mx_\u001B[0m\u001B[0;34m,\u001B[0m \u001B[0my2_\u001B[0m\u001B[0;34m)\u001B[0m\u001B[0;34m\u001B[0m\u001B[0;34m\u001B[0m\u001B[0m\n",
      "\u001B[0;32m/opt/anaconda3/envs/mworks/lib/python3.8/site-packages/sklearn/utils/validation.py\u001B[0m in \u001B[0;36minner_f\u001B[0;34m(*args, **kwargs)\u001B[0m\n\u001B[1;32m     61\u001B[0m             \u001B[0mextra_args\u001B[0m \u001B[0;34m=\u001B[0m \u001B[0mlen\u001B[0m\u001B[0;34m(\u001B[0m\u001B[0margs\u001B[0m\u001B[0;34m)\u001B[0m \u001B[0;34m-\u001B[0m \u001B[0mlen\u001B[0m\u001B[0;34m(\u001B[0m\u001B[0mall_args\u001B[0m\u001B[0;34m)\u001B[0m\u001B[0;34m\u001B[0m\u001B[0;34m\u001B[0m\u001B[0m\n\u001B[1;32m     62\u001B[0m             \u001B[0;32mif\u001B[0m \u001B[0mextra_args\u001B[0m \u001B[0;34m<=\u001B[0m \u001B[0;36m0\u001B[0m\u001B[0;34m:\u001B[0m\u001B[0;34m\u001B[0m\u001B[0;34m\u001B[0m\u001B[0m\n\u001B[0;32m---> 63\u001B[0;31m                 \u001B[0;32mreturn\u001B[0m \u001B[0mf\u001B[0m\u001B[0;34m(\u001B[0m\u001B[0;34m*\u001B[0m\u001B[0margs\u001B[0m\u001B[0;34m,\u001B[0m \u001B[0;34m**\u001B[0m\u001B[0mkwargs\u001B[0m\u001B[0;34m)\u001B[0m\u001B[0;34m\u001B[0m\u001B[0;34m\u001B[0m\u001B[0m\n\u001B[0m\u001B[1;32m     64\u001B[0m \u001B[0;34m\u001B[0m\u001B[0m\n\u001B[1;32m     65\u001B[0m             \u001B[0;31m# extra_args > 0\u001B[0m\u001B[0;34m\u001B[0m\u001B[0;34m\u001B[0m\u001B[0;34m\u001B[0m\u001B[0m\n",
      "\u001B[0;32m/opt/anaconda3/envs/mworks/lib/python3.8/site-packages/sklearn/feature_selection/_mutual_info.py\u001B[0m in \u001B[0;36mmutual_info_regression\u001B[0;34m(X, y, discrete_features, n_neighbors, copy, random_state)\u001B[0m\n\u001B[1;32m    365\u001B[0m            \u001B[0mof\u001B[0m \u001B[0ma\u001B[0m \u001B[0mRandom\u001B[0m \u001B[0mVector\u001B[0m\u001B[0;31m\"\u001B[0m\u001B[0;34m,\u001B[0m \u001B[0mProbl\u001B[0m\u001B[0;34m.\u001B[0m \u001B[0mPeredachi\u001B[0m \u001B[0mInf\u001B[0m\u001B[0;34m.\u001B[0m\u001B[0;34m,\u001B[0m \u001B[0;36m23\u001B[0m\u001B[0;34m:\u001B[0m\u001B[0;36m2\u001B[0m \u001B[0;34m(\u001B[0m\u001B[0;36m1987\u001B[0m\u001B[0;34m)\u001B[0m\u001B[0;34m,\u001B[0m \u001B[0;36m9\u001B[0m\u001B[0;34m-\u001B[0m\u001B[0;36m16\u001B[0m\u001B[0;34m\u001B[0m\u001B[0;34m\u001B[0m\u001B[0m\n\u001B[1;32m    366\u001B[0m     \"\"\"\n\u001B[0;32m--> 367\u001B[0;31m     return _estimate_mi(X, y, discrete_features, False, n_neighbors,\n\u001B[0m\u001B[1;32m    368\u001B[0m                         copy, random_state)\n\u001B[1;32m    369\u001B[0m \u001B[0;34m\u001B[0m\u001B[0m\n",
      "\u001B[0;32m/opt/anaconda3/envs/mworks/lib/python3.8/site-packages/sklearn/feature_selection/_mutual_info.py\u001B[0m in \u001B[0;36m_estimate_mi\u001B[0;34m(X, y, discrete_features, discrete_target, n_neighbors, copy, random_state)\u001B[0m\n\u001B[1;32m    241\u001B[0m            \u001B[0mData\u001B[0m \u001B[0mSets\u001B[0m\u001B[0;31m\"\u001B[0m\u001B[0;34m.\u001B[0m \u001B[0mPLoS\u001B[0m \u001B[0mONE\u001B[0m \u001B[0;36m9\u001B[0m\u001B[0;34m(\u001B[0m\u001B[0;36m2\u001B[0m\u001B[0;34m)\u001B[0m\u001B[0;34m,\u001B[0m \u001B[0;36m2014.\u001B[0m\u001B[0;34m\u001B[0m\u001B[0;34m\u001B[0m\u001B[0m\n\u001B[1;32m    242\u001B[0m     \"\"\"\n\u001B[0;32m--> 243\u001B[0;31m     \u001B[0mX\u001B[0m\u001B[0;34m,\u001B[0m \u001B[0my\u001B[0m \u001B[0;34m=\u001B[0m \u001B[0mcheck_X_y\u001B[0m\u001B[0;34m(\u001B[0m\u001B[0mX\u001B[0m\u001B[0;34m,\u001B[0m \u001B[0my\u001B[0m\u001B[0;34m,\u001B[0m \u001B[0maccept_sparse\u001B[0m\u001B[0;34m=\u001B[0m\u001B[0;34m'csc'\u001B[0m\u001B[0;34m,\u001B[0m \u001B[0my_numeric\u001B[0m\u001B[0;34m=\u001B[0m\u001B[0;32mnot\u001B[0m \u001B[0mdiscrete_target\u001B[0m\u001B[0;34m)\u001B[0m\u001B[0;34m\u001B[0m\u001B[0;34m\u001B[0m\u001B[0m\n\u001B[0m\u001B[1;32m    244\u001B[0m     \u001B[0mn_samples\u001B[0m\u001B[0;34m,\u001B[0m \u001B[0mn_features\u001B[0m \u001B[0;34m=\u001B[0m \u001B[0mX\u001B[0m\u001B[0;34m.\u001B[0m\u001B[0mshape\u001B[0m\u001B[0;34m\u001B[0m\u001B[0;34m\u001B[0m\u001B[0m\n\u001B[1;32m    245\u001B[0m \u001B[0;34m\u001B[0m\u001B[0m\n",
      "\u001B[0;32m/opt/anaconda3/envs/mworks/lib/python3.8/site-packages/sklearn/utils/validation.py\u001B[0m in \u001B[0;36minner_f\u001B[0;34m(*args, **kwargs)\u001B[0m\n\u001B[1;32m     61\u001B[0m             \u001B[0mextra_args\u001B[0m \u001B[0;34m=\u001B[0m \u001B[0mlen\u001B[0m\u001B[0;34m(\u001B[0m\u001B[0margs\u001B[0m\u001B[0;34m)\u001B[0m \u001B[0;34m-\u001B[0m \u001B[0mlen\u001B[0m\u001B[0;34m(\u001B[0m\u001B[0mall_args\u001B[0m\u001B[0;34m)\u001B[0m\u001B[0;34m\u001B[0m\u001B[0;34m\u001B[0m\u001B[0m\n\u001B[1;32m     62\u001B[0m             \u001B[0;32mif\u001B[0m \u001B[0mextra_args\u001B[0m \u001B[0;34m<=\u001B[0m \u001B[0;36m0\u001B[0m\u001B[0;34m:\u001B[0m\u001B[0;34m\u001B[0m\u001B[0;34m\u001B[0m\u001B[0m\n\u001B[0;32m---> 63\u001B[0;31m                 \u001B[0;32mreturn\u001B[0m \u001B[0mf\u001B[0m\u001B[0;34m(\u001B[0m\u001B[0;34m*\u001B[0m\u001B[0margs\u001B[0m\u001B[0;34m,\u001B[0m \u001B[0;34m**\u001B[0m\u001B[0mkwargs\u001B[0m\u001B[0;34m)\u001B[0m\u001B[0;34m\u001B[0m\u001B[0;34m\u001B[0m\u001B[0m\n\u001B[0m\u001B[1;32m     64\u001B[0m \u001B[0;34m\u001B[0m\u001B[0m\n\u001B[1;32m     65\u001B[0m             \u001B[0;31m# extra_args > 0\u001B[0m\u001B[0;34m\u001B[0m\u001B[0;34m\u001B[0m\u001B[0;34m\u001B[0m\u001B[0m\n",
      "\u001B[0;32m/opt/anaconda3/envs/mworks/lib/python3.8/site-packages/sklearn/utils/validation.py\u001B[0m in \u001B[0;36mcheck_X_y\u001B[0;34m(X, y, accept_sparse, accept_large_sparse, dtype, order, copy, force_all_finite, ensure_2d, allow_nd, multi_output, ensure_min_samples, ensure_min_features, y_numeric, estimator)\u001B[0m\n\u001B[1;32m    824\u001B[0m                         ensure_2d=False, dtype=None)\n\u001B[1;32m    825\u001B[0m     \u001B[0;32melse\u001B[0m\u001B[0;34m:\u001B[0m\u001B[0;34m\u001B[0m\u001B[0;34m\u001B[0m\u001B[0m\n\u001B[0;32m--> 826\u001B[0;31m         \u001B[0my\u001B[0m \u001B[0;34m=\u001B[0m \u001B[0mcolumn_or_1d\u001B[0m\u001B[0;34m(\u001B[0m\u001B[0my\u001B[0m\u001B[0;34m,\u001B[0m \u001B[0mwarn\u001B[0m\u001B[0;34m=\u001B[0m\u001B[0;32mTrue\u001B[0m\u001B[0;34m)\u001B[0m\u001B[0;34m\u001B[0m\u001B[0;34m\u001B[0m\u001B[0m\n\u001B[0m\u001B[1;32m    827\u001B[0m         \u001B[0m_assert_all_finite\u001B[0m\u001B[0;34m(\u001B[0m\u001B[0my\u001B[0m\u001B[0;34m)\u001B[0m\u001B[0;34m\u001B[0m\u001B[0;34m\u001B[0m\u001B[0m\n\u001B[1;32m    828\u001B[0m     \u001B[0;32mif\u001B[0m \u001B[0my_numeric\u001B[0m \u001B[0;32mand\u001B[0m \u001B[0my\u001B[0m\u001B[0;34m.\u001B[0m\u001B[0mdtype\u001B[0m\u001B[0;34m.\u001B[0m\u001B[0mkind\u001B[0m \u001B[0;34m==\u001B[0m \u001B[0;34m'O'\u001B[0m\u001B[0;34m:\u001B[0m\u001B[0;34m\u001B[0m\u001B[0;34m\u001B[0m\u001B[0m\n",
      "\u001B[0;32m/opt/anaconda3/envs/mworks/lib/python3.8/site-packages/sklearn/utils/validation.py\u001B[0m in \u001B[0;36minner_f\u001B[0;34m(*args, **kwargs)\u001B[0m\n\u001B[1;32m     61\u001B[0m             \u001B[0mextra_args\u001B[0m \u001B[0;34m=\u001B[0m \u001B[0mlen\u001B[0m\u001B[0;34m(\u001B[0m\u001B[0margs\u001B[0m\u001B[0;34m)\u001B[0m \u001B[0;34m-\u001B[0m \u001B[0mlen\u001B[0m\u001B[0;34m(\u001B[0m\u001B[0mall_args\u001B[0m\u001B[0;34m)\u001B[0m\u001B[0;34m\u001B[0m\u001B[0;34m\u001B[0m\u001B[0m\n\u001B[1;32m     62\u001B[0m             \u001B[0;32mif\u001B[0m \u001B[0mextra_args\u001B[0m \u001B[0;34m<=\u001B[0m \u001B[0;36m0\u001B[0m\u001B[0;34m:\u001B[0m\u001B[0;34m\u001B[0m\u001B[0;34m\u001B[0m\u001B[0m\n\u001B[0;32m---> 63\u001B[0;31m                 \u001B[0;32mreturn\u001B[0m \u001B[0mf\u001B[0m\u001B[0;34m(\u001B[0m\u001B[0;34m*\u001B[0m\u001B[0margs\u001B[0m\u001B[0;34m,\u001B[0m \u001B[0;34m**\u001B[0m\u001B[0mkwargs\u001B[0m\u001B[0;34m)\u001B[0m\u001B[0;34m\u001B[0m\u001B[0;34m\u001B[0m\u001B[0m\n\u001B[0m\u001B[1;32m     64\u001B[0m \u001B[0;34m\u001B[0m\u001B[0m\n\u001B[1;32m     65\u001B[0m             \u001B[0;31m# extra_args > 0\u001B[0m\u001B[0;34m\u001B[0m\u001B[0;34m\u001B[0m\u001B[0;34m\u001B[0m\u001B[0m\n",
      "\u001B[0;32m/opt/anaconda3/envs/mworks/lib/python3.8/site-packages/sklearn/utils/validation.py\u001B[0m in \u001B[0;36mcolumn_or_1d\u001B[0;34m(y, warn)\u001B[0m\n\u001B[1;32m    862\u001B[0m         \u001B[0;32mreturn\u001B[0m \u001B[0mnp\u001B[0m\u001B[0;34m.\u001B[0m\u001B[0mravel\u001B[0m\u001B[0;34m(\u001B[0m\u001B[0my\u001B[0m\u001B[0;34m)\u001B[0m\u001B[0;34m\u001B[0m\u001B[0;34m\u001B[0m\u001B[0m\n\u001B[1;32m    863\u001B[0m \u001B[0;34m\u001B[0m\u001B[0m\n\u001B[0;32m--> 864\u001B[0;31m     raise ValueError(\n\u001B[0m\u001B[1;32m    865\u001B[0m         \u001B[0;34m\"y should be a 1d array, \"\u001B[0m\u001B[0;34m\u001B[0m\u001B[0;34m\u001B[0m\u001B[0m\n\u001B[1;32m    866\u001B[0m         \"got an array of shape {} instead.\".format(shape))\n",
      "\u001B[0;31mValueError\u001B[0m: y should be a 1d array, got an array of shape (3502, 2) instead."
     ]
    },
    {
     "data": {
      "text/plain": "<Figure size 288x288 with 1 Axes>",
      "image/png": "[encoded data removed]"
     },
     "metadata": {},
     "output_type": "display_data"
    }
   ],
   "source": [
    "f,axes = plt.subplots(1,1,figsize=(4,4)) \n",
    "\n",
    "mi_all, mi_shuf = get_mutual_information_bootstrap(mat_data, [0,1])\n",
    "# axes[beh_idx].errorbar(range(20), np.nanmean(mi_all, axis=0), yerr=np.std(mi_all, axis=0),fmt='o')\n",
    "# axes[beh_idx].errorbar(range(20), np.nanmean(mi_shuf, axis=0), yerr=np.std(mi_shuf, axis=0),fmt='.')"
   ]
  },
  {
   "cell_type": "code",
   "execution_count": null,
   "metadata": {},
   "outputs": [],
   "source": [
    "f,axes = plt.subplots(1,2,figsize=(8,4)) \n",
    "\n",
    "for beh_idx in range(2):\n",
    "    mi_all, mi_shuf = get_mutual_information_bootstrap(mat_data, beh_idx)\n",
    "    axes[beh_idx].errorbar(range(20), np.nanmean(mi_all, axis=0), yerr=np.std(mi_all, axis=0),fmt='o')\n",
    "    axes[beh_idx].errorbar(range(20), np.nanmean(mi_shuf, axis=0), yerr=np.std(mi_shuf, axis=0),fmt='.')\n",
    "    \n",
    "#     r = [nnan_pearsonr(mat_data['x'][:,j], mat_data['y'][:,i])[0] for j in range(10)]\n",
    "#     plt.plot(r)\n",
    "    \n",
    "#     y2 = np.array(y)\n",
    "#     np.random.shuffle(y2)\n",
    "    \n",
    "    \n",
    "#     plt.plot(mi)\n",
    "#     mi = mutual_info_regression(x, y2)\n",
    "#     plt.plot(mi, '--')\n",
    "# fks = ['ball_pos_x_TRUE', 'ball_pos_y_TRUE', 'ball_pos_dx_TRUE', 'ball_pos_dy_TRUE',\n",
    "#                     't_from_start', 't_from_occ', 't_from_end']\n",
    "# plt.legend(fks)\n",
    "#     mi /= np.max(mi)"
   ]
  },
  {
   "cell_type": "markdown",
   "metadata": {},
   "source": [
    "# dimensionality of DMFC"
   ]
  },
  {
   "cell_type": "code",
   "execution_count": 13,
   "metadata": {},
   "outputs": [],
   "source": [
    "def flatten_and_mask(x_nxcxt, mask_cxtx1):\n",
    "    x_cxtxn = np.transpose(x_nxcxt, (1,2,0))\n",
    "    res_x = phys_utils.flatten_to_mat(x_cxtxn, mask_cxtx1)\n",
    "    return np.array(res_x['X'])\n",
    "\n",
    "def get_flattened_masked_data(subject_id, mask_fn):\n",
    "    dset = data_utils.load_neural_dataset(subject_id=subject_id)\n",
    "    mask = np.expand_dims(dset['masks']['occ'][mask_fn], axis=2)\n",
    "    return flatten_and_mask(dset['neural_responses_reliable']['occ'], mask)\n",
    "\n",
    "def get_pca_res_base(x_ctxn):\n",
    "    pca = PCA(n_components=None, svd_solver='full')\n",
    "    tmp = pca.fit_transform(x_ctxn)\n",
    "    eigen_vals = pca.explained_variance_\n",
    "    exp_var = pca.explained_variance_ratio_\n",
    "    pr = np.nansum(eigen_vals) ** 2 / np.nansum(eigen_vals ** 2)\n",
    "    return {'pr': pr, 'exp_var': exp_var, 'eigen_vals': eigen_vals}\n",
    "\n",
    "def shuffle_data_matrix(x):\n",
    "    x_shuf = x.flatten()\n",
    "    np.random.shuffle(x_shuf)\n",
    "    return np.reshape(x_shuf, x.shape )\n",
    "\n",
    "def get_pca_res(x_ctxn, nshuf=2):\n",
    "    res = {}\n",
    "    res['true'] = get_pca_res_base(x_ctxn)\n",
    "    res['shuf'] = []\n",
    "\n",
    "    for i in range(nshuf):\n",
    "        x_ctxn_shuf = shuffle_data_matrix(x_ctxn)\n",
    "        res['shuf'].append(get_pca_res_base(x_ctxn_shuf))\n",
    "    return res"
   ]
  },
  {
   "cell_type": "code",
   "execution_count": 18,
   "metadata": {},
   "outputs": [],
   "source": [
    "subject_id = 'all_hand_dmfc' # 'perle_hand_dmfc' # mahler_hand_dmfc50\n",
    "# subject_id = 'oleo_passive_IT'\n",
    "mask_fn = masks_to_test_suffix = 'start_end_pad0'\n",
    "timebinsize = 50\n",
    "neural_data_to_use = 'neural_responses_reliable_FactorAnalysis_50'\n",
    "condition = 'occ'\n",
    "\n",
    "figoutpath = '%s/%s%d/%s/dimensionality_%s%s/' % (figoutpath_base, subject_id, timebinsize,\n",
    "                                          neural_data_to_use, masks_to_test_suffix, condition)\n",
    "if not os.path.exists(figoutpath):\n",
    "    os.makedirs(figoutpath)"
   ]
  },
  {
   "cell_type": "code",
   "execution_count": 19,
   "metadata": {},
   "outputs": [],
   "source": [
    "x_ctxn_ = get_flattened_masked_data(subject_id, mask_fn)\n",
    "res_all = get_pca_res(x_ctxn_)\n",
    "\n",
    "res_, res_shuf_list = res_all['true'], res_all['shuf']\n",
    "ndim_lehky = [np.nonzero(res_['exp_var'] <= res_shuf['exp_var'])[0][0] for res_shuf in res_shuf_list]"
   ]
  },
  {
   "cell_type": "code",
   "execution_count": 20,
   "metadata": {},
   "outputs": [],
   "source": [
    "res_, res_shuf_list = res_all['true'], res_all['shuf']\n",
    "# scipy.io.savemat(f, {'factor_loading':transformer_.components_}, long_field_names=True)   # append"
   ]
  },
  {
   "cell_type": "code",
   "execution_count": 21,
   "outputs": [
    {
     "name": "stdout",
     "output_type": "stream",
     "text": [
      "[3.88584427e-01 1.43860565e-01 7.24124491e-02 ... 1.71903535e-06\n",
      " 1.67002725e-06 1.62660410e-06]\n"
     ]
    }
   ],
   "source": [
    "print(res_['exp_var'])"
   ],
   "metadata": {
    "collapsed": false,
    "pycharm": {
     "name": "#%%\n"
    }
   }
  },
  {
   "cell_type": "code",
   "execution_count": null,
   "outputs": [],
   "source": [
    "f,axes = plt.subplots(2,1,figsize=(5,8))\n",
    "axes[0].plot(res_['exp_var'], '-o', mec='g', mfc='w', color='g')\n",
    "for res_shuf in res_shuf_list:\n",
    "    axes[0].plot(res_shuf['exp_var'], '-.', mec=[0.5, 0.5, 0.5], mfc='w', color=[0.5, 0.5, 0.5])\n",
    "axes[0].set_xlim([-1,25])\n",
    "rr_gpu.make_axis_nice(axes[0])\n",
    "\n",
    "axes[1].plot(res_['exp_var'], '-', mec='g', mfc='w', color='g')\n",
    "rr_gpu.make_axis_nice(axes[1])\n",
    "\n",
    "f.savefig('%s/eigenvals.pdf' % figoutpath)\n"
   ],
   "metadata": {
    "collapsed": false,
    "pycharm": {
     "name": "#%%\n"
    }
   }
  },
  {
   "cell_type": "code",
   "execution_count": null,
   "metadata": {},
   "outputs": [],
   "source": [
    "figoutpath"
   ]
  },
  {
   "cell_type": "code",
   "execution_count": null,
   "metadata": {},
   "outputs": [],
   "source": [
    "# ls /om/user/rishir/figs/mpong_phys/paper_scratch_202202//mahler_hand_dmfc50/neural_responses_reliable_FactorAnalysis_50/dimensionality_start_end_pad0occ/"
   ]
  },
  {
   "cell_type": "markdown",
   "metadata": {},
   "source": [
    "# overlap between visible and occluded epochs\n"
   ]
  },
  {
   "cell_type": "code",
   "execution_count": null,
   "metadata": {},
   "outputs": [],
   "source": [
    "dset = data_utils.load_neural_dataset(subject_id=subject_id)\n",
    "mask = np.expand_dims(dset['masks']['occ'][mask_fn], axis=2)\n",
    "\n",
    "mask_vis = np.expand_dims(dset['masks']['occ']['start_occ_pad0'], axis=2)\n",
    "mask_occ = np.expand_dims(dset['masks']['occ']['occ_end_pad0'], axis=2)\n",
    "\n",
    "neur_resp = np.array(dset['neural_responses_reliable']['occ'])\n",
    "\n",
    "neur_resp_vis = flatten_and_mask(neur_resp, mask_vis)\n",
    "neur_resp_occ = flatten_and_mask(neur_resp, mask_occ)"
   ]
  },
  {
   "cell_type": "code",
   "execution_count": null,
   "metadata": {},
   "outputs": [],
   "source": [
    "plt.imshow(mask_occ[:,:,0])"
   ]
  },
  {
   "cell_type": "code",
   "execution_count": null,
   "metadata": {},
   "outputs": [],
   "source": [
    "npc = 100\n",
    "\n",
    "pca_vis = PCA(n_components=npc, svd_solver='full')\n",
    "neur_resp_vis_pca = pca_vis.fit_transform(neur_resp_vis)\n",
    "neur_resp_vis_pca_occ = pca_vis.transform(neur_resp_occ)\n",
    "\n",
    "pca_occ = PCA(n_components=npc, svd_solver='full')\n",
    "neur_resp_occ_pca = pca_occ.fit_transform(neur_resp_occ)\n",
    "neur_resp_occ_pca_vis = pca_vis.transform(neur_resp_vis)\n"
   ]
  },
  {
   "cell_type": "code",
   "execution_count": null,
   "metadata": {},
   "outputs": [],
   "source": [
    "eigen_vals = pca_vis.explained_variance_\n",
    "pr = np.nansum(eigen_vals) ** 2 / np.nansum(eigen_vals ** 2)\n",
    "print(pr)\n",
    "\n",
    "eigen_vals = pca_occ.explained_variance_\n",
    "pr = np.nansum(eigen_vals) ** 2 / np.nansum(eigen_vals ** 2)\n",
    "print(pr)"
   ]
  },
  {
   "cell_type": "code",
   "execution_count": null,
   "metadata": {},
   "outputs": [],
   "source": [
    "def get_exp_var_from_transformed_data(x):\n",
    "    exp_var = np.nanvar(x, axis=0)\n",
    "#     exp_var =  exp_var / np.sum(exp_var)\n",
    "    return exp_var, np.cumsum(exp_var)\n",
    "    \n",
    "f,axes = plt.subplots(3,2,figsize=(10,5))\n",
    "data_pairs = [\n",
    "    [neur_resp_vis_pca, neur_resp_vis_pca_occ, neur_resp_occ_pca],\n",
    "    [neur_resp_occ_pca, neur_resp_occ_pca_vis, neur_resp_vis_pca],\n",
    "]\n",
    "for di, dat_pair in enumerate(data_pairs):\n",
    "    x_aa, x_ab, x_bb = dat_pair[0], dat_pair[1], dat_pair[2]\n",
    "    exp_var_aa, cum_exp_var_aa = get_exp_var_from_transformed_data(x_aa)\n",
    "    exp_var_ab, cum_exp_var_ab = get_exp_var_from_transformed_data(x_ab)\n",
    "    exp_var_bb, cum_exp_var_bb = get_exp_var_from_transformed_data(x_bb)\n",
    "    \n",
    "    axes[0,di].plot(cum_exp_var_aa/np.nansum(cum_exp_var_aa))\n",
    "    axes[0,di].plot(cum_exp_var_ab/np.nansum(cum_exp_var_bb))\n",
    "    \n",
    "    axes[1,di].plot(exp_var_aa/np.nansum(exp_var_aa))\n",
    "    axes[1,di].plot(exp_var_ab/np.nansum(exp_var_bb))\n",
    "    \n",
    "#         axes[0,di].plot(exp_var, '-')\n",
    "#         axes[1,di].plot(cum_exp_var, '-')\n",
    "\n",
    "    \n",
    "# for x in [neur_resp_occ_pca, neur_resp_occ_pca_vis]:\n",
    "#     exp_var = np.nanvar(x, axis=0)\n",
    "#     exp_var =  exp_var / np.sum(exp_var)\n",
    "#     y = np.cumsum(exp_var)\n",
    "#     axes[1].plot(y, '-o')\n",
    "\n",
    "# axes[0].set_ylim([0,1])\n",
    "# axes[1].set_ylim([0,1])\n",
    "\n",
    "\n",
    "# f,axes = plt.subplots(1,2,figsize=(10,5))\n",
    "# x1, x2 = neur_resp_vis_pca, neur_resp_vis_pca_occ\n",
    "#     axes[0].plot(y, '-o')\n",
    "\n",
    "    \n",
    "# for x in [neur_resp_occ_pca, neur_resp_occ_pca_vis]:\n",
    "#     exp_var = np.nanvar(x, axis=0)\n",
    "#     exp_var =  exp_var / np.sum(exp_var)\n",
    "#     y = np.cumsum(exp_var)\n",
    "#     axes[1].plot(y, '-o')\n",
    "\n",
    "# axes[0].set_ylim([0,1])\n",
    "# axes[1].set_ylim([0,1])\n",
    "\n",
    "# f,axes = plt.subplots(1,2,figsize=(10,5))\n",
    "# for x in [neur_resp_vis_pca, neur_resp_vis_pca_occ]:\n",
    "#     exp_var = np.nanvar(x, axis=0)\n",
    "#     y = np.cumsum(exp_var)/np.sum(exp_var)\n",
    "#     axes[0].plot(y, '-o')\n",
    "    \n",
    "# for x in [neur_resp_occ_pca, neur_resp_occ_pca_vis]:\n",
    "#     exp_var = np.nanvar(x, axis=0)\n",
    "#     y = np.cumsum(exp_var)/np.sum(exp_var)\n",
    "#     axes[1].plot(y, '-o')\n",
    "\n",
    "\n",
    "\n"
   ]
  },
  {
   "cell_type": "code",
   "execution_count": null,
   "metadata": {},
   "outputs": [],
   "source": [
    "neur_resp_vis_pca"
   ]
  },
  {
   "cell_type": "code",
   "execution_count": null,
   "metadata": {},
   "outputs": [],
   "source": []
  }
 ],
 "metadata": {
  "kernelspec": {
   "display_name": "Python 3",
   "language": "python",
   "name": "python3"
  },
  "language_info": {
   "codemirror_mode": {
    "name": "ipython",
    "version": 3
   },
   "file_extension": ".py",
   "mimetype": "text/x-python",
   "name": "python",
   "nbconvert_exporter": "python",
   "pygments_lexer": "ipython3",
   "version": "3.6.2"
  }
 },
 "nbformat": 4,
 "nbformat_minor": 2
}
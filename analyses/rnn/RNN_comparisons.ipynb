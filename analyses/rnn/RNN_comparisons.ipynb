{
 "cells": [
  {
   "cell_type": "code",
   "execution_count": 1,
   "metadata": {},
   "outputs": [],
   "source": [
    "%matplotlib inline\n",
    "\n",
    "import matplotlib\n",
    "import matplotlib.pyplot as plt\n",
    "import seaborn as sns\n",
    "\n",
    "sns.set_style('ticks', {\"axes.linewidth\": \"1\",'axes.yaxis.grid':False})"
   ]
  },
  {
   "cell_type": "code",
   "execution_count": 2,
   "metadata": {},
   "outputs": [
    {
     "name": "stderr",
     "output_type": "stream",
     "text": [
      "/home/rishir/envs/py36/lib/python3.6/site-packages/outdated/utils.py:18: OutdatedPackageWarning: The package pingouin is out of date. Your version is 0.3.12, the latest is 0.5.1.\n",
      "Set the environment variable OUTDATED_IGNORE=1 to disable these warnings.\n",
      "  **kwargs\n"
     ]
    }
   ],
   "source": [
    "import os\n",
    "import pickle as pk\n",
    "import numpy as np\n",
    "import pandas as pd\n",
    "from phys.phys_utils import nnan_pearsonr as nnan_pearsonr\n",
    "from phys import data_utils, phys_utils\n",
    "\n",
    "from rnn_analysis import utils as analysis_utils\n",
    "from phys.plot_scripts import generic_plot_utils as rr_gpu\n",
    "from phys.plot_scripts import decoding_summary as dec_plots\n",
    "from phys.plot_scripts import rnn_comparisons_2021 as rnn_plots\n",
    "from sklearn.decomposition import PCA, FastICA, FactorAnalysis"
   ]
  },
  {
   "cell_type": "code",
   "execution_count": 3,
   "metadata": {},
   "outputs": [],
   "source": [
    "figoutpath_base = '/om/user/rishir/figs/mpong_phys/paper_scratch_202202/'"
   ]
  },
  {
   "cell_type": "code",
   "execution_count": 7,
   "metadata": {},
   "outputs": [],
   "source": [
    "fn = '/om/user/rishir/lib/MentalPong/phys/results/rnn_comparison_results/rnn_compare_all_hand_dmfc_occ_50ms_neural_responses_reliable_FactorAnalysis_50.pkl'\n",
    "dat = pk.load(open(fn, 'rb'))"
   ]
  },
  {
   "cell_type": "code",
   "execution_count": 19,
   "metadata": {},
   "outputs": [],
   "source": [
    "from scipy.stats import ttest_ind"
   ]
  },
  {
   "cell_type": "code",
   "execution_count": 15,
   "metadata": {},
   "outputs": [
    {
     "data": {
      "text/plain": [
       "array(['mov', 'sim-mov', 'vis-mov', 'vis-sim-mov'], dtype=object)"
      ]
     },
     "execution_count": 15,
     "metadata": {},
     "output_type": "execute_result"
    }
   ],
   "source": [
    "dat['summary']['loss_weight_type'].unique()"
   ]
  },
  {
   "cell_type": "code",
   "execution_count": 22,
   "metadata": {},
   "outputs": [
    {
     "data": {
      "text/plain": [
       "Ttest_indResult(statistic=-6.210114862663557, pvalue=1.4278861421440431e-08)"
      ]
     },
     "execution_count": 22,
     "metadata": {},
     "output_type": "execute_result"
    }
   ],
   "source": [
    "metricn = 'pdist_similarity_occ_end_pad0_euclidean_r_xy_n_sb'\n",
    "f1, f2 = 'mov', 'sim-mov'\n",
    "x0 = dat['summary'].query('loss_weight_type == \"%s\"' % f1)[metricn]\n",
    "x1 = dat['summary'].query('loss_weight_type == \"%s\"' % f2)[metricn]\n",
    "ttest_ind(x0, x1)"
   ]
  },
  {
   "cell_type": "code",
   "execution_count": 12,
   "metadata": {},
   "outputs": [
    {
     "data": {
      "text/plain": [
       "0      0.107102\n",
       "1      0.145436\n",
       "2      0.263376\n",
       "3      0.261741\n",
       "4      0.149182\n",
       "         ...   \n",
       "187    0.266530\n",
       "188    0.375156\n",
       "189    0.360957\n",
       "190    0.272846\n",
       "191    0.283752\n",
       "Name: pdist_similarity_occ_end_pad0_euclidean_r_xy_n_sb, Length: 192, dtype: float64"
      ]
     },
     "execution_count": 12,
     "metadata": {},
     "output_type": "execute_result"
    }
   ],
   "source": [
    "dat['summary']['pdist_similarity_occ_end_pad0_euclidean_r_xy_n_sb']"
   ]
  },
  {
   "cell_type": "code",
   "execution_count": 4,
   "metadata": {},
   "outputs": [],
   "source": [
    "def load_neural_data_base(subject_id, mask_fn, \n",
    "                          condition='occ', \n",
    "                          neural_data_to_use='neural_responses_reliable_FactorAnalysis_20'):\n",
    "    neural_data = data_utils.load_neural_dataset(subject_id=subject_id, timebinsize=50, recompute_augment=False)\n",
    "\n",
    "    condition = 'occ'\n",
    "    beh_to_decode = ['ball_pos_x_TRUE', 'ball_pos_y_TRUE', 'ball_pos_dx_TRUE', 'ball_pos_dy_TRUE',\n",
    "                    't_from_start', 't_from_occ', 't_from_end']\n",
    "\n",
    "    mask_fn_neur = mask_fn_beh = mask_fn\n",
    "    mask_neur_cxt = np.array(neural_data['masks'][condition][mask_fn_neur])\n",
    "    mask_beh_cxt = np.array(neural_data['masks'][condition][mask_fn_beh])\n",
    "\n",
    "    data_neur_nxcxt = np.array(neural_data[neural_data_to_use][condition])\n",
    "    data_beh_bxcxt = np.array([neural_data['behavioral_responses'][condition][fk] for fk in beh_to_decode])\n",
    "\n",
    "    data = {\n",
    "        'data_neur_nxcxt': data_neur_nxcxt,\n",
    "        'data_beh_bxcxt': data_beh_bxcxt,\n",
    "        'mask_neur_cxt': mask_neur_cxt,\n",
    "        'mask_beh_cxt': mask_beh_cxt,\n",
    "    }\n",
    "    return data"
   ]
  },
  {
   "cell_type": "code",
   "execution_count": 5,
   "metadata": {},
   "outputs": [],
   "source": [
    "data = load_neural_data_base('all_hand_dmfc', 'start_end_pad0')"
   ]
  },
  {
   "cell_type": "code",
   "execution_count": 6,
   "metadata": {},
   "outputs": [
    {
     "data": {
      "text/plain": [
       "dict_keys(['data_neur_nxcxt', 'data_beh_bxcxt', 'mask_neur_cxt', 'mask_beh_cxt'])"
      ]
     },
     "execution_count": 6,
     "metadata": {},
     "output_type": "execute_result"
    }
   ],
   "source": [
    "data['data_neur_nxcxt']"
   ]
  },
  {
   "cell_type": "code",
   "execution_count": null,
   "metadata": {},
   "outputs": [],
   "source": []
  }
 ],
 "metadata": {
  "kernelspec": {
   "display_name": "Python 3",
   "language": "python",
   "name": "python3"
  },
  "language_info": {
   "codemirror_mode": {
    "name": "ipython",
    "version": 3
   },
   "file_extension": ".py",
   "mimetype": "text/x-python",
   "name": "python",
   "nbconvert_exporter": "python",
   "pygments_lexer": "ipython3",
   "version": "3.6.2"
  }
 },
 "nbformat": 4,
 "nbformat_minor": 2
}

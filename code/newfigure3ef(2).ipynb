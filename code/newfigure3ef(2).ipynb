{
 "cells": [
  {
   "cell_type": "code",
   "execution_count": 1,
   "metadata": {
    "pycharm": {
     "name": "#%%\n"
    }
   },
   "outputs": [],
   "source": [
    "# %matplotlib inline\n",
    "\n",
    "import matplotlib\n",
    "import matplotlib.pyplot as plt\n",
    "import seaborn as sns\n",
    "import numpy as np\n",
    "import matplotlib.font_manager as fm\n",
    "[f.name for f in fm.fontManager.ttflist if \"Garamond\" in f.name]\n",
    "from matplotlib import rcParams\n",
    "\n",
    "sns.set_style('ticks', {\"axes.linewidth\": \"1\",'axes.yaxis.grid':False})"
   ]
  },
  {
   "cell_type": "code",
   "execution_count": 2,
   "metadata": {
    "pycharm": {
     "name": "#%%\n"
    }
   },
   "outputs": [],
   "source": [
    "# from phys.plot_scripts.decoding_summary import PlotHelper\n",
    "from utils.decoding_summary import PlotHelper"
   ]
  },
  {
   "cell_type": "code",
   "execution_count": 3,
   "metadata": {},
   "outputs": [],
   "source": [
    "from utils import generic_plot_utils as rr_gpu"
   ]
  },
  {
   "cell_type": "code",
   "execution_count": 4,
   "metadata": {},
   "outputs": [],
   "source": [
    "    def plot_decode_performance_unrolled_over_time(self, time_idx=None, compute_egocentric=False):\n",
    "\n",
    "        if compute_egocentric:  ###\n",
    "            beh_idx_mat = [6, 7]\n",
    "            file_suffix = 'egocentric'\n",
    "        else:\n",
    "            beh_idx_mat = [0, 1]\n",
    "            file_suffix = 'allocentric'\n",
    "        def plot_average_metric(res):\n",
    "            cmap = plt.get_cmap('Dark2', 8) # green, red, blue, magenta, brightGreen, yellow, 6brown, 7grey\n",
    "            f, axes = plt.subplots(1, 3, figsize=(7.5, 3))\n",
    "            for ax_i, met in enumerate(['r_mu', 'mae_mu', 'mse_mu']):\n",
    "                ax = axes[ax_i]\n",
    "                for beh_idx in beh_idx_mat: ####\n",
    "                    mu, sig = [], []\n",
    "                    x_for_stat = []\n",
    "                    for mi, mask_fn in enumerate(['start_occ_pad0', 'occ_end_pad0']):\n",
    "                        x = res[mask_fn][met][:, beh_idx]\n",
    "                        mu.append(np.nanmean(x, axis=0))\n",
    "                        sig.append(np.nanstd(x, axis=0))\n",
    "                        x_for_stat.append(x)\n",
    "\n",
    "                    # ranksums\n",
    "                    # stat_object = ranksums(x_for_stat[0],x_for_stat[1])\n",
    "                    stat_object = wilcoxon(x_for_stat[1])\n",
    "                    p_value = stat_object.pvalue\n",
    "\n",
    "                    # # permutation_test\n",
    "                    # p_value = permutation_test(x_for_stat[0],x_for_stat[1],\n",
    "                    #                            method='approximate',\n",
    "                    #                            num_rounds=1000,\n",
    "                    #                            seed=0)\n",
    "\n",
    "                    print(mu)\n",
    "                    print(sig)\n",
    "                    ax.errorbar(range(2), mu, yerr=sig, fmt='-o', mfc='w', mec=cmap(beh_idx), color=cmap(beh_idx),label=f'p={p_value:.2E}') # ,label='$\\it{p=%2.6f}$' % p_value)\n",
    "                    ax.legend()\n",
    "                    ax.set_xticks([0, 1])\n",
    "                    ax.set_xticklabels(['Visible \\n Epoch', 'Occluded \\n Epoch'])\n",
    "                    ax.set_xlim([-0.25, 1.25])\n",
    "                    if met == 'r_mu':\n",
    "                        ax.set_ylim([0, 1])\n",
    "                    else:\n",
    "                        ax.set_ylim([0, 10])\n",
    "                    rr_gpu.make_axis_nice(ax)\n",
    "\n",
    "            plt.tight_layout()\n",
    "            return f, axes\n",
    "\n",
    "        def plot_timecourse_of_error(res,subject_id):\n",
    "            f, axes = plt.subplots(1, 4, figsize=(8, 4))\n",
    "            ylim_all = [0, 7]\n",
    "            for mfi, mask_fn in enumerate(['start_occ_pad0', 'occ_end_pad0']):\n",
    "                rmse_alignstart = (res[mask_fn]['mse_t'][:, :, beh_idx_mat[0]] + res[mask_fn]['mse_t'][:, :, beh_idx_mat[1]]) ** 0.5 ####\n",
    "                rmse_alignend = (res[mask_fn]['mse_t2'][:, :, beh_idx_mat[0]] + res[mask_fn]['mse_t2'][:, :, beh_idx_mat[1]]) ** 0.5\n",
    "\n",
    "                if 'start' in mask_fn:\n",
    "                    min_timesteps = 15\n",
    "                else:\n",
    "                    min_timesteps = 14\n",
    "\n",
    "                ax = axes[mfi * 2]\n",
    "                t = np.arange(0, min_timesteps, 1)\n",
    "                ax.errorbar(t, np.nanmean(rmse_alignstart[:, t], axis=0),\n",
    "                            np.nanstd(rmse_alignstart[:, t], axis=0), fmt='-ko')\n",
    "                ax.set_ylim(ylim_all)\n",
    "                ax.axvline(0, linestyle='--', color=[0.5, 0.5, 0.5])\n",
    "                rr_gpu.make_axis_nice(ax)\n",
    "\n",
    "                np.savetxt('%s_%s_alignstart_t.csv'%(subject_id,mask_fn), t, fmt='%5.3f', delimiter=',', newline='\\n')\n",
    "                np.savetxt('%s_%s_alignstart_mean.csv'%(subject_id,mask_fn), np.nanmean(rmse_alignstart[:, t], axis=0), fmt='%5.3f', delimiter=',', newline='\\n')\n",
    "                np.savetxt('%s_%s_alignstart_std.csv'%(subject_id,mask_fn), np.nanstd(rmse_alignstart[:, t], axis=0), fmt='%5.3f', delimiter=',', newline='\\n')\n",
    "\n",
    "                ax = axes[mfi * 2 + 1]\n",
    "                t = np.arange(-min_timesteps, 0, 1)\n",
    "                ax.errorbar(t + 1, np.nanmean(rmse_alignend[:, t], axis=0),\n",
    "                            np.nanstd(rmse_alignend[:, t], axis=0), fmt='-ko')\n",
    "                ax.set_ylim(ylim_all)\n",
    "                ax.axvline(0, linestyle='--', color=[0.5, 0.5, 0.5])\n",
    "                rr_gpu.make_axis_nice(ax)\n",
    "\n",
    "                np.savetxt('%s_%s_alignend_t.csv'%(subject_id,mask_fn), t + 1, fmt='%5.3f', delimiter=',', newline='\\n')\n",
    "                np.savetxt('%s_%s_alignend_mean.csv'%(subject_id,mask_fn), np.nanmean(rmse_alignend[:, t], axis=0), fmt='%5.3f', delimiter=',', newline='\\n')\n",
    "                np.savetxt('%s_%s_alignend_std.csv'%(subject_id,mask_fn), np.nanstd(rmse_alignend[:, t], axis=0), fmt='%5.3f', delimiter=',', newline='\\n')\n",
    "\n",
    "            for i in [1, 2, 3]:\n",
    "                axes[i].axes.get_yaxis().set_visible(False)\n",
    "\n",
    "            return f, axes\n",
    "\n",
    "        res_ = self.get_metrics_unrolled_and_remasked(time_idx=time_idx)\n",
    "        print(res_.shape)\n",
    "\n",
    "        f, axes = plot_average_metric(res_)\n",
    "        outfn = '%s/%s_decode_perf_over_epochs_%s.pdf' % (self.figoutpath, self.save_prefix, file_suffix)\n",
    "        f.savefig(outfn)\n",
    "\n",
    "        f, axes = plot_timecourse_of_error(res_,self.subject_id)\n",
    "        outfn = '%s/%s_decode_perf_over_time_%s.pdf' % (self.figoutpath, self.save_prefix, file_suffix)\n",
    "        f.savefig(outfn)\n",
    "        return"
   ]
  },
  {
   "cell_type": "code",
   "execution_count": null,
   "metadata": {},
   "outputs": [],
   "source": []
  },
  {
   "cell_type": "code",
   "execution_count": 5,
   "metadata": {},
   "outputs": [
    {
     "name": "stdout",
     "output_type": "stream",
     "text": [
      "start_occ_pad0\n",
      "occ_end_pad0\n"
     ]
    }
   ],
   "source": [
    "            for mfi, mask_fn in enumerate(['start_occ_pad0', 'occ_end_pad0']):\n",
    "                print( mask_fn )"
   ]
  },
  {
   "cell_type": "code",
   "execution_count": 6,
   "metadata": {
    "pycharm": {
     "name": "#%%\n"
    },
    "scrolled": true
   },
   "outputs": [
    {
     "name": "stdout",
     "output_type": "stream",
     "text": [
      "../data//decode_all_hand_dmfc_occ_start_end_pad0_50ms_0.50_neural_responses_reliable_FactorAnalysis_50.pkl\n"
     ]
    },
    {
     "name": "stderr",
     "output_type": "stream",
     "text": [
      "/home/jcleckle/DMFC-decoder-simulation/code/utils/decoding_summary.py:149: RuntimeWarning: Mean of empty slice\n",
      "  mae_t = np.nanmean(np.abs(x_cxt - y_cxt), axis=0)\n",
      "/home/jcleckle/DMFC-decoder-simulation/code/utils/decoding_summary.py:150: RuntimeWarning: Mean of empty slice\n",
      "  mse_t = np.nanmean((x_cxt - y_cxt) ** 2, axis=0)\n",
      "/home/jcleckle/DMFC-decoder-simulation/code/utils/phys_utils.py:274: ConstantInputWarning: An input array is constant; the correlation coefficient is not defined.\n",
      "  return pearsonr(x, y)\n"
     ]
    },
    {
     "name": "stdout",
     "output_type": "stream",
     "text": [
      "[0.8967107701839062, 0.90894310929273]\n",
      "[0.01465216941824139, 0.021344804581297106]\n",
      "[0.8032656203704934, 0.8491232757763335]\n",
      "[0.034278436278089006, 0.03602634079009897]\n",
      "[0.845876695107022, 0.5415986171083789]\n",
      "[0.07052734110468871, 0.0665224635936488]\n",
      "[2.367865745528589, 2.1648622211513846]\n",
      "[0.23610011750284443, 0.2464316534223179]\n",
      "[nan, nan]\n",
      "[nan, nan]\n",
      "[nan, nan]\n",
      "[nan, nan]\n"
     ]
    },
    {
     "name": "stderr",
     "output_type": "stream",
     "text": [
      "/home/jcleckle/DMFC-decoder-simulation/code/utils/decoding_summary.py:603: RuntimeWarning: Mean of empty slice\n",
      "  mu.append(np.nanmean(x, axis=0))\n",
      "/home/jcleckle/.conda/envs/dmfc/lib/python3.9/site-packages/numpy/lib/nanfunctions.py:1879: RuntimeWarning: Degrees of freedom <= 0 for slice.\n",
      "  var = nanvar(a, axis=axis, dtype=dtype, out=out, ddof=ddof,\n",
      "/home/jcleckle/DMFC-decoder-simulation/code/utils/decoding_summary.py:603: RuntimeWarning: Mean of empty slice\n",
      "  mu.append(np.nanmean(x, axis=0))\n",
      "/home/jcleckle/.conda/envs/dmfc/lib/python3.9/site-packages/numpy/lib/nanfunctions.py:1879: RuntimeWarning: Degrees of freedom <= 0 for slice.\n",
      "  var = nanvar(a, axis=axis, dtype=dtype, out=out, ddof=ddof,\n"
     ]
    },
    {
     "data": {
      "image/png": "[encoded data removed]",
      "text/plain": [
       "<Figure size 750x300 with 3 Axes>"
      ]
     },
     "metadata": {},
     "output_type": "display_data"
    },
    {
     "data": {
      "image/png": "[encoded data removed]",
      "text/plain": [
       "<Figure size 800x400 with 4 Axes>"
      ]
     },
     "metadata": {},
     "output_type": "display_data"
    }
   ],
   "source": [
    "ph = PlotHelper(timebinsize=50,\n",
    "                subject_id='all_hand_dmfc',\n",
    "                masks_to_test_suffix='start_end_pad0',\n",
    "                condition='occ',\n",
    "                neural_data_to_use='neural_responses_reliable_FactorAnalysis_50',\n",
    "                ncomp=50)\n",
    "\n",
    "ph.load_data()\n",
    "ph.load_ground_truth_data()\n",
    "ph.get_colormap_for_decoded_variables()\n",
    "\n",
    "self = ph\n",
    "\n",
    "self.plot_decode_performance_unrolled_over_time(compute_egocentric=False)"
   ]
  },
  {
   "cell_type": "code",
   "execution_count": 7,
   "metadata": {
    "scrolled": true
   },
   "outputs": [
    {
     "name": "stderr",
     "output_type": "stream",
     "text": [
      "/home/jcleckle/DMFC-decoder-simulation/code/utils/decoding_summary.py:149: RuntimeWarning: Mean of empty slice\n",
      "  mae_t = np.nanmean(np.abs(x_cxt - y_cxt), axis=0)\n",
      "/home/jcleckle/DMFC-decoder-simulation/code/utils/decoding_summary.py:150: RuntimeWarning: Mean of empty slice\n",
      "  mse_t = np.nanmean((x_cxt - y_cxt) ** 2, axis=0)\n",
      "/home/jcleckle/DMFC-decoder-simulation/code/utils/phys_utils.py:274: ConstantInputWarning: An input array is constant; the correlation coefficient is not defined.\n",
      "  return pearsonr(x, y)\n"
     ]
    }
   ],
   "source": [
    "res_ = self.get_metrics_unrolled_and_remasked(time_idx=None)"
   ]
  },
  {
   "cell_type": "code",
   "execution_count": 8,
   "metadata": {},
   "outputs": [],
   "source": [
    "res=res_"
   ]
  },
  {
   "cell_type": "code",
   "execution_count": 9,
   "metadata": {},
   "outputs": [],
   "source": [
    " beh_idx_mat = [0, 1]"
   ]
  },
  {
   "cell_type": "code",
   "execution_count": 10,
   "metadata": {},
   "outputs": [],
   "source": [
    "subject_id='all_hand_dmfc'"
   ]
  },
  {
   "cell_type": "code",
   "execution_count": 11,
   "metadata": {},
   "outputs": [],
   "source": [
    "# f, axes = plt.subplots(2, 2, figsize=(12, 8))\n",
    "# ylim_all = [0, 7]\n",
    "\n",
    "# for mfi, mask_fn in enumerate(['start_occ_pad0', 'occ_end_pad0']):\n",
    "#     rmse_alignstart, rmes_alignend, min_timesteps = res[mask_fn]\n",
    "\n",
    "#     if 'start' in mask_fn:\n",
    "#         min_timesteps = 15\n",
    "#         baseline_mean = np.nanmean(baseline_rmse_start, axis=0)\n",
    "#     else:\n",
    "#         min_timesteps = 14\n",
    "#         baseline_mean = np.nanmean(baseline_rmse_end, axis=0)\n",
    "\n",
    "#     ax = axes[mfi * 2]\n",
    "#     t = np.arange(0, min_timesteps, 1)\n",
    "    \n",
    "#     #plot neural decoding rmse \n",
    "#     ax.errorbar(t, np.nanmean(rmse_alignstart[:, t], axis=0),\n",
    "#                 np.nanstd(rmse_alignstart[:, t], axis=0), fmt='-jo', label= \" Neural Decoding\")\n",
    "    \n",
    "#     # plot basline rmse \n",
    "#     ax.plot(t, baseline_mean, color='orange', linestyle='--')\n",
    "#     ax.set_ylim(ylim_all)\n",
    "#     ax.axvline(0, linestyle='--', color=[0.5, 0.5, 0.5])\n",
    "#     rr_gpu.make_axis_nice(ax)\n",
    "\n",
    "#     np.savetxt('%s_%s_alignstart_t.csv'%(subject_id,mask_fn), t, fmt='%5.3f', delimiter=',', newline='\\n')\n",
    "#     np.savetxt('%s_%s_alignstart_mean.csv'%(subject_id,mask_fn), np.nanmean(rmse_alignstart[:, t], axis=0), fmt='%5.3f', delimiter=',', newline='\\n')\n",
    "#     np.savetxt('%s_%s_alignstart_std.csv'%(subject_id,mask_fn), np.nanstd(rmse_alignstart[:, t], axis=0), fmt='%5.3f', delimiter=',', newline='\\n')\n",
    "\n",
    "#     ax = axes[mfi * 2 + 1]\n",
    "#     t = np.arange(-min_timesteps, 0, 1)\n",
    "#     ax.errorbar(t + 1, np.nanmean(rmse_alignend[:, t], axis=0),\n",
    "#                 np.nanstd(rmse_alignend[:, t], axis=0), fmt='-ko')\n",
    "#     ax.plot(t + 1, baseline_mean, color='orange', linestyle='--', label='Baseline')\n",
    "    \n",
    "#     ax.set_ylim(ylim_all)\n",
    "#     ax.axvline(0, linestyle='--', color=[0.5,0.5,0.5])\n",
    "#     rr_gpu.make_axis_nice(ax)\n",
    "\n",
    "#     np.savetxt('%s_%s_alignend_t.csv'%(subject_id,mask_fn), t + 1, fmt='%5.3f', delimiter=',', newline='\\n')\n",
    "#     np.savetxt('%s_%s_alignend_mean.csv'%(subject_id,mask_fn), np.nanmean(rmse_alignend[:, t], axis=0), fmt='%5.3f', delimiter=',', newline='\\n')\n",
    "#     np.savetxt('%s_%s_alignend_std.csv'%(subject_id,mask_fn), np.nanstd(rmse_alignend[:, t], axis=0), fmt='%5.3f', delimiter=',', newline='\\n')\n",
    "\n",
    "# for i in [1, 2, 3]:\n",
    "#     axes[i].axes.get_yaxis().set_visible(False)\n",
    "\n",
    "# return f, axes\n"
   ]
  },
  {
   "cell_type": "code",
   "execution_count": 12,
   "metadata": {},
   "outputs": [],
   "source": [
    "distance_matrix= np.load('distance_matrix.npy')"
   ]
  },
  {
   "cell_type": "code",
   "execution_count": 13,
   "metadata": {},
   "outputs": [],
   "source": [
    "import sys\n",
    "sys.path.append('./utils')"
   ]
  },
  {
   "cell_type": "code",
   "execution_count": 14,
   "metadata": {},
   "outputs": [],
   "source": [
    "import phys_utils\n",
    "import dataset_augment_utils\n",
    "import data_utils"
   ]
  },
  {
   "cell_type": "code",
   "execution_count": 15,
   "metadata": {},
   "outputs": [],
   "source": [
    "data = data_utils.load_neural_dataset(timebinsize=50,subject_id='all_hand_dmfc',recompute_augment=True)\n",
    "\n",
    "data_aug = dataset_augment_utils.augment_data_structure(data)"
   ]
  },
  {
   "cell_type": "code",
   "execution_count": 16,
   "metadata": {},
   "outputs": [],
   "source": [
    "mask_start_occ = data_aug['masks']['occ']['start_occ_pad0']\n",
    "mask_occ_end = data_aug['masks']['occ']['occ_end_pad0']\n"
   ]
  },
  {
   "cell_type": "code",
   "execution_count": 17,
   "metadata": {},
   "outputs": [
    {
     "data": {
      "text/plain": [
       "1.0"
      ]
     },
     "execution_count": 17,
     "metadata": {},
     "output_type": "execute_result"
    }
   ],
   "source": [
    "mask_start_occ[1,23]"
   ]
  },
  {
   "cell_type": "code",
   "execution_count": 18,
   "metadata": {},
   "outputs": [
    {
     "data": {
      "text/plain": [
       "(79, 100)"
      ]
     },
     "execution_count": 18,
     "metadata": {},
     "output_type": "execute_result"
    }
   ],
   "source": [
    "distance_matrix.shape"
   ]
  },
  {
   "cell_type": "code",
   "execution_count": 19,
   "metadata": {},
   "outputs": [],
   "source": [
    "mask_new_star_occ= ~np.isnan(mask_start_occ) "
   ]
  },
  {
   "cell_type": "code",
   "execution_count": 20,
   "metadata": {},
   "outputs": [
    {
     "data": {
      "text/plain": [
       "(79, 100)"
      ]
     },
     "execution_count": 20,
     "metadata": {},
     "output_type": "execute_result"
    }
   ],
   "source": [
    "mask_new_star_occ.shape"
   ]
  },
  {
   "cell_type": "code",
   "execution_count": 21,
   "metadata": {},
   "outputs": [],
   "source": [
    "star_occ = np.where(mask_new_star_occ,distance_matrix,np.nan) #7/18/2025"
   ]
  },
  {
   "cell_type": "code",
   "execution_count": 22,
   "metadata": {},
   "outputs": [],
   "source": [
    "a=mask_start_occ*distance_matrix #7/18/2025"
   ]
  },
  {
   "cell_type": "code",
   "execution_count": 23,
   "metadata": {},
   "outputs": [],
   "source": [
    "filtered_star_occ =star_occ[:,~np.isnan(star_occ).all(axis=0)] #7/18/2025"
   ]
  },
  {
   "cell_type": "code",
   "execution_count": 24,
   "metadata": {},
   "outputs": [
    {
     "data": {
      "text/plain": [
       "(79, 100)"
      ]
     },
     "execution_count": 24,
     "metadata": {},
     "output_type": "execute_result"
    }
   ],
   "source": [
    "star_occ.shape"
   ]
  },
  {
   "cell_type": "code",
   "execution_count": 25,
   "metadata": {},
   "outputs": [
    {
     "data": {
      "text/plain": [
       "(79, 37)"
      ]
     },
     "execution_count": 25,
     "metadata": {},
     "output_type": "execute_result"
    }
   ],
   "source": [
    "filtered_star_occ.shape"
   ]
  },
  {
   "cell_type": "code",
   "execution_count": 26,
   "metadata": {},
   "outputs": [
    {
     "name": "stderr",
     "output_type": "stream",
     "text": [
      "/tmp/ipykernel_1683441/377873161.py:2: RuntimeWarning: Mean of empty slice\n",
      "  plt.plot(np.arange(100)*50, np.nanmean(distance_matrix, axis=0))\n"
     ]
    },
    {
     "data": {
      "text/plain": [
       "Text(0, 0.5, 'Distance')"
      ]
     },
     "execution_count": 26,
     "metadata": {},
     "output_type": "execute_result"
    },
    {
     "data": {
      "image/png": "[encoded data removed]",
      "text/plain": [
       "<Figure size 800x400 with 1 Axes>"
      ]
     },
     "metadata": {},
     "output_type": "display_data"
    }
   ],
   "source": [
    "plt.figure(figsize=(8,4))\n",
    "plt.plot(np.arange(100)*50, np.nanmean(distance_matrix, axis=0))\n",
    "\n",
    "plt.xlabel('Timepoint')\n",
    "plt.ylabel('Distance')"
   ]
  },
  {
   "cell_type": "code",
   "execution_count": 27,
   "metadata": {},
   "outputs": [
    {
     "data": {
      "text/plain": [
       "array([ 6,  7,  8,  9, 10, 11, 12, 13, 14, 15, 16, 17, 18, 19, 20])"
      ]
     },
     "execution_count": 27,
     "metadata": {},
     "output_type": "execute_result"
    }
   ],
   "source": [
    "np.arange(6,6+ 15, 1)"
   ]
  },
  {
   "cell_type": "code",
   "execution_count": 28,
   "metadata": {
    "scrolled": true
   },
   "outputs": [
    {
     "name": "stderr",
     "output_type": "stream",
     "text": [
      "/tmp/ipykernel_1683441/2619927219.py:12: UserWarning: No artists with labels found to put in legend.  Note that artists whose label start with an underscore are ignored when legend() is called with no argument.\n",
      "  plt.legend()\n"
     ]
    },
    {
     "data": {
      "image/png": "[encoded data removed]",
      "text/plain": [
       "<Figure size 800x400 with 1 Axes>"
      ]
     },
     "metadata": {},
     "output_type": "display_data"
    }
   ],
   "source": [
    "#Plot the avg ball pos acroos all the conditions for each valid timestamp #7/18/2025\n",
    "plt.figure(figsize=(8, 4))\n",
    "t = np.arange(6,6+ 15, 1)\n",
    "plt.errorbar(t, np.nanmean(filtered_star_occ[:, t], axis=0),\n",
    "                            np.nanstd(filtered_star_occ[:, t], axis=0), fmt='-ko')\n",
    "\n",
    "plt.xlabel('Timepoint')\n",
    "plt.ylabel('RMSE/Distance')\n",
    "plt.title('Start of Trial')\n",
    "plt.ylim(0,8)\n",
    "plt.xlim(6,15+6)\n",
    "plt.legend()\n",
    "plt.show()"
   ]
  },
  {
   "cell_type": "code",
   "execution_count": 29,
   "metadata": {},
   "outputs": [
    {
     "name": "stderr",
     "output_type": "stream",
     "text": [
      "/tmp/ipykernel_1683441/1155953379.py:12: UserWarning: No artists with labels found to put in legend.  Note that artists whose label start with an underscore are ignored when legend() is called with no argument.\n",
      "  plt.legend()\n"
     ]
    },
    {
     "data": {
      "image/png": "[encoded data removed]",
      "text/plain": [
       "<Figure size 800x400 with 1 Axes>"
      ]
     },
     "metadata": {},
     "output_type": "display_data"
    }
   ],
   "source": [
    "#Plot the avg ball pos acroos all the conditions for each valid timestamp #7/18/2025\n",
    "plt.figure(figsize=(8,4))\n",
    "t = np.arange(13,37, 1)\n",
    "plt.errorbar(t, np.nanmean(filtered_star_occ[:, t], axis=0),\n",
    "                            np.nanstd(filtered_star_occ[:, t], axis=0), fmt='-ko')\n",
    "\n",
    "plt.xlabel('Timepoint')\n",
    "plt.ylabel('RMSE/Distance')\n",
    "plt.title('Start of Occulsion')\n",
    "plt.ylim(0,8)\n",
    "plt.xlim(13,37)\n",
    "plt.legend()\n",
    "plt.show()"
   ]
  },
  {
   "cell_type": "code",
   "execution_count": 30,
   "metadata": {},
   "outputs": [],
   "source": [
    "mask_new_occ_end= ~np.isnan(mask_occ_end)  #7/18/2025\n",
    "occ_end= np.where(mask_new_occ_end,distance_matrix,np.nan)\n",
    "filtered_occ_end =occ_end[:,~np.isnan(occ_end).all(axis=0)]"
   ]
  },
  {
   "cell_type": "code",
   "execution_count": 31,
   "metadata": {},
   "outputs": [
    {
     "data": {
      "text/plain": [
       "(79, 58)"
      ]
     },
     "execution_count": 31,
     "metadata": {},
     "output_type": "execute_result"
    }
   ],
   "source": [
    "filtered_occ_end.shape"
   ]
  },
  {
   "cell_type": "code",
   "execution_count": 32,
   "metadata": {},
   "outputs": [
    {
     "name": "stderr",
     "output_type": "stream",
     "text": [
      "/tmp/ipykernel_1683441/1227122293.py:12: UserWarning: No artists with labels found to put in legend.  Note that artists whose label start with an underscore are ignored when legend() is called with no argument.\n",
      "  plt.legend()\n"
     ]
    },
    {
     "data": {
      "image/png": "[encoded data removed]",
      "text/plain": [
       "<Figure size 800x400 with 1 Axes>"
      ]
     },
     "metadata": {},
     "output_type": "display_data"
    }
   ],
   "source": [
    "#Plot the avg ball pos acroos all the conditions for each valid timestamp #7/18/2025\n",
    "plt.figure(figsize=(8,4))\n",
    "t = np.arange(0,14, 1)\n",
    "plt.errorbar(t, np.nanmean(filtered_occ_end[:, t], axis=0),\n",
    "                            np.nanstd(filtered_occ_end[:, t], axis=0), fmt='-ko')\n",
    "\n",
    "plt.xlabel('Timepoint')\n",
    "plt.ylabel('RMSE/Distance')\n",
    "plt.title('End of Occulsion')\n",
    "plt.ylim(0,8)\n",
    "plt.xlim(0,14)\n",
    "plt.legend()\n",
    "plt.show()"
   ]
  },
  {
   "cell_type": "code",
   "execution_count": 33,
   "metadata": {
    "scrolled": false
   },
   "outputs": [
    {
     "name": "stderr",
     "output_type": "stream",
     "text": [
      "/tmp/ipykernel_1683441/3353382305.py:12: UserWarning: No artists with labels found to put in legend.  Note that artists whose label start with an underscore are ignored when legend() is called with no argument.\n",
      "  plt.legend()\n"
     ]
    },
    {
     "data": {
      "image/png": "[encoded data removed]",
      "text/plain": [
       "<Figure size 800x400 with 1 Axes>"
      ]
     },
     "metadata": {},
     "output_type": "display_data"
    }
   ],
   "source": [
    "#Plot the avg ball pos acroos all the conditions for each valid timestamp #7/18/2025\n",
    "plt.figure(figsize=(8,4))\n",
    "t = np.arange(44,58, 1)\n",
    "plt.errorbar(t, np.nanmean(filtered_occ_end[:, t], axis=0),\n",
    "                            np.nanstd(filtered_occ_end[:, t], axis=0), fmt='-ko')\n",
    "\n",
    "plt.xlabel('Timepoint')\n",
    "plt.ylabel('RMSE/Distance')\n",
    "plt.title('End of trial')\n",
    "plt.ylim(0,8)\n",
    "plt.xlim(44,58)\n",
    "plt.legend()\n",
    "plt.show()"
   ]
  },
  {
   "cell_type": "code",
   "execution_count": 34,
   "metadata": {},
   "outputs": [
    {
     "name": "stdout",
     "output_type": "stream",
     "text": [
      "['occ_end_pad0_start_decoding_mean.npy', 'distance_matrix.npy', 'occ_end_pad0_end_decoding_mean.npy', 'start_occ_pad0_end_decoding_mean.npy', 'start_occ_pad0_start_decoding_mean.npy']\n"
     ]
    }
   ],
   "source": [
    "import os\n",
    "print([f for f in os.listdir() if f.endswith('.npy')])"
   ]
  },
  {
   "cell_type": "code",
   "execution_count": 35,
   "metadata": {},
   "outputs": [
    {
     "name": "stdout",
     "output_type": "stream",
     "text": [
      "['all_hand_dmfc_occ_end_pad0_alignend_mean.csv', 'all_hand_dmfc_ego_start_occ_pad0_alignstart_mean.csv', 'all_hand_dmfc_occ_end_pad0_alignstart_mean.csv', 'all_hand_dmfc_ego_start_occ_pad0_alignend_mean.csv', 'all_hand_dmfc_start_occ_pad0_alignstart_mean.csv', 'all_hand_dmfc_ego_occ_end_pad0_alignstart_mean.csv', 'all_hand_dmfc_ego_occ_end_pad0_alignend_mean.csv', 'all_hand_dmfc_start_occ_pad0_alignend_mean.csv']\n"
     ]
    }
   ],
   "source": [
    "import os\n",
    "print([f for f in os.listdir() if 'mean.csv' in f])"
   ]
  },
  {
   "cell_type": "code",
   "execution_count": null,
   "metadata": {},
   "outputs": [],
   "source": [
    "\n"
   ]
  },
  {
   "cell_type": "code",
   "execution_count": 36,
   "metadata": {},
   "outputs": [],
   "source": [
    "time_idx = None\n",
    "subject_id = 'all_hand_dmfc'"
   ]
  },
  {
   "cell_type": "code",
   "execution_count": 37,
   "metadata": {},
   "outputs": [
    {
     "name": "stderr",
     "output_type": "stream",
     "text": [
      "/tmp/ipykernel_1683441/1647952656.py:22: RuntimeWarning: Mean of empty slice\n",
      "  decoding_mean_end = np.nanmean(rmse_alignend[:, t_end], axis=0)\n"
     ]
    }
   ],
   "source": [
    "#load and save code decoding_mean \n",
    "time_vectors_map = {\n",
    "    'start_occ_pad0': {\n",
    "        'start': np.arange(6, 6 + 15,1),\n",
    "        'end': np.arange(13, 37,1)\n",
    "    },\n",
    "    'occ_end_pad0': {\n",
    "        'start': np.arange(0, 14,1),\n",
    "        'end': np.arange(44, 58,1)\n",
    "    }\n",
    "}\n",
    "\n",
    "\n",
    "for mfi, mask_fn in enumerate(['start_occ_pad0', 'occ_end_pad0']):\n",
    "    rmse_alignstart = (res[mask_fn]['mse_t'][:, :, beh_idx_mat[0]] + res[mask_fn]['mse_t'][:, :, beh_idx_mat[1]]) ** 0.5 ####\n",
    "    rmse_alignend = (res[mask_fn]['mse_t2'][:, :, beh_idx_mat[0]] + res[mask_fn]['mse_t2'][:, :, beh_idx_mat[1]]) ** 0.5\n",
    "    \n",
    "    t_start = time_vectors_map[mask_fn]['start']\n",
    "    t_end = time_vectors_map[mask_fn]['end']\n",
    "    \n",
    "    decoding_mean_start = np.nanmean(rmse_alignstart[:, t_start], axis=0)\n",
    "    decoding_mean_end = np.nanmean(rmse_alignend[:, t_end], axis=0)\n",
    "    \n",
    "    np.save(f\"{mask_fn}_start_decoding_mean.npy\", decoding_mean_start)\n",
    "    np.save(f\"{mask_fn}_end_decoding_mean.npy\", decoding_mean_end)"
   ]
  },
  {
   "cell_type": "code",
   "execution_count": 38,
   "metadata": {},
   "outputs": [],
   "source": [
    "# decoding_start = np.loadtxt(\"all_hand_dmfc_start_occ_pad0_alignstart_mean.csv\", delimiter=',')\n",
    "# decoding_end = np.loadtxt(\"all_hand_dmfc_occ_end_pad0_alignstart_mean.csv\", delimiter=',')\n",
    "\n",
    "\n",
    "# f, axes = plt.subplots(2,2, figsize=(12,8))  #7/21/2025 \n",
    "# ylim_all = [0, 7]\n",
    "\n",
    "\n",
    "# # first 15 seconds\n",
    "# t1 = np.arange(6,6+15)\n",
    "# baseline1 = np.nanmean(filtered_star_occ[:, t1], axis=0)\n",
    "# axes[0,0].plot(t1, baseline1, 'bo-', label='baseline' , color='orange')\n",
    "# axes[0,0].plot(t1, decoding_start[:15], 'ko-', label='neural decoding')\n",
    "# axes[0,0].set_title(\"Start of Trial\")\n",
    "# axes[0,0].set_ylim(ylim_all)\n",
    "\n",
    "# # occlusion beginning \n",
    "# t2 = np.arange(13,37)\n",
    "# baseline2= np.nanmean(filtered_star_occ[:, t2], axis=0)\n",
    "# axes[0,1].plot(np.arange(0,14), baseline2[-14:],'bo-', color='orange', label='baseline')\n",
    "# axes[0,1].plot(np.arange(0,14), decoding_start[-14:],'ko-' , label='neural Decoding') \n",
    "# axes[0,1].set_title(\"Beginning of Occculsion\") \n",
    "# axes[0,1].set_ylim(ylim_all)\n",
    "\n",
    "# t3 = np.arange(0,14, 1)\n",
    "# baseline3= np.nanmean(filtered_occ_end[:, t3], axis=0)\n",
    "# axes[1,0].plot(t3,baseline3, 'bo-', color='orange', label='baseline')\n",
    "# axes[1,0].plot(t3,decoding_end[:14],'ko-' , label='neural decoding')\n",
    "# axes[1,0].set_title(\"End of Occculsion\") \n",
    "# axes[1,0].set_ylim(ylim_all)\n",
    "\n",
    "# t4 = np.arange(44,58,1)\n",
    "# baseline4= np.nanmean(filtered_occ_end[:, t4], axis=0)\n",
    "# axes[1,1].plot(np.arange(0,14), baseline4, 'bo-', color='orange', label='bseline')\n",
    "# axes[1,1].plot(np.arange(0,14), decoding_end[-14:],'ko-' , label='neural decoding') \n",
    "# axes[1,1].set_title(\"End of Trial\") \n",
    "# axes[1,1].set_ylim(ylim_all)\n",
    "\n",
    "# for ax in axes.flat: \n",
    "#     ax.set_xlabel(\"Timepoint\")\n",
    "#     ax.set_ylabel(\"RMSE\") \n",
    "#     ax.legend()\n",
    "#     ax.axvline(0, linestyle='--', color=[0.1,0.7,0.3])\n",
    "#     rr_gpu.make_axis_nice(ax)\n",
    "\n",
    "# plt.tight_layout()\n",
    "# plt.show()\n",
    "\n",
    "# fig, axs = plt.subplots(2, 2, figsize=(12, 8))\n",
    "\n",
    "# for i in range(4):\n",
    "#     ax = axs[i // 2, i % 2]\n",
    "\n",
    "#     mfi = i // 2\n",
    "#     is_start = (i % 2 == 0)\n",
    "\n",
    "#     mask_fn = ['start_occ_pad0', 'occ_end_pad0'][mfi]\n",
    "\n",
    "#     # Extract RMSE decoding arrays for this mask\n",
    "#     rmse_start = (res[mask_fn]['mse_t'][:, :, beh_idx_mat[0]] + res[mask_fn]['mse_t'][:, :, beh_idx_mat[1]]) ** 0.5\n",
    "#     rmse_end = (res[mask_fn]['mse_t2'][:, :, beh_idx_mat[0]] + res[mask_fn]['mse_t2'][:, :, beh_idx_mat[1]]) ** 0.5\n",
    "    \n",
    "#     t_vec = time_vectors_map[mask_fn]['start'] if is_start else time_vectors_map[mask_fn]['end']\n",
    "    \n",
    "#     decoding_mean = np.load(f\"{mask_fn}_{'start' if is_start else 'end'}_decoding_mean.npy\")\n",
    "#     baseline = np.nanmean(filtered_star_occ[:, t_vec], axis=0) if is_start else np.nanmean(filtered_occ_end[:, t_vec], axis=0)\n",
    "\n",
    "#     min_timesteps = 15 if 'start' in mask_fn else 14\n",
    "\n",
    "   \n",
    "#     ax.plot(t_vec, decoding_mean, label='Neural decoding', color='purple')\n",
    "#     ax.plot(t_vec, baseline, label='Baseline', color='orange', linestyle='--')\n",
    "\n",
    "#     ax.set_xlabel('Time (ms)')\n",
    "#     ax.set_ylabel('RMSE')\n",
    "#     ax.set_ylim(ylim_all)\n",
    "#     ax.axvline(0, linestyle='--', color='gray')\n",
    "#     ax.legend()\n",
    "#     rr_gpu.make_axis_nice(ax)\n",
    "\n",
    "# plt.tight_layout()\n",
    "# plt.show()\n",
    "\n",
    "\n",
    "\n"
   ]
  },
  {
   "cell_type": "code",
   "execution_count": 39,
   "metadata": {
    "scrolled": true
   },
   "outputs": [
    {
     "data": {
      "image/png": "[encoded data removed]",
      "text/plain": [
       "<Figure size 1026x962 with 4 Axes>"
      ]
     },
     "metadata": {},
     "output_type": "display_data"
    }
   ],
   "source": [
    "font_path = 'EB_Garamond/EBGaramond-VariableFont_wght.ttf'\n",
    "eb_garamond = fm.FontProperties(fname=font_path)\n",
    "\n",
    "f, axes = plt.subplots(1, 4, figsize=(10.26, 9.62))\n",
    "ylim_all = [0, 7]\n",
    "subplot_titles = [\n",
    "    'start-> +15 samples',\n",
    "    '-14 samples-> occlusion onset',\n",
    "    'occlusion onset-> +14',\n",
    "    '-14 samples-> trial end'\n",
    "]\n",
    "\n",
    "for ax, title in zip(axes.flat, subplot_titles):\n",
    "    ax.set_title(title, fontsize=40, pad=12)\n",
    "\n",
    "for mfi, mask_fn in enumerate(['start_occ_pad0', 'occ_end_pad0']):\n",
    "    rmse_alignstart = (res[mask_fn]['mse_t'][:, :, beh_idx_mat[0]] +\n",
    "                       res[mask_fn]['mse_t'][:, :, beh_idx_mat[1]]) ** 0.5\n",
    "    rmse_alignend = (res[mask_fn]['mse_t2'][:, :, beh_idx_mat[0]] +\n",
    "                     res[mask_fn]['mse_t2'][:, :, beh_idx_mat[1]]) ** 0.5\n",
    "\n",
    "    min_timesteps = 15 if 'start' in mask_fn else 14\n",
    "\n",
    "    # === START-ALIGNED ===\n",
    "    ax = axes[mfi * 2]\n",
    "    t_start = np.arange(0, min_timesteps)\n",
    "\n",
    "    ax.errorbar(t_start,\n",
    "                np.nanmean(rmse_alignstart[:, t_start], axis=0),\n",
    "                np.nanstd(rmse_alignstart[:, t_start], axis=0),\n",
    "                fmt='-mo', label='Neural Decoding')\n",
    "\n",
    "    if 'start' in mask_fn:\n",
    "        baseline_start = np.nanmean(filtered_star_occ[:, t_start], axis=0)\n",
    "    else:\n",
    "        baseline_start = np.nanmean(filtered_occ_end[:, t_start], axis=0)\n",
    "\n",
    "    ax.plot(t_start, baseline_start, '--o', color='orange', label='Baseline')\n",
    "\n",
    "    ax.set_ylim(ylim_all)\n",
    "    ax.set_xlim([0, 15])  # Make sure tick 15 shows\n",
    "    ax.set_xticks([0, 5, 10, 15])\n",
    "    ax.set_xticklabels(['0', '5', '10', '15'])\n",
    "    ax.axvline(0, linestyle='--', color='gray')\n",
    "\n",
    "    ax.set_title(subplot_titles[mfi * 2], fontproperties=eb_garamond, fontsize=17)\n",
    "    ax.tick_params(axis='both', labelsize=20)\n",
    "\n",
    "    # Format tick labels\n",
    "    for label in ax.get_xticklabels() + ax.get_yticklabels():\n",
    "        label.set_fontproperties(eb_garamond)\n",
    "        label.set_weight('bold')\n",
    "        label.set_fontsize(15)\n",
    "\n",
    "    if mfi == 0:\n",
    "        ax.set_ylabel('RMSE', fontproperties=eb_garamond, fontsize=28)\n",
    "\n",
    "    ax.legend(prop=eb_garamond, fontsize=16)\n",
    "\n",
    "    # === END-ALIGNED ===\n",
    "    ax = axes[mfi * 2 + 1]\n",
    "    t_end = np.arange(0, min_timesteps)\n",
    "\n",
    "    ax.errorbar(t_end - min_timesteps + 1,\n",
    "                np.nanmean(rmse_alignend[:, -min_timesteps:], axis=0),\n",
    "                np.nanstd(rmse_alignend[:, -min_timesteps:], axis=0),\n",
    "                fmt='-mo', label='Neural Decoding')\n",
    "\n",
    "    if 'start' in mask_fn:\n",
    "        baseline_end = np.nanmean(filtered_star_occ[:, -min_timesteps:], axis=0)\n",
    "    else:\n",
    "        baseline_end = np.nanmean(filtered_occ_end[:, -min_timesteps:], axis=0)\n",
    "\n",
    "    ax.plot(t_end - min_timesteps + 1, baseline_end, '--o', color='orange', label='Baseline')\n",
    "\n",
    "    ax.set_ylim(ylim_all)\n",
    "    ax.set_xlim([-14, 0])\n",
    "    ax.set_xticks([-15, -10, -5, 0])\n",
    "    ax.set_xticklabels(['-15', '-10', '-5', '0'])\n",
    "    ax.axvline(0, linestyle='--', color='gray')\n",
    "\n",
    "    ax.set_title(subplot_titles[mfi * 2 + 1], fontproperties=eb_garamond, fontsize=17)\n",
    "    ax.set_xlabel('Time (samples)', fontproperties=eb_garamond, fontsize=28)\n",
    "    ax.tick_params(axis='both', labelsize=20)\n",
    "\n",
    "    for label in ax.get_xticklabels() + ax.get_yticklabels():\n",
    "        label.set_fontproperties(eb_garamond)\n",
    "        label.set_weight('bold')\n",
    "        label.set_fontsize(15)\n",
    "\n",
    "    if mfi == 0:\n",
    "        ax.set_ylabel('RMSE', fontproperties=eb_garamond, fontsize=28)\n",
    "\n",
    "    ax.legend(prop=eb_garamond, fontsize=16)\n",
    "\n",
    "# Hide y-axis on right 3 plots\n",
    "for i in [1, 2, 3]:\n",
    "    axes[i].get_yaxis().set_visible(False)\n",
    "\n",
    "plt.tight_layout()\n",
    "plt.savefig(\"decoded_vs_basline.png\", dpi=300, bbox_inches='tight')\n",
    "plt.show()\n",
    "\n"
   ]
  },
  {
   "cell_type": "code",
   "execution_count": 40,
   "metadata": {},
   "outputs": [
    {
     "name": "stdout",
     "output_type": "stream",
     "text": [
      "{'r_t': array([[[nan, nan, nan, ..., nan, nan, nan],\n",
      "        [nan, nan, nan, ..., nan, nan, nan],\n",
      "        [nan, nan, nan, ..., nan, nan, nan],\n",
      "        ...,\n",
      "        [nan, nan, nan, ..., nan, nan, nan],\n",
      "        [nan, nan, nan, ..., nan, nan, nan],\n",
      "        [nan, nan, nan, ..., nan, nan, nan]],\n",
      "\n",
      "       [[nan, nan, nan, ..., nan, nan, nan],\n",
      "        [nan, nan, nan, ..., nan, nan, nan],\n",
      "        [nan, nan, nan, ..., nan, nan, nan],\n",
      "        ...,\n",
      "        [nan, nan, nan, ..., nan, nan, nan],\n",
      "        [nan, nan, nan, ..., nan, nan, nan],\n",
      "        [nan, nan, nan, ..., nan, nan, nan]],\n",
      "\n",
      "       [[nan, nan, nan, ..., nan, nan, nan],\n",
      "        [nan, nan, nan, ..., nan, nan, nan],\n",
      "        [nan, nan, nan, ..., nan, nan, nan],\n",
      "        ...,\n",
      "        [nan, nan, nan, ..., nan, nan, nan],\n",
      "        [nan, nan, nan, ..., nan, nan, nan],\n",
      "        [nan, nan, nan, ..., nan, nan, nan]],\n",
      "\n",
      "       ...,\n",
      "\n",
      "       [[nan, nan, nan, ..., nan, nan, nan],\n",
      "        [nan, nan, nan, ..., nan, nan, nan],\n",
      "        [nan, nan, nan, ..., nan, nan, nan],\n",
      "        ...,\n",
      "        [nan, nan, nan, ..., nan, nan, nan],\n",
      "        [nan, nan, nan, ..., nan, nan, nan],\n",
      "        [nan, nan, nan, ..., nan, nan, nan]],\n",
      "\n",
      "       [[nan, nan, nan, ..., nan, nan, nan],\n",
      "        [nan, nan, nan, ..., nan, nan, nan],\n",
      "        [nan, nan, nan, ..., nan, nan, nan],\n",
      "        ...,\n",
      "        [nan, nan, nan, ..., nan, nan, nan],\n",
      "        [nan, nan, nan, ..., nan, nan, nan],\n",
      "        [nan, nan, nan, ..., nan, nan, nan]],\n",
      "\n",
      "       [[nan, nan, nan, ..., nan, nan, nan],\n",
      "        [nan, nan, nan, ..., nan, nan, nan],\n",
      "        [nan, nan, nan, ..., nan, nan, nan],\n",
      "        ...,\n",
      "        [nan, nan, nan, ..., nan, nan, nan],\n",
      "        [nan, nan, nan, ..., nan, nan, nan],\n",
      "        [nan, nan, nan, ..., nan, nan, nan]]]), 'mae_t': array([[[1.60041157, 4.18460208, 0.04382327, ..., 5.00519341,\n",
      "         4.60215952, 4.97793185],\n",
      "        [1.59068729, 3.87550464, 0.04736218, ..., 5.0756691 ,\n",
      "         4.19994422, 5.05018605],\n",
      "        [1.6757339 , 4.10973339, 0.04454622, ..., 4.9463431 ,\n",
      "         4.76963775, 4.6744446 ],\n",
      "        ...,\n",
      "        [       nan,        nan,        nan, ...,        nan,\n",
      "                nan,        nan],\n",
      "        [       nan,        nan,        nan, ...,        nan,\n",
      "                nan,        nan],\n",
      "        [       nan,        nan,        nan, ...,        nan,\n",
      "                nan,        nan]],\n",
      "\n",
      "       [[1.74002042, 4.45583436, 0.04687991, ..., 4.10742157,\n",
      "         4.7837421 , 4.18129907],\n",
      "        [1.69058941, 4.37881394, 0.05105422, ..., 4.27241431,\n",
      "         4.46606436, 4.29923125],\n",
      "        [1.67701929, 4.35322245, 0.05053752, ..., 4.08764661,\n",
      "         4.6548255 , 4.10715707],\n",
      "        ...,\n",
      "        [       nan,        nan,        nan, ...,        nan,\n",
      "                nan,        nan],\n",
      "        [       nan,        nan,        nan, ...,        nan,\n",
      "                nan,        nan],\n",
      "        [       nan,        nan,        nan, ...,        nan,\n",
      "                nan,        nan]],\n",
      "\n",
      "       [[1.62312439, 3.70135792, 0.04486546, ..., 4.83946934,\n",
      "         4.19265967, 4.39654569],\n",
      "        [1.54288459, 3.82086149, 0.04644158, ..., 4.82343876,\n",
      "         3.98178638, 4.38000995],\n",
      "        [1.66258788, 3.90293984, 0.04559985, ..., 5.00869448,\n",
      "         4.29564833, 4.29388519],\n",
      "        ...,\n",
      "        [       nan,        nan,        nan, ...,        nan,\n",
      "                nan,        nan],\n",
      "        [       nan,        nan,        nan, ...,        nan,\n",
      "                nan,        nan],\n",
      "        [       nan,        nan,        nan, ...,        nan,\n",
      "                nan,        nan]],\n",
      "\n",
      "       ...,\n",
      "\n",
      "       [[1.70179031, 4.17237759, 0.05136276, ..., 4.66997527,\n",
      "         4.32900816, 4.07975004],\n",
      "        [1.63149819, 4.07154699, 0.05200758, ..., 4.42452138,\n",
      "         3.9315507 , 4.17257758],\n",
      "        [1.66860091, 4.382197  , 0.05644475, ..., 4.42225083,\n",
      "         4.29717833, 4.30090246],\n",
      "        ...,\n",
      "        [       nan,        nan,        nan, ...,        nan,\n",
      "                nan,        nan],\n",
      "        [       nan,        nan,        nan, ...,        nan,\n",
      "                nan,        nan],\n",
      "        [       nan,        nan,        nan, ...,        nan,\n",
      "                nan,        nan]],\n",
      "\n",
      "       [[1.63086654, 4.51697299, 0.05409803, ..., 3.82051217,\n",
      "         4.54842321, 3.66330292],\n",
      "        [1.71123235, 4.32890774, 0.05659255, ..., 4.00293838,\n",
      "         4.24939514, 3.89003961],\n",
      "        [1.71162039, 4.59739399, 0.05571191, ..., 3.88635183,\n",
      "         4.70492835, 3.71112425],\n",
      "        ...,\n",
      "        [       nan,        nan,        nan, ...,        nan,\n",
      "                nan,        nan],\n",
      "        [       nan,        nan,        nan, ...,        nan,\n",
      "                nan,        nan],\n",
      "        [       nan,        nan,        nan, ...,        nan,\n",
      "                nan,        nan]],\n",
      "\n",
      "       [[1.79096634, 4.67034992, 0.05061733, ..., 4.20193169,\n",
      "         4.98280047, 3.88619811],\n",
      "        [1.77787825, 4.56885643, 0.05757892, ..., 4.15563972,\n",
      "         4.88489317, 3.95398776],\n",
      "        [1.69871104, 4.81784245, 0.05478959, ..., 4.26406104,\n",
      "         5.00105666, 3.83938365],\n",
      "        ...,\n",
      "        [       nan,        nan,        nan, ...,        nan,\n",
      "                nan,        nan],\n",
      "        [       nan,        nan,        nan, ...,        nan,\n",
      "                nan,        nan],\n",
      "        [       nan,        nan,        nan, ...,        nan,\n",
      "                nan,        nan]]]), 'mse_t': array([[[3.70696757e+00, 2.44650312e+01, 3.28944367e-03, ...,\n",
      "         3.27694929e+01, 3.01975768e+01, 3.54004268e+01],\n",
      "        [3.73438042e+00, 2.25020668e+01, 3.41303022e-03, ...,\n",
      "         3.36599399e+01, 2.50154088e+01, 3.45856771e+01],\n",
      "        [3.87815373e+00, 2.40216747e+01, 3.19475690e-03, ...,\n",
      "         3.20626800e+01, 3.06763837e+01, 3.14172453e+01],\n",
      "        ...,\n",
      "        [           nan,            nan,            nan, ...,\n",
      "                    nan,            nan,            nan],\n",
      "        [           nan,            nan,            nan, ...,\n",
      "                    nan,            nan,            nan],\n",
      "        [           nan,            nan,            nan, ...,\n",
      "                    nan,            nan,            nan]],\n",
      "\n",
      "       [[4.36762423e+00, 2.64941655e+01, 3.53456723e-03, ...,\n",
      "         2.41438882e+01, 3.02083524e+01, 2.77593626e+01],\n",
      "        [3.99995008e+00, 2.56333941e+01, 3.89225907e-03, ...,\n",
      "         2.49438607e+01, 2.63660778e+01, 2.96603476e+01],\n",
      "        [4.00767217e+00, 2.59860176e+01, 3.70604963e-03, ...,\n",
      "         2.56087920e+01, 2.80732193e+01, 2.81794831e+01],\n",
      "        ...,\n",
      "        [           nan,            nan,            nan, ...,\n",
      "                    nan,            nan,            nan],\n",
      "        [           nan,            nan,            nan, ...,\n",
      "                    nan,            nan,            nan],\n",
      "        [           nan,            nan,            nan, ...,\n",
      "                    nan,            nan,            nan]],\n",
      "\n",
      "       [[3.91698896e+00, 2.19862239e+01, 3.59918860e-03, ...,\n",
      "         3.08993840e+01, 2.50076065e+01, 2.89588346e+01],\n",
      "        [3.52045428e+00, 2.29691091e+01, 3.48143918e-03, ...,\n",
      "         3.01883151e+01, 2.23577821e+01, 2.82634275e+01],\n",
      "        [3.87438409e+00, 2.27730551e+01, 3.76885056e-03, ...,\n",
      "         3.23168390e+01, 2.51120945e+01, 3.01878886e+01],\n",
      "        ...,\n",
      "        [           nan,            nan,            nan, ...,\n",
      "                    nan,            nan,            nan],\n",
      "        [           nan,            nan,            nan, ...,\n",
      "                    nan,            nan,            nan],\n",
      "        [           nan,            nan,            nan, ...,\n",
      "                    nan,            nan,            nan]],\n",
      "\n",
      "       ...,\n",
      "\n",
      "       [[4.42670278e+00, 2.40403392e+01, 5.50402485e-03, ...,\n",
      "         2.76414200e+01, 2.76892487e+01, 2.63768059e+01],\n",
      "        [3.93690012e+00, 2.26983817e+01, 5.32792661e-03, ...,\n",
      "         2.44998118e+01, 2.45626974e+01, 2.86310640e+01],\n",
      "        [4.11434945e+00, 2.59355219e+01, 5.98522329e-03, ...,\n",
      "         2.54457740e+01, 2.99942539e+01, 2.74088174e+01],\n",
      "        ...,\n",
      "        [           nan,            nan,            nan, ...,\n",
      "                    nan,            nan,            nan],\n",
      "        [           nan,            nan,            nan, ...,\n",
      "                    nan,            nan,            nan],\n",
      "        [           nan,            nan,            nan, ...,\n",
      "                    nan,            nan,            nan]],\n",
      "\n",
      "       [[3.58554252e+00, 2.97145258e+01, 5.21415638e-03, ...,\n",
      "         1.92512721e+01, 3.24748758e+01, 2.13263921e+01],\n",
      "        [3.96503491e+00, 2.77833898e+01, 5.40569429e-03, ...,\n",
      "         2.12311882e+01, 2.88021466e+01, 2.37569114e+01],\n",
      "        [4.08015145e+00, 2.94446146e+01, 5.42906158e-03, ...,\n",
      "         2.19462596e+01, 3.17718111e+01, 2.24743347e+01],\n",
      "        ...,\n",
      "        [           nan,            nan,            nan, ...,\n",
      "                    nan,            nan,            nan],\n",
      "        [           nan,            nan,            nan, ...,\n",
      "                    nan,            nan,            nan],\n",
      "        [           nan,            nan,            nan, ...,\n",
      "                    nan,            nan,            nan]],\n",
      "\n",
      "       [[5.18734598e+00, 3.00960936e+01, 3.62047002e-03, ...,\n",
      "         2.31553839e+01, 3.19840481e+01, 2.41350633e+01],\n",
      "        [5.05690268e+00, 2.89692457e+01, 4.24350154e-03, ...,\n",
      "         2.41640028e+01, 3.04962191e+01, 2.50105763e+01],\n",
      "        [4.56591390e+00, 3.08728496e+01, 3.96145686e-03, ...,\n",
      "         2.53318466e+01, 3.21907460e+01, 2.40304627e+01],\n",
      "        ...,\n",
      "        [           nan,            nan,            nan, ...,\n",
      "                    nan,            nan,            nan],\n",
      "        [           nan,            nan,            nan, ...,\n",
      "                    nan,            nan,            nan],\n",
      "        [           nan,            nan,            nan, ...,\n",
      "                    nan,            nan,            nan]]]), 'r_t2': array([[[nan, nan, nan, ..., nan, nan, nan],\n",
      "        [nan, nan, nan, ..., nan, nan, nan],\n",
      "        [nan, nan, nan, ..., nan, nan, nan],\n",
      "        ...,\n",
      "        [nan, nan, nan, ..., nan, nan, nan],\n",
      "        [nan, nan, nan, ..., nan, nan, nan],\n",
      "        [nan, nan, nan, ..., nan, nan, nan]],\n",
      "\n",
      "       [[nan, nan, nan, ..., nan, nan, nan],\n",
      "        [nan, nan, nan, ..., nan, nan, nan],\n",
      "        [nan, nan, nan, ..., nan, nan, nan],\n",
      "        ...,\n",
      "        [nan, nan, nan, ..., nan, nan, nan],\n",
      "        [nan, nan, nan, ..., nan, nan, nan],\n",
      "        [nan, nan, nan, ..., nan, nan, nan]],\n",
      "\n",
      "       [[nan, nan, nan, ..., nan, nan, nan],\n",
      "        [nan, nan, nan, ..., nan, nan, nan],\n",
      "        [nan, nan, nan, ..., nan, nan, nan],\n",
      "        ...,\n",
      "        [nan, nan, nan, ..., nan, nan, nan],\n",
      "        [nan, nan, nan, ..., nan, nan, nan],\n",
      "        [nan, nan, nan, ..., nan, nan, nan]],\n",
      "\n",
      "       ...,\n",
      "\n",
      "       [[nan, nan, nan, ..., nan, nan, nan],\n",
      "        [nan, nan, nan, ..., nan, nan, nan],\n",
      "        [nan, nan, nan, ..., nan, nan, nan],\n",
      "        ...,\n",
      "        [nan, nan, nan, ..., nan, nan, nan],\n",
      "        [nan, nan, nan, ..., nan, nan, nan],\n",
      "        [nan, nan, nan, ..., nan, nan, nan]],\n",
      "\n",
      "       [[nan, nan, nan, ..., nan, nan, nan],\n",
      "        [nan, nan, nan, ..., nan, nan, nan],\n",
      "        [nan, nan, nan, ..., nan, nan, nan],\n",
      "        ...,\n",
      "        [nan, nan, nan, ..., nan, nan, nan],\n",
      "        [nan, nan, nan, ..., nan, nan, nan],\n",
      "        [nan, nan, nan, ..., nan, nan, nan]],\n",
      "\n",
      "       [[nan, nan, nan, ..., nan, nan, nan],\n",
      "        [nan, nan, nan, ..., nan, nan, nan],\n",
      "        [nan, nan, nan, ..., nan, nan, nan],\n",
      "        ...,\n",
      "        [nan, nan, nan, ..., nan, nan, nan],\n",
      "        [nan, nan, nan, ..., nan, nan, nan],\n",
      "        [nan, nan, nan, ..., nan, nan, nan]]]), 'mae_t2': array([[[       nan,        nan,        nan, ...,        nan,\n",
      "                nan,        nan],\n",
      "        [       nan,        nan,        nan, ...,        nan,\n",
      "                nan,        nan],\n",
      "        [       nan,        nan,        nan, ...,        nan,\n",
      "                nan,        nan],\n",
      "        ...,\n",
      "        [0.61125968, 1.8455985 , 0.02910107, ..., 1.96267144,\n",
      "         3.04139054, 2.48544338],\n",
      "        [0.58360593, 2.09262288, 0.02675148, ..., 2.06813133,\n",
      "         3.13738805, 2.76589773],\n",
      "        [0.5401319 , 1.97277789, 0.02972581, ..., 2.07588372,\n",
      "         2.81289956, 2.69022401]],\n",
      "\n",
      "       [[       nan,        nan,        nan, ...,        nan,\n",
      "                nan,        nan],\n",
      "        [       nan,        nan,        nan, ...,        nan,\n",
      "                nan,        nan],\n",
      "        [       nan,        nan,        nan, ...,        nan,\n",
      "                nan,        nan],\n",
      "        ...,\n",
      "        [0.56278805, 1.82620442, 0.02894317, ..., 1.98625332,\n",
      "         2.87944836, 2.17483389],\n",
      "        [0.58927079, 1.75773821, 0.02925541, ..., 1.78894162,\n",
      "         2.87631138, 2.3495775 ],\n",
      "        [0.47045084, 1.64749245, 0.02868056, ..., 1.81533469,\n",
      "         3.09992286, 2.18389389]],\n",
      "\n",
      "       [[       nan,        nan,        nan, ...,        nan,\n",
      "                nan,        nan],\n",
      "        [       nan,        nan,        nan, ...,        nan,\n",
      "                nan,        nan],\n",
      "        [       nan,        nan,        nan, ...,        nan,\n",
      "                nan,        nan],\n",
      "        ...,\n",
      "        [0.5050516 , 1.72537343, 0.02841503, ..., 2.13049979,\n",
      "         2.68349972, 2.444766  ],\n",
      "        [0.56291459, 1.74419969, 0.02752625, ..., 2.15352272,\n",
      "         2.81640508, 2.73722976],\n",
      "        [0.5227661 , 1.58603614, 0.02862064, ..., 2.19614636,\n",
      "         2.85190682, 2.58854161]],\n",
      "\n",
      "       ...,\n",
      "\n",
      "       [[       nan,        nan,        nan, ...,        nan,\n",
      "                nan,        nan],\n",
      "        [       nan,        nan,        nan, ...,        nan,\n",
      "                nan,        nan],\n",
      "        [       nan,        nan,        nan, ...,        nan,\n",
      "                nan,        nan],\n",
      "        ...,\n",
      "        [0.48174092, 1.91065433, 0.03110712, ..., 1.82738654,\n",
      "         2.74364604, 2.63489684],\n",
      "        [0.48856825, 1.93978113, 0.02845836, ..., 1.81595869,\n",
      "         2.81693854, 2.55624609],\n",
      "        [0.45565034, 1.66851842, 0.03268686, ..., 2.1909527 ,\n",
      "         2.97601967, 2.54824121]],\n",
      "\n",
      "       [[       nan,        nan,        nan, ...,        nan,\n",
      "                nan,        nan],\n",
      "        [       nan,        nan,        nan, ...,        nan,\n",
      "                nan,        nan],\n",
      "        [       nan,        nan,        nan, ...,        nan,\n",
      "                nan,        nan],\n",
      "        ...,\n",
      "        [0.6110569 , 1.87817113, 0.03385857, ..., 1.60292163,\n",
      "         3.05925566, 2.00377242],\n",
      "        [0.60413645, 1.83250288, 0.0319645 , ..., 1.39706465,\n",
      "         3.30824946, 1.98790795],\n",
      "        [0.53696117, 1.5709282 , 0.03478653, ..., 1.8066599 ,\n",
      "         3.51799882, 1.81872815]],\n",
      "\n",
      "       [[       nan,        nan,        nan, ...,        nan,\n",
      "                nan,        nan],\n",
      "        [       nan,        nan,        nan, ...,        nan,\n",
      "                nan,        nan],\n",
      "        [       nan,        nan,        nan, ...,        nan,\n",
      "                nan,        nan],\n",
      "        ...,\n",
      "        [0.48968338, 1.75919928, 0.02911612, ..., 1.93564496,\n",
      "         3.04525818, 2.15105678],\n",
      "        [0.51315084, 1.85225406, 0.03080233, ..., 2.22480852,\n",
      "         3.1514798 , 2.29027114],\n",
      "        [0.47377572, 1.80050386, 0.03369599, ..., 2.04248498,\n",
      "         2.99674882, 2.24851594]]]), 'mse_t2': array([[[           nan,            nan,            nan, ...,\n",
      "                    nan,            nan,            nan],\n",
      "        [           nan,            nan,            nan, ...,\n",
      "                    nan,            nan,            nan],\n",
      "        [           nan,            nan,            nan, ...,\n",
      "                    nan,            nan,            nan],\n",
      "        ...,\n",
      "        [5.49590654e-01, 5.45410468e+00, 1.30845511e-03, ...,\n",
      "         5.68947381e+00, 1.38155981e+01, 1.01359386e+01],\n",
      "        [5.21200434e-01, 5.97314330e+00, 1.05256252e-03, ...,\n",
      "         6.45784427e+00, 1.33290392e+01, 1.10584155e+01],\n",
      "        [5.03617188e-01, 5.98272108e+00, 1.36798025e-03, ...,\n",
      "         6.53807238e+00, 1.24373487e+01, 1.15286481e+01]],\n",
      "\n",
      "       [[           nan,            nan,            nan, ...,\n",
      "                    nan,            nan,            nan],\n",
      "        [           nan,            nan,            nan, ...,\n",
      "                    nan,            nan,            nan],\n",
      "        [           nan,            nan,            nan, ...,\n",
      "                    nan,            nan,            nan],\n",
      "        ...,\n",
      "        [4.90594479e-01, 4.96167424e+00, 1.34162149e-03, ...,\n",
      "         6.26136656e+00, 1.31263662e+01, 8.15741174e+00],\n",
      "        [4.86411453e-01, 5.46669943e+00, 1.36769497e-03, ...,\n",
      "         5.22937827e+00, 1.32752522e+01, 8.86656156e+00],\n",
      "        [3.47846096e-01, 5.27443804e+00, 1.37380629e-03, ...,\n",
      "         5.03309418e+00, 1.58194303e+01, 8.23986188e+00]],\n",
      "\n",
      "       [[           nan,            nan,            nan, ...,\n",
      "                    nan,            nan,            nan],\n",
      "        [           nan,            nan,            nan, ...,\n",
      "                    nan,            nan,            nan],\n",
      "        [           nan,            nan,            nan, ...,\n",
      "                    nan,            nan,            nan],\n",
      "        ...,\n",
      "        [4.12751743e-01, 4.27237694e+00, 1.25681192e-03, ...,\n",
      "         6.48316106e+00, 1.22546421e+01, 1.05610449e+01],\n",
      "        [4.50915038e-01, 4.42653282e+00, 1.10409234e-03, ...,\n",
      "         7.11785534e+00, 1.24963515e+01, 1.12759933e+01],\n",
      "        [3.90794802e-01, 3.86608767e+00, 1.12393696e-03, ...,\n",
      "         8.01928141e+00, 1.47666559e+01, 1.07937361e+01]],\n",
      "\n",
      "       ...,\n",
      "\n",
      "       [[           nan,            nan,            nan, ...,\n",
      "                    nan,            nan,            nan],\n",
      "        [           nan,            nan,            nan, ...,\n",
      "                    nan,            nan,            nan],\n",
      "        [           nan,            nan,            nan, ...,\n",
      "                    nan,            nan,            nan],\n",
      "        ...,\n",
      "        [3.90458821e-01, 6.29873471e+00, 1.70236377e-03, ...,\n",
      "         4.82250022e+00, 1.32753354e+01, 1.03319950e+01],\n",
      "        [3.55046587e-01, 5.97342289e+00, 1.39291685e-03, ...,\n",
      "         4.84282885e+00, 1.40243165e+01, 9.93702243e+00],\n",
      "        [3.35269204e-01, 4.22295154e+00, 1.79677008e-03, ...,\n",
      "         6.48306580e+00, 1.46465582e+01, 1.00759242e+01]],\n",
      "\n",
      "       [[           nan,            nan,            nan, ...,\n",
      "                    nan,            nan,            nan],\n",
      "        [           nan,            nan,            nan, ...,\n",
      "                    nan,            nan,            nan],\n",
      "        [           nan,            nan,            nan, ...,\n",
      "                    nan,            nan,            nan],\n",
      "        ...,\n",
      "        [5.20640730e-01, 5.51162348e+00, 1.79312113e-03, ...,\n",
      "         3.41773237e+00, 1.63076461e+01, 5.72929536e+00],\n",
      "        [5.47552407e-01, 5.74864223e+00, 1.59244376e-03, ...,\n",
      "         2.87211648e+00, 1.62410965e+01, 6.34270337e+00],\n",
      "        [4.78501383e-01, 4.31550040e+00, 1.99028313e-03, ...,\n",
      "         4.71823000e+00, 1.85790195e+01, 5.04446528e+00]],\n",
      "\n",
      "       [[           nan,            nan,            nan, ...,\n",
      "                    nan,            nan,            nan],\n",
      "        [           nan,            nan,            nan, ...,\n",
      "                    nan,            nan,            nan],\n",
      "        [           nan,            nan,            nan, ...,\n",
      "                    nan,            nan,            nan],\n",
      "        ...,\n",
      "        [4.62849595e-01, 4.80326290e+00, 1.40537204e-03, ...,\n",
      "         5.36549787e+00, 1.52571664e+01, 6.70648650e+00],\n",
      "        [4.18670958e-01, 5.50949315e+00, 1.46732719e-03, ...,\n",
      "         6.92673718e+00, 1.56384116e+01, 8.13031094e+00],\n",
      "        [4.34683598e-01, 5.02400173e+00, 1.96113720e-03, ...,\n",
      "         6.09177348e+00, 1.50804181e+01, 7.90681674e+00]]]), 'r_mu': array([[0.89752806, 0.82591591, 0.75660394, ..., 0.81125511, 0.72138549,\n",
      "        0.67599225],\n",
      "       [0.89887592, 0.74364167, 0.75191846, ..., 0.79175227, 0.65386983,\n",
      "        0.61043447],\n",
      "       [0.90594367, 0.84659062, 0.77216241, ..., 0.76943364, 0.71063699,\n",
      "        0.72814155],\n",
      "       ...,\n",
      "       [0.89862308, 0.81337227, 0.74414067, ..., 0.79863328, 0.74009338,\n",
      "        0.71112666],\n",
      "       [0.88650049, 0.81168647, 0.67153439, ..., 0.80751949, 0.71491317,\n",
      "        0.78222979],\n",
      "       [0.90369206, 0.7846009 , 0.6735669 , ..., 0.80611895, 0.72360903,\n",
      "        0.68705375]]), 'mae_mu': array([[0.83364377, 2.20049879, 0.03325646, ..., 2.68938571, 3.12223079,\n",
      "        3.05817019],\n",
      "       [0.8490312 , 2.44472086, 0.03060093, ..., 2.52165714, 3.33759268,\n",
      "        3.05881612],\n",
      "       [0.80359804, 2.08564453, 0.03183468, ..., 2.98276732, 2.81622573,\n",
      "        3.00800496],\n",
      "       ...,\n",
      "       [0.83391284, 2.12622197, 0.03735927, ..., 2.59668689, 2.85937406,\n",
      "        2.79399477],\n",
      "       [0.87570488, 2.1728105 , 0.0394871 , ..., 2.29087393, 3.17316939,\n",
      "        2.42567798],\n",
      "       [0.86677938, 2.42468315, 0.03751782, ..., 2.3831197 , 3.26323418,\n",
      "        2.66884412]]), 'mse_mu': array([[nan, nan, nan, ..., nan, nan, nan],\n",
      "       [nan, nan, nan, ..., nan, nan, nan],\n",
      "       [nan, nan, nan, ..., nan, nan, nan],\n",
      "       ...,\n",
      "       [nan, nan, nan, ..., nan, nan, nan],\n",
      "       [nan, nan, nan, ..., nan, nan, nan],\n",
      "       [nan, nan, nan, ..., nan, nan, nan]])}\n",
      "{'r_t': array([[[nan, nan, nan, ..., nan, nan, nan],\n",
      "        [nan, nan, nan, ..., nan, nan, nan],\n",
      "        [nan, nan, nan, ..., nan, nan, nan],\n",
      "        ...,\n",
      "        [nan, nan, nan, ..., nan, nan, nan],\n",
      "        [nan, nan, nan, ..., nan, nan, nan],\n",
      "        [nan, nan, nan, ..., nan, nan, nan]],\n",
      "\n",
      "       [[nan, nan, nan, ..., nan, nan, nan],\n",
      "        [nan, nan, nan, ..., nan, nan, nan],\n",
      "        [nan, nan, nan, ..., nan, nan, nan],\n",
      "        ...,\n",
      "        [nan, nan, nan, ..., nan, nan, nan],\n",
      "        [nan, nan, nan, ..., nan, nan, nan],\n",
      "        [nan, nan, nan, ..., nan, nan, nan]],\n",
      "\n",
      "       [[nan, nan, nan, ..., nan, nan, nan],\n",
      "        [nan, nan, nan, ..., nan, nan, nan],\n",
      "        [nan, nan, nan, ..., nan, nan, nan],\n",
      "        ...,\n",
      "        [nan, nan, nan, ..., nan, nan, nan],\n",
      "        [nan, nan, nan, ..., nan, nan, nan],\n",
      "        [nan, nan, nan, ..., nan, nan, nan]],\n",
      "\n",
      "       ...,\n",
      "\n",
      "       [[nan, nan, nan, ..., nan, nan, nan],\n",
      "        [nan, nan, nan, ..., nan, nan, nan],\n",
      "        [nan, nan, nan, ..., nan, nan, nan],\n",
      "        ...,\n",
      "        [nan, nan, nan, ..., nan, nan, nan],\n",
      "        [nan, nan, nan, ..., nan, nan, nan],\n",
      "        [nan, nan, nan, ..., nan, nan, nan]],\n",
      "\n",
      "       [[nan, nan, nan, ..., nan, nan, nan],\n",
      "        [nan, nan, nan, ..., nan, nan, nan],\n",
      "        [nan, nan, nan, ..., nan, nan, nan],\n",
      "        ...,\n",
      "        [nan, nan, nan, ..., nan, nan, nan],\n",
      "        [nan, nan, nan, ..., nan, nan, nan],\n",
      "        [nan, nan, nan, ..., nan, nan, nan]],\n",
      "\n",
      "       [[nan, nan, nan, ..., nan, nan, nan],\n",
      "        [nan, nan, nan, ..., nan, nan, nan],\n",
      "        [nan, nan, nan, ..., nan, nan, nan],\n",
      "        ...,\n",
      "        [nan, nan, nan, ..., nan, nan, nan],\n",
      "        [nan, nan, nan, ..., nan, nan, nan],\n",
      "        [nan, nan, nan, ..., nan, nan, nan]]]), 'mae_t': array([[[0.5401319 , 1.97277789, 0.02972581, ..., 2.07588372,\n",
      "         2.81289956, 2.69022401],\n",
      "        [0.49381934, 2.03454828, 0.02735584, ..., 1.94873913,\n",
      "         2.95445192, 2.82104056],\n",
      "        [0.47345667, 2.04140995, 0.02496951, ..., 2.10635868,\n",
      "         2.86979284, 2.70061922],\n",
      "        ...,\n",
      "        [       nan,        nan,        nan, ...,        nan,\n",
      "                nan,        nan],\n",
      "        [       nan,        nan,        nan, ...,        nan,\n",
      "                nan,        nan],\n",
      "        [       nan,        nan,        nan, ...,        nan,\n",
      "                nan,        nan]],\n",
      "\n",
      "       [[0.47045084, 1.64749245, 0.02868056, ..., 1.81533469,\n",
      "         3.09992286, 2.18389389],\n",
      "        [0.49648465, 1.87274236, 0.02827728, ..., 1.78328948,\n",
      "         3.14322003, 2.55489419],\n",
      "        [0.54158303, 1.82452584, 0.02939415, ..., 1.74698794,\n",
      "         2.98272755, 2.32609712],\n",
      "        ...,\n",
      "        [       nan,        nan,        nan, ...,        nan,\n",
      "                nan,        nan],\n",
      "        [       nan,        nan,        nan, ...,        nan,\n",
      "                nan,        nan],\n",
      "        [       nan,        nan,        nan, ...,        nan,\n",
      "                nan,        nan]],\n",
      "\n",
      "       [[0.5227661 , 1.58603614, 0.02862064, ..., 2.19614636,\n",
      "         2.85190682, 2.58854161],\n",
      "        [0.46996479, 1.95695807, 0.02702011, ..., 2.20052525,\n",
      "         3.12325341, 2.75394521],\n",
      "        [0.46794397, 1.82129432, 0.02577844, ..., 2.39452493,\n",
      "         2.91765281, 2.73643338],\n",
      "        ...,\n",
      "        [       nan,        nan,        nan, ...,        nan,\n",
      "                nan,        nan],\n",
      "        [       nan,        nan,        nan, ...,        nan,\n",
      "                nan,        nan],\n",
      "        [       nan,        nan,        nan, ...,        nan,\n",
      "                nan,        nan]],\n",
      "\n",
      "       ...,\n",
      "\n",
      "       [[0.45565034, 1.66851842, 0.03268686, ..., 2.1909527 ,\n",
      "         2.97601967, 2.54824121],\n",
      "        [0.4009022 , 1.86310107, 0.03082177, ..., 2.04821407,\n",
      "         2.87483101, 2.70254192],\n",
      "        [0.44257609, 1.62352328, 0.03277768, ..., 2.15122518,\n",
      "         2.74016853, 2.52573775],\n",
      "        ...,\n",
      "        [       nan,        nan,        nan, ...,        nan,\n",
      "                nan,        nan],\n",
      "        [       nan,        nan,        nan, ...,        nan,\n",
      "                nan,        nan],\n",
      "        [       nan,        nan,        nan, ...,        nan,\n",
      "                nan,        nan]],\n",
      "\n",
      "       [[0.53696117, 1.5709282 , 0.03478653, ..., 1.8066599 ,\n",
      "         3.51799882, 1.81872815],\n",
      "        [0.56073299, 1.88187371, 0.03666267, ..., 1.54856651,\n",
      "         3.38007474, 2.11898129],\n",
      "        [0.61674322, 1.94510188, 0.03422568, ..., 1.48751411,\n",
      "         2.96054337, 2.01277312],\n",
      "        ...,\n",
      "        [       nan,        nan,        nan, ...,        nan,\n",
      "                nan,        nan],\n",
      "        [       nan,        nan,        nan, ...,        nan,\n",
      "                nan,        nan],\n",
      "        [       nan,        nan,        nan, ...,        nan,\n",
      "                nan,        nan]],\n",
      "\n",
      "       [[0.47377572, 1.80050386, 0.03369599, ..., 2.04248498,\n",
      "         2.99674882, 2.24851594],\n",
      "        [0.43806235, 1.85295063, 0.03141449, ..., 2.02202851,\n",
      "         3.11061149, 2.20812625],\n",
      "        [0.42281016, 1.88684653, 0.0306414 , ..., 1.91667323,\n",
      "         3.10713542, 2.24926597],\n",
      "        ...,\n",
      "        [       nan,        nan,        nan, ...,        nan,\n",
      "                nan,        nan],\n",
      "        [       nan,        nan,        nan, ...,        nan,\n",
      "                nan,        nan],\n",
      "        [       nan,        nan,        nan, ...,        nan,\n",
      "                nan,        nan]]]), 'mse_t': array([[[5.03617188e-01, 5.98272108e+00, 1.36798025e-03, ...,\n",
      "         6.53807238e+00, 1.24373487e+01, 1.15286481e+01],\n",
      "        [3.75800862e-01, 6.35424866e+00, 1.17513355e-03, ...,\n",
      "         6.48559681e+00, 1.30860195e+01, 1.24928200e+01],\n",
      "        [3.46413410e-01, 6.56530539e+00, 1.06237925e-03, ...,\n",
      "         6.76995777e+00, 1.35811407e+01, 1.18969775e+01],\n",
      "        ...,\n",
      "        [           nan,            nan,            nan, ...,\n",
      "                    nan,            nan,            nan],\n",
      "        [           nan,            nan,            nan, ...,\n",
      "                    nan,            nan,            nan],\n",
      "        [           nan,            nan,            nan, ...,\n",
      "                    nan,            nan,            nan]],\n",
      "\n",
      "       [[3.47846096e-01, 5.27443804e+00, 1.37380629e-03, ...,\n",
      "         5.03309418e+00, 1.58194303e+01, 8.23986188e+00],\n",
      "        [3.70905998e-01, 6.12468008e+00, 1.24744006e-03, ...,\n",
      "         5.22066229e+00, 1.61381009e+01, 1.10244273e+01],\n",
      "        [4.39760057e-01, 5.95073614e+00, 1.27152923e-03, ...,\n",
      "         4.90728193e+00, 1.34084046e+01, 8.97249641e+00],\n",
      "        ...,\n",
      "        [           nan,            nan,            nan, ...,\n",
      "                    nan,            nan,            nan],\n",
      "        [           nan,            nan,            nan, ...,\n",
      "                    nan,            nan,            nan],\n",
      "        [           nan,            nan,            nan, ...,\n",
      "                    nan,            nan,            nan]],\n",
      "\n",
      "       [[3.90794802e-01, 3.86608767e+00, 1.12393696e-03, ...,\n",
      "         8.01928141e+00, 1.47666559e+01, 1.07937361e+01],\n",
      "        [3.43981551e-01, 5.70629728e+00, 1.05429108e-03, ...,\n",
      "         7.07815662e+00, 1.48576578e+01, 1.26425239e+01],\n",
      "        [3.37051474e-01, 5.11947147e+00, 9.88375910e-04, ...,\n",
      "         8.34668723e+00, 1.34705526e+01, 1.29837212e+01],\n",
      "        ...,\n",
      "        [           nan,            nan,            nan, ...,\n",
      "                    nan,            nan,            nan],\n",
      "        [           nan,            nan,            nan, ...,\n",
      "                    nan,            nan,            nan],\n",
      "        [           nan,            nan,            nan, ...,\n",
      "                    nan,            nan,            nan]],\n",
      "\n",
      "       ...,\n",
      "\n",
      "       [[3.35269204e-01, 4.22295154e+00, 1.79677008e-03, ...,\n",
      "         6.48306580e+00, 1.46465582e+01, 1.00759242e+01],\n",
      "        [2.53337006e-01, 5.75153274e+00, 1.65463008e-03, ...,\n",
      "         6.17177052e+00, 1.40176979e+01, 1.20848773e+01],\n",
      "        [3.11699976e-01, 5.16997786e+00, 1.69395718e-03, ...,\n",
      "         6.07409609e+00, 1.36790609e+01, 1.03046266e+01],\n",
      "        ...,\n",
      "        [           nan,            nan,            nan, ...,\n",
      "                    nan,            nan,            nan],\n",
      "        [           nan,            nan,            nan, ...,\n",
      "                    nan,            nan,            nan],\n",
      "        [           nan,            nan,            nan, ...,\n",
      "                    nan,            nan,            nan]],\n",
      "\n",
      "       [[4.78501383e-01, 4.31550040e+00, 1.99028313e-03, ...,\n",
      "         4.71823000e+00, 1.85790195e+01, 5.04446528e+00],\n",
      "        [4.51755593e-01, 5.49902004e+00, 2.04378748e-03, ...,\n",
      "         3.69867273e+00, 1.67464125e+01, 7.34628753e+00],\n",
      "        [5.36358985e-01, 6.67767969e+00, 1.86557480e-03, ...,\n",
      "         3.65698026e+00, 1.51628173e+01, 7.00866038e+00],\n",
      "        ...,\n",
      "        [           nan,            nan,            nan, ...,\n",
      "                    nan,            nan,            nan],\n",
      "        [           nan,            nan,            nan, ...,\n",
      "                    nan,            nan,            nan],\n",
      "        [           nan,            nan,            nan, ...,\n",
      "                    nan,            nan,            nan]],\n",
      "\n",
      "       [[4.34683598e-01, 5.02400173e+00, 1.96113720e-03, ...,\n",
      "         6.09177348e+00, 1.50804181e+01, 7.90681674e+00],\n",
      "        [3.62214375e-01, 5.91493366e+00, 1.64145243e-03, ...,\n",
      "         6.75305041e+00, 1.54517106e+01, 7.74430020e+00],\n",
      "        [2.98185858e-01, 5.60118795e+00, 1.56691298e-03, ...,\n",
      "         5.71165356e+00, 1.46412837e+01, 7.33721095e+00],\n",
      "        ...,\n",
      "        [           nan,            nan,            nan, ...,\n",
      "                    nan,            nan,            nan],\n",
      "        [           nan,            nan,            nan, ...,\n",
      "                    nan,            nan,            nan],\n",
      "        [           nan,            nan,            nan, ...,\n",
      "                    nan,            nan,            nan]]]), 'r_t2': array([[[nan, nan, nan, ..., nan, nan, nan],\n",
      "        [nan, nan, nan, ..., nan, nan, nan],\n",
      "        [nan, nan, nan, ..., nan, nan, nan],\n",
      "        ...,\n",
      "        [nan, nan, nan, ..., nan, nan, nan],\n",
      "        [nan, nan, nan, ..., nan, nan, nan],\n",
      "        [nan, nan, nan, ..., nan, nan, nan]],\n",
      "\n",
      "       [[nan, nan, nan, ..., nan, nan, nan],\n",
      "        [nan, nan, nan, ..., nan, nan, nan],\n",
      "        [nan, nan, nan, ..., nan, nan, nan],\n",
      "        ...,\n",
      "        [nan, nan, nan, ..., nan, nan, nan],\n",
      "        [nan, nan, nan, ..., nan, nan, nan],\n",
      "        [nan, nan, nan, ..., nan, nan, nan]],\n",
      "\n",
      "       [[nan, nan, nan, ..., nan, nan, nan],\n",
      "        [nan, nan, nan, ..., nan, nan, nan],\n",
      "        [nan, nan, nan, ..., nan, nan, nan],\n",
      "        ...,\n",
      "        [nan, nan, nan, ..., nan, nan, nan],\n",
      "        [nan, nan, nan, ..., nan, nan, nan],\n",
      "        [nan, nan, nan, ..., nan, nan, nan]],\n",
      "\n",
      "       ...,\n",
      "\n",
      "       [[nan, nan, nan, ..., nan, nan, nan],\n",
      "        [nan, nan, nan, ..., nan, nan, nan],\n",
      "        [nan, nan, nan, ..., nan, nan, nan],\n",
      "        ...,\n",
      "        [nan, nan, nan, ..., nan, nan, nan],\n",
      "        [nan, nan, nan, ..., nan, nan, nan],\n",
      "        [nan, nan, nan, ..., nan, nan, nan]],\n",
      "\n",
      "       [[nan, nan, nan, ..., nan, nan, nan],\n",
      "        [nan, nan, nan, ..., nan, nan, nan],\n",
      "        [nan, nan, nan, ..., nan, nan, nan],\n",
      "        ...,\n",
      "        [nan, nan, nan, ..., nan, nan, nan],\n",
      "        [nan, nan, nan, ..., nan, nan, nan],\n",
      "        [nan, nan, nan, ..., nan, nan, nan]],\n",
      "\n",
      "       [[nan, nan, nan, ..., nan, nan, nan],\n",
      "        [nan, nan, nan, ..., nan, nan, nan],\n",
      "        [nan, nan, nan, ..., nan, nan, nan],\n",
      "        ...,\n",
      "        [nan, nan, nan, ..., nan, nan, nan],\n",
      "        [nan, nan, nan, ..., nan, nan, nan],\n",
      "        [nan, nan, nan, ..., nan, nan, nan]]]), 'mae_t2': array([[[       nan,        nan,        nan, ...,        nan,\n",
      "                nan,        nan],\n",
      "        [       nan,        nan,        nan, ...,        nan,\n",
      "                nan,        nan],\n",
      "        [       nan,        nan,        nan, ...,        nan,\n",
      "                nan,        nan],\n",
      "        ...,\n",
      "        [0.49528371, 2.33448483, 0.04038287, ..., 2.45426659,\n",
      "         2.77322679, 2.65529855],\n",
      "        [0.50645184, 2.75209117, 0.05903976, ..., 2.5259909 ,\n",
      "         3.27184996, 3.13792282],\n",
      "        [0.48388391, 2.97590028, 0.10875994, ..., 3.11717635,\n",
      "         3.23187928, 3.06974651]],\n",
      "\n",
      "       [[       nan,        nan,        nan, ...,        nan,\n",
      "                nan,        nan],\n",
      "        [       nan,        nan,        nan, ...,        nan,\n",
      "                nan,        nan],\n",
      "        [       nan,        nan,        nan, ...,        nan,\n",
      "                nan,        nan],\n",
      "        ...,\n",
      "        [0.59923541, 2.20386356, 0.0424691 , ..., 2.30031395,\n",
      "         3.08599281, 2.7587305 ],\n",
      "        [0.61949142, 2.3253585 , 0.05785281, ..., 2.40239723,\n",
      "         3.07124663, 3.02760969],\n",
      "        [0.67871283, 2.57564129, 0.10833041, ..., 2.71079076,\n",
      "         3.16056643, 3.4188151 ]],\n",
      "\n",
      "       [[       nan,        nan,        nan, ...,        nan,\n",
      "                nan,        nan],\n",
      "        [       nan,        nan,        nan, ...,        nan,\n",
      "                nan,        nan],\n",
      "        [       nan,        nan,        nan, ...,        nan,\n",
      "                nan,        nan],\n",
      "        ...,\n",
      "        [0.44584238, 2.45261111, 0.03722563, ..., 3.12423937,\n",
      "         2.71867777, 3.02531638],\n",
      "        [0.43992926, 2.57647702, 0.04845247, ..., 3.16585856,\n",
      "         2.82251457, 3.00667387],\n",
      "        [0.3706128 , 2.79095613, 0.12395425, ..., 3.18476239,\n",
      "         2.90090998, 3.32498165]],\n",
      "\n",
      "       ...,\n",
      "\n",
      "       [[       nan,        nan,        nan, ...,        nan,\n",
      "                nan,        nan],\n",
      "        [       nan,        nan,        nan, ...,        nan,\n",
      "                nan,        nan],\n",
      "        [       nan,        nan,        nan, ...,        nan,\n",
      "                nan,        nan],\n",
      "        ...,\n",
      "        [0.46329785, 2.06129057, 0.03845503, ..., 2.72577569,\n",
      "         2.52108135, 2.60032319],\n",
      "        [0.48001768, 2.57902506, 0.05326901, ..., 3.0444434 ,\n",
      "         2.77554557, 3.03278845],\n",
      "        [0.48999637, 2.80328485, 0.11916616, ..., 3.18318273,\n",
      "         2.77363288, 3.26170006]],\n",
      "\n",
      "       [[       nan,        nan,        nan, ...,        nan,\n",
      "                nan,        nan],\n",
      "        [       nan,        nan,        nan, ...,        nan,\n",
      "                nan,        nan],\n",
      "        [       nan,        nan,        nan, ...,        nan,\n",
      "                nan,        nan],\n",
      "        ...,\n",
      "        [0.71483155, 1.85702215, 0.04593542, ..., 1.83311515,\n",
      "         3.51130988, 2.67184559],\n",
      "        [0.68918279, 2.13636052, 0.05281243, ..., 2.18383321,\n",
      "         3.64809471, 2.98567301],\n",
      "        [0.71127373, 2.5406869 , 0.14536276, ..., 2.37649372,\n",
      "         3.62028807, 3.13606863]],\n",
      "\n",
      "       [[       nan,        nan,        nan, ...,        nan,\n",
      "                nan,        nan],\n",
      "        [       nan,        nan,        nan, ...,        nan,\n",
      "                nan,        nan],\n",
      "        [       nan,        nan,        nan, ...,        nan,\n",
      "                nan,        nan],\n",
      "        ...,\n",
      "        [0.46756948, 2.22256102, 0.05060189, ..., 2.05189835,\n",
      "         3.50640926, 2.66407064],\n",
      "        [0.53298606, 2.56656106, 0.06658955, ..., 2.44434655,\n",
      "         3.58897793, 2.95804801],\n",
      "        [0.56019588, 2.67919179, 0.10022784, ..., 2.54734821,\n",
      "         3.8805903 , 3.21085188]]]), 'mse_t2': array([[[           nan,            nan,            nan, ...,\n",
      "                    nan,            nan,            nan],\n",
      "        [           nan,            nan,            nan, ...,\n",
      "                    nan,            nan,            nan],\n",
      "        [           nan,            nan,            nan, ...,\n",
      "                    nan,            nan,            nan],\n",
      "        ...,\n",
      "        [3.76129517e-01, 8.67727625e+00, 2.37613231e-03, ...,\n",
      "         9.26960535e+00, 1.32275938e+01, 1.35227743e+01],\n",
      "        [3.87747330e-01, 1.09889370e+01, 4.40496395e-03, ...,\n",
      "         9.30548482e+00, 1.77849983e+01, 1.62141707e+01],\n",
      "        [3.50305728e-01, 1.20467326e+01, 2.65734829e-02, ...,\n",
      "         1.27733977e+01, 1.74608478e+01, 1.69767191e+01]],\n",
      "\n",
      "       [[           nan,            nan,            nan, ...,\n",
      "                    nan,            nan,            nan],\n",
      "        [           nan,            nan,            nan, ...,\n",
      "                    nan,            nan,            nan],\n",
      "        [           nan,            nan,            nan, ...,\n",
      "                    nan,            nan,            nan],\n",
      "        ...,\n",
      "        [5.89930077e-01, 6.92252376e+00, 2.75528503e-03, ...,\n",
      "         7.96824640e+00, 1.46565539e+01, 1.38085083e+01],\n",
      "        [7.13227380e-01, 8.39113805e+00, 4.26671886e-03, ...,\n",
      "         9.11558326e+00, 1.45892814e+01, 1.58706555e+01],\n",
      "        [8.42596247e-01, 1.07450133e+01, 2.58710579e-02, ...,\n",
      "         1.14219624e+01, 1.56254931e+01, 1.78623149e+01]],\n",
      "\n",
      "       [[           nan,            nan,            nan, ...,\n",
      "                    nan,            nan,            nan],\n",
      "        [           nan,            nan,            nan, ...,\n",
      "                    nan,            nan,            nan],\n",
      "        [           nan,            nan,            nan, ...,\n",
      "                    nan,            nan,            nan],\n",
      "        ...,\n",
      "        [3.12985094e-01, 8.98011277e+00, 1.92147161e-03, ...,\n",
      "         1.48399001e+01, 1.30062016e+01, 1.29827278e+01],\n",
      "        [2.96255551e-01, 1.02740158e+01, 3.22046511e-03, ...,\n",
      "         1.59897009e+01, 1.38066417e+01, 1.23547718e+01],\n",
      "        [2.31480525e-01, 1.19358955e+01, 3.16682297e-02, ...,\n",
      "         1.63551915e+01, 1.42599696e+01, 1.49994712e+01]],\n",
      "\n",
      "       ...,\n",
      "\n",
      "       [[           nan,            nan,            nan, ...,\n",
      "                    nan,            nan,            nan],\n",
      "        [           nan,            nan,            nan, ...,\n",
      "                    nan,            nan,            nan],\n",
      "        [           nan,            nan,            nan, ...,\n",
      "                    nan,            nan,            nan],\n",
      "        ...,\n",
      "        [3.76711545e-01, 6.24538190e+00, 2.27277794e-03, ...,\n",
      "         1.03093808e+01, 1.17801108e+01, 1.20606164e+01],\n",
      "        [3.38551511e-01, 9.36003369e+00, 3.58494563e-03, ...,\n",
      "         1.14635425e+01, 1.41082633e+01, 1.70117742e+01],\n",
      "        [4.40296170e-01, 1.12288464e+01, 2.57398454e-02, ...,\n",
      "         1.25657857e+01, 1.39705856e+01, 1.80294878e+01]],\n",
      "\n",
      "       [[           nan,            nan,            nan, ...,\n",
      "                    nan,            nan,            nan],\n",
      "        [           nan,            nan,            nan, ...,\n",
      "                    nan,            nan,            nan],\n",
      "        [           nan,            nan,            nan, ...,\n",
      "                    nan,            nan,            nan],\n",
      "        ...,\n",
      "        [1.13517927e+00, 4.65227945e+00, 3.01858527e-03, ...,\n",
      "         6.04535001e+00, 2.12767405e+01, 1.20531646e+01],\n",
      "        [1.19547068e+00, 6.32543504e+00, 3.66988805e-03, ...,\n",
      "         7.09429505e+00, 2.05691712e+01, 1.54801401e+01],\n",
      "        [1.13833919e+00, 8.53466973e+00, 4.34623159e-02, ...,\n",
      "         8.31189605e+00, 2.23373602e+01, 1.55187448e+01]],\n",
      "\n",
      "       [[           nan,            nan,            nan, ...,\n",
      "                    nan,            nan,            nan],\n",
      "        [           nan,            nan,            nan, ...,\n",
      "                    nan,            nan,            nan],\n",
      "        [           nan,            nan,            nan, ...,\n",
      "                    nan,            nan,            nan],\n",
      "        ...,\n",
      "        [3.77349530e-01, 7.36887304e+00, 3.27318989e-03, ...,\n",
      "         6.37637394e+00, 1.81305876e+01, 1.19757524e+01],\n",
      "        [4.53236478e-01, 9.31961220e+00, 5.49080867e-03, ...,\n",
      "         9.14048552e+00, 1.78107268e+01, 1.59441893e+01],\n",
      "        [5.42049023e-01, 1.15480581e+01, 1.88962850e-02, ...,\n",
      "         9.96739800e+00, 1.98867876e+01, 1.77756935e+01]]]), 'r_mu': array([[0.93741881, 0.84441112, 0.7698669 , ..., 0.87351891, 0.67670948,\n",
      "        0.69460388],\n",
      "       [0.89393097, 0.86846267, 0.74097801, ..., 0.88398592, 0.69247989,\n",
      "        0.74132693],\n",
      "       [0.93229831, 0.89657549, 0.76218728, ..., 0.81424641, 0.73715019,\n",
      "        0.8018628 ],\n",
      "       ...,\n",
      "       [0.92817419, 0.85575117, 0.68788219, ..., 0.83782603, 0.71587904,\n",
      "        0.75348689],\n",
      "       [0.84966591, 0.86549467, 0.68895568, ..., 0.8785292 , 0.66211701,\n",
      "        0.79711405],\n",
      "       [0.92702135, 0.84266585, 0.74690487, ..., 0.84977838, 0.69550833,\n",
      "        0.71501458]]), 'mae_mu': array([[0.44696671, 2.20573311, 0.03276938, ..., 2.17970461, 3.14011405,\n",
      "        2.79618645],\n",
      "       [0.56229688, 1.95642201, 0.03629413, ..., 1.85784473, 3.11173117,\n",
      "        2.61687531],\n",
      "       [0.48865093, 1.97630519, 0.03657312, ..., 2.728194  , 2.67211035,\n",
      "        2.61527081],\n",
      "       ...,\n",
      "       [0.47729914, 1.91631327, 0.04527223, ..., 2.38784038, 2.95372693,\n",
      "        2.57960228],\n",
      "       [0.66590637, 1.92671255, 0.04507102, ..., 1.83305809, 3.38588276,\n",
      "        2.35511918],\n",
      "       [0.45002923, 2.05176967, 0.03736761, ..., 2.17458681, 3.43859694,\n",
      "        2.54633045]]), 'mse_mu': array([[nan, nan, nan, ..., nan, nan, nan],\n",
      "       [nan, nan, nan, ..., nan, nan, nan],\n",
      "       [nan, nan, nan, ..., nan, nan, nan],\n",
      "       ...,\n",
      "       [nan, nan, nan, ..., nan, nan, nan],\n",
      "       [nan, nan, nan, ..., nan, nan, nan],\n",
      "       [nan, nan, nan, ..., nan, nan, nan]])}\n"
     ]
    }
   ],
   "source": [
    "print(res['start_occ_pad0'])\n",
    "print(res['occ_end_pad0'])         "
   ]
  },
  {
   "cell_type": "code",
   "execution_count": 41,
   "metadata": {},
   "outputs": [
    {
     "name": "stdout",
     "output_type": "stream",
     "text": [
      "start_occ_pad0 — baseline_end = [3.67995693 3.62178574 3.56394717 3.50659684 3.45003064 3.39487294\n",
      " 3.34267207 4.03323283 4.02996991 3.77281602 3.8936077  4.01439995\n",
      " 4.13519995 4.25599937]\n"
     ]
    }
   ],
   "source": [
    "print(\"start_occ_pad0 — baseline_end =\", baseline_end)\n"
   ]
  },
  {
   "cell_type": "code",
   "execution_count": 42,
   "metadata": {
    "scrolled": true
   },
   "outputs": [
    {
     "name": "stdout",
     "output_type": "stream",
     "text": [
      "[[nan nan nan ... nan nan nan]\n",
      " [nan nan nan ... nan nan nan]\n",
      " [nan nan nan ... nan nan nan]\n",
      " ...\n",
      " [nan nan nan ... nan nan nan]\n",
      " [nan nan nan ... nan nan nan]\n",
      " [nan nan nan ... nan nan nan]]\n",
      "[[nan nan nan ... nan nan nan]\n",
      " [nan nan nan ... nan nan nan]\n",
      " [nan nan nan ... nan nan nan]\n",
      " ...\n",
      " [nan nan nan ... nan nan nan]\n",
      " [nan nan nan ... nan nan nan]\n",
      " [nan nan nan ... nan nan nan]]\n"
     ]
    }
   ],
   "source": [
    "print(star_occ)\n",
    "print(occ_end)"
   ]
  },
  {
   "cell_type": "code",
   "execution_count": 43,
   "metadata": {
    "scrolled": true
   },
   "outputs": [
    {
     "ename": "NameError",
     "evalue": "name 't_vec' is not defined",
     "output_type": "error",
     "traceback": [
      "\u001b[0;31m---------------------------------------------------------------------------\u001b[0m",
      "\u001b[0;31mNameError\u001b[0m                                 Traceback (most recent call last)",
      "Cell \u001b[0;32mIn[43], line 1\u001b[0m\n\u001b[0;32m----> 1\u001b[0m \u001b[38;5;28mprint\u001b[39m(\u001b[38;5;124mf\u001b[39m\u001b[38;5;124m\"\u001b[39m\u001b[38;5;124mt_vec min/max: \u001b[39m\u001b[38;5;132;01m{\u001b[39;00mt_vec\u001b[38;5;241m.\u001b[39mmin()\u001b[38;5;132;01m}\u001b[39;00m\u001b[38;5;124m/\u001b[39m\u001b[38;5;132;01m{\u001b[39;00mt_vec\u001b[38;5;241m.\u001b[39mmax()\u001b[38;5;132;01m}\u001b[39;00m\u001b[38;5;124m\"\u001b[39m)\n\u001b[1;32m      2\u001b[0m \u001b[38;5;28mprint\u001b[39m(\u001b[38;5;124mf\u001b[39m\u001b[38;5;124m\"\u001b[39m\u001b[38;5;124mrmse_start shape: \u001b[39m\u001b[38;5;132;01m{\u001b[39;00mrmse_start\u001b[38;5;241m.\u001b[39mshape\u001b[38;5;132;01m}\u001b[39;00m\u001b[38;5;124m\"\u001b[39m)\n\u001b[1;32m      3\u001b[0m \u001b[38;5;28mprint\u001b[39m(\u001b[38;5;124mf\u001b[39m\u001b[38;5;124m\"\u001b[39m\u001b[38;5;124mrmse_end shape: \u001b[39m\u001b[38;5;132;01m{\u001b[39;00mrmse_end\u001b[38;5;241m.\u001b[39mshape\u001b[38;5;132;01m}\u001b[39;00m\u001b[38;5;124m\"\u001b[39m)\n",
      "\u001b[0;31mNameError\u001b[0m: name 't_vec' is not defined"
     ]
    }
   ],
   "source": [
    "print(f\"t_vec min/max: {t_vec.min()}/{t_vec.max()}\")\n",
    "print(f\"rmse_start shape: {rmse_start.shape}\")\n",
    "print(f\"rmse_end shape: {rmse_end.shape}\")"
   ]
  },
  {
   "cell_type": "code",
   "execution_count": null,
   "metadata": {},
   "outputs": [],
   "source": [
    "for key, val in res['start_occ_pad0'].items():\n",
    "    print(f\"{key}: shape = {np.shape(val)}\")\n"
   ]
  },
  {
   "cell_type": "code",
   "execution_count": null,
   "metadata": {},
   "outputs": [],
   "source": [
    "decoding_mean.shape\n"
   ]
  },
  {
   "cell_type": "code",
   "execution_count": null,
   "metadata": {},
   "outputs": [],
   "source": [
    "filtered_star_occ.shape"
   ]
  },
  {
   "cell_type": "code",
   "execution_count": null,
   "metadata": {},
   "outputs": [],
   "source": [
    "filtered_occ_end.shape"
   ]
  },
  {
   "cell_type": "code",
   "execution_count": null,
   "metadata": {},
   "outputs": [],
   "source": [
    "t.shape"
   ]
  },
  {
   "cell_type": "code",
   "execution_count": null,
   "metadata": {},
   "outputs": [],
   "source": [
    "start_occ_pad0.shape"
   ]
  },
  {
   "cell_type": "code",
   "execution_count": null,
   "metadata": {},
   "outputs": [],
   "source": [
    "print(rmse_alignstart.shape)\n",
    "print(rmse_alignend.shape)"
   ]
  },
  {
   "cell_type": "code",
   "execution_count": null,
   "metadata": {},
   "outputs": [],
   "source": [
    "rmse_alignstart[:10]"
   ]
  },
  {
   "cell_type": "code",
   "execution_count": null,
   "metadata": {},
   "outputs": [],
   "source": [
    "rmse_alignend[rse[:10]"
   ]
  },
  {
   "cell_type": "code",
   "execution_count": null,
   "metadata": {},
   "outputs": [],
   "source": [
    "print(star_occ.shape)"
   ]
  },
  {
   "cell_type": "code",
   "execution_count": null,
   "metadata": {},
   "outputs": [],
   "source": [
    "star_occ[:10]"
   ]
  },
  {
   "cell_type": "code",
   "execution_count": null,
   "metadata": {},
   "outputs": [],
   "source": [
    "print(occ_end.shape)"
   ]
  },
  {
   "cell_type": "code",
   "execution_count": null,
   "metadata": {},
   "outputs": [],
   "source": [
    "occ_end[:10]"
   ]
  },
  {
   "cell_type": "code",
   "execution_count": null,
   "metadata": {},
   "outputs": [],
   "source": [
    "filtered_star_occ.shape # what we are using the figures above"
   ]
  },
  {
   "cell_type": "code",
   "execution_count": null,
   "metadata": {},
   "outputs": [],
   "source": [
    "filtered_star_occ[:10]"
   ]
  },
  {
   "cell_type": "code",
   "execution_count": null,
   "metadata": {},
   "outputs": [],
   "source": [
    "print(filtered_occ_end.shape)"
   ]
  },
  {
   "cell_type": "code",
   "execution_count": null,
   "metadata": {},
   "outputs": [],
   "source": [
    "filtered_occ_end[:10]"
   ]
  },
  {
   "cell_type": "code",
   "execution_count": null,
   "metadata": {},
   "outputs": [],
   "source": [
    "baseline.shape"
   ]
  },
  {
   "cell_type": "code",
   "execution_count": null,
   "metadata": {},
   "outputs": [],
   "source": [
    "occ_end.shape"
   ]
  },
  {
   "cell_type": "code",
   "execution_count": null,
   "metadata": {},
   "outputs": [],
   "source": [
    "rmse_alignstart.shape"
   ]
  },
  {
   "cell_type": "code",
   "execution_count": null,
   "metadata": {},
   "outputs": [],
   "source": [
    "ax.errorbar(t, np.nanmean(filtered_star_occ[:, t], axis=0),\n",
    "                np.nanstd(filtered_star_occ[:, t], axis=0), fmt='-mo')\n",
    "    ax.set_ylim(ylim_all)\n",
    "    ax.axvline(0, linestyle='--', color=[0.5, 0.5, 0.5])\n",
    "    rr_gpu.make_axis_nice(ax)\n",
    "    \n",
    "            \n",
    "    ax = axes[mfi * 2 + 1]\n",
    "    t = np.arange(-min_timesteps, 0, 1)\n",
    "    ax.errorbar(t, np.nanmean(filtered_occ_end[:, t], axis=0),\n",
    "                np.nanstd(filtered_occ_end[:, t], axis=0), fmt='-mo')\n",
    "    ax.set_ylim(ylim_all)\n",
    "    ax.axvline(0, linestyle='--', color=[0.5, 0.5, 0.5])\n",
    "    rr_gpu.make_axis_nice(ax)\n",
    "\n",
    "for i in [1, 2, 3]:\n",
    "    axes[i].axes.get_yaxis().set_visible(False)\n",
    "\n",
    "plt.tight_layout()\n",
    "plt.show()\n",
    "\n",
    "\n",
    "res = self.get_metrics_unrolled_and_remasked(time_idx=time_idx)\n",
    "\n",
    "\n",
    "#f, axes = plot_average_metric(res)\n",
    "\n",
    "#f, axes = plot_timecourse_of_error(res_,self.subject_i"
   ]
  },
  {
   "cell_type": "code",
   "execution_count": null,
   "metadata": {},
   "outputs": [],
   "source": [
    "res_remasked = self.get_predictions_unrolled_and_remasked_base(time_idx=time_idx)\n",
    "\n",
    "# # get x/y for true and predicted, shape = (23, 79, 100)\n",
    "# true_all = res_remasked['true']['start_end_pad0']\n",
    "# pred_all = res_remasked['pred']['start_end_pad0']\n",
    "\n",
    "# mean over trials, result: (79, 100)\n",
    "true_x = np.nanmean(res_remasked['true']['start_end_pad0'][:, 0, :, :], axis=0)\n",
    "true_y = np.nanmean(res_remasked['true']['start_end_pad0'][:, 1, :, :], axis=0)\n",
    "\n",
    "neural_prediction_x = np.nanmean(res_remasked['pred']['start_end_pad0'][:, 0, :, :], axis=0)\n",
    "neural_prediction_y = np.nanmean(res_remasked['pred']['start_end_pad0'][:, 1, :, :], axis=0)\n",
    "\n",
    "\n",
    "task_indices = [0, 54, 78]\n",
    "\n",
    "fig, axs = plt.subplots(len(task_indices), 1, figsize=(13.92, 9.96*len(task_indices)), sharex=True, sharey=True)\n",
    "\n",
    "for i, task_idx in enumerate(task_indices):\n",
    "    ax = axs[i]\n",
    "    ax.plot(true_x[task_idx], true_y[task_idx], 'k-', label='True trajectory')\n",
    "    ax.plot(neural_prediction_x[task_idx], neural_prediction_y[task_idx], 'r--', label='Neural prediction')\n",
    "    ax.set_title(f'Task condition {task_idx}')\n",
    "    ax.set_xlabel('X position')\n",
    "    ax.set_ylabel('Y position')\n",
    "    ax.legend()\n",
    "    ax.grid(True)\n",
    "    ax.set_aspect('equal')\n",
    "\n",
    "plt.tight_layout()\n",
    "plt.show()"
   ]
  },
  {
   "cell_type": "code",
   "execution_count": null,
   "metadata": {},
   "outputs": [],
   "source": [
    "font_path = 'EB_Garamond/EBGaramond-VariableFont_wght.ttf'\n",
    "eb_garamond = fm.FontProperties(fname=font_path)\n",
    "\n",
    "rcParams['font.family'] = 'EB Garamond'\n",
    "\n",
    "res_remasked = self.get_predictions_unrolled_and_remasked_base(time_idx=time_idx)\n",
    "\n",
    "# Extract true and predicted mean trajectories\n",
    "true_x = np.nanmean(res_remasked['true']['start_end_pad0'][:, 0, :, :], axis=0)\n",
    "true_y = np.nanmean(res_remasked['true']['start_end_pad0'][:, 1, :, :], axis=0)\n",
    "neural_prediction_x = np.nanmean(res_remasked['pred']['start_end_pad0'][:, 0, :, :], axis=0)\n",
    "neural_prediction_y = np.nanmean(res_remasked['pred']['start_end_pad0'][:, 1, :, :], axis=0)\n",
    "\n",
    "# Define task indices and their visual colors\n",
    "task_indices = [0, 23, 54, 78]\n",
    "colors = ['orange', 'purple', 'yellow', 'magenta']\n",
    "\n",
    "fig, ax = plt.subplots(figsize=(9.55, 11.6))\n",
    "\n",
    "\n",
    "for task_idx, color in zip(task_indices, colors):\n",
    "    # 1. True trajectory → black dashed outline behind color solid line\n",
    "    ax.plot(true_x[task_idx], true_y[task_idx],\n",
    "            linestyle='--', color='black', linewidth=4, zorder=1)\n",
    "    ax.plot(true_x[task_idx], true_y[task_idx],\n",
    "            linestyle='-', color=color, linewidth=2, zorder=2)\n",
    "\n",
    "    # 2. Neural prediction → dashed line in same color\n",
    "    ax.plot(neural_prediction_x[task_idx], neural_prediction_y[task_idx],\n",
    "            linestyle='--', color=color, linewidth=2, zorder=0)\n",
    "\n",
    "# ax.set_title(\"True vs Neural Predicted Trajectories\")\n",
    "ax.set_xlabel(\"X Position\", fontproperties=eb_garamond, fontsize=30)\n",
    "ax.set_ylabel(\"Y Position\", fontproperties=eb_garamond, fontsize=30)\n",
    "\n",
    "ax.tick_params(axis='both', which='major', labelsize=23)\n",
    "for label in ax.get_xticklabels() + ax.get_yticklabels():\n",
    "    label.set_fontproperties(eb_garamond)\n",
    "    label.set_fontweight('bold')\n",
    "    label.setfontsize(15)\n",
    "\n",
    "\n",
    "ax.legend(prop=eb_garamond)\n",
    "ax.grid(True)\n",
    "ax.set_aspect('equal')\n",
    "plt.tight_layout()\n",
    "plt.show()\n",
    "\n"
   ]
  },
  {
   "cell_type": "code",
   "execution_count": null,
   "metadata": {},
   "outputs": [],
   "source": []
  },
  {
   "cell_type": "code",
   "execution_count": null,
   "metadata": {},
   "outputs": [],
   "source": []
  },
  {
   "cell_type": "code",
   "execution_count": null,
   "metadata": {},
   "outputs": [],
   "source": []
  }
 ],
 "metadata": {
  "kernelspec": {
   "display_name": "Python 3 (ipykernel)",
   "language": "python",
   "name": "python3"
  },
  "language_info": {
   "codemirror_mode": {
    "name": "ipython",
    "version": 3
   },
   "file_extension": ".py",
   "mimetype": "text/x-python",
   "name": "python",
   "nbconvert_exporter": "python",
   "pygments_lexer": "ipython3",
   "version": "3.9.12"
  }
 },
 "nbformat": 4,
 "nbformat_minor": 2
}

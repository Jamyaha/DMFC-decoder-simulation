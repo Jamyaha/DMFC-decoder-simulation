{
 "cells": [
  {
   "cell_type": "code",
   "execution_count": 1,
   "metadata": {
    "pycharm": {
     "name": "#%%\n"
    }
   },
   "outputs": [],
   "source": [
    "# %matplotlib inline\n",
    "\n",
    "import matplotlib\n",
    "import matplotlib.pyplot as plt\n",
    "import seaborn as sns\n",
    "import numpy as np\n",
    "import matplotlib.font_manager as fm\n",
    "[f.name for f in fm.fontManager.ttflist if \"Garamond\" in f.name]\n",
    "from matplotlib import rcParams\n",
    "\n",
    "sns.set_style('ticks', {\"axes.linewidth\": \"1\",'axes.yaxis.grid':False})"
   ]
  },
  {
   "cell_type": "code",
   "execution_count": 2,
   "metadata": {
    "pycharm": {
     "name": "#%%\n"
    }
   },
   "outputs": [],
   "source": [
    "# from phys.plot_scripts.decoding_summary import PlotHelper\n",
    "from utils.decoding_summary import PlotHelper"
   ]
  },
  {
   "cell_type": "code",
   "execution_count": 3,
   "metadata": {},
   "outputs": [],
   "source": [
    "import sys\n",
    "sys.path.append('./utils')"
   ]
  },
  {
   "cell_type": "code",
   "execution_count": 4,
   "metadata": {},
   "outputs": [],
   "source": [
    "from utils import generic_plot_utils as rr_gpu"
   ]
  },
  {
   "cell_type": "code",
   "execution_count": 5,
   "metadata": {},
   "outputs": [],
   "source": [
    "    def plot_decode_performance_unrolled_over_time(self, time_idx=None, compute_egocentric=False):\n",
    "\n",
    "        if compute_egocentric:  ###\n",
    "            beh_idx_mat = [6, 7]\n",
    "            file_suffix = 'egocentric'\n",
    "        else:\n",
    "            beh_idx_mat = [0, 1]\n",
    "            file_suffix = 'allocentric'\n",
    "        def plot_average_metric(res):\n",
    "            cmap = plt.get_cmap('Dark2', 8) # green, red, blue, magenta, brightGreen, yellow, 6brown, 7grey\n",
    "            f, axes = plt.subplots(1, 3, figsize=(7.5, 3))\n",
    "            for ax_i, met in enumerate(['r_mu', 'mae_mu', 'mse_mu']):\n",
    "                ax = axes[ax_i]\n",
    "                for beh_idx in beh_idx_mat: ####\n",
    "                    mu, sig = [], []\n",
    "                    x_for_stat = []\n",
    "                    for mi, mask_fn in enumerate(['start_occ_pad0', 'occ_end_pad0']):\n",
    "                        x = res[mask_fn][met][:, beh_idx]\n",
    "                        mu.append(np.nanmean(x, axis=0))\n",
    "                        sig.append(np.nanstd(x, axis=0))\n",
    "                        x_for_stat.append(x)\n",
    "\n",
    "                    # ranksums\n",
    "                    # stat_object = ranksums(x_for_stat[0],x_for_stat[1])\n",
    "                    stat_object = wilcoxon(x_for_stat[1])\n",
    "                    p_value = stat_object.pvalue\n",
    "\n",
    "                    # # permutation_test\n",
    "                    # p_value = permutation_test(x_for_stat[0],x_for_stat[1],\n",
    "                    #                            method='approximate',\n",
    "                    #                            num_rounds=1000,\n",
    "                    #                            seed=0)\n",
    "\n",
    "                    print(mu)\n",
    "                    print(sig)\n",
    "                    ax.errorbar(range(2), mu, yerr=sig, fmt='-o', mfc='w', mec=cmap(beh_idx), color=cmap(beh_idx),label=f'p={p_value:.2E}') # ,label='$\\it{p=%2.6f}$' % p_value)\n",
    "                    ax.legend()\n",
    "                    ax.set_xticks([0, 1])\n",
    "                    ax.set_xticklabels(['Visible \\n Epoch', 'Occluded \\n Epoch'])\n",
    "                    ax.set_xlim([-0.25, 1.25])\n",
    "                    if met == 'r_mu':\n",
    "                        ax.set_ylim([0, 1])\n",
    "                    else:\n",
    "                        ax.set_ylim([0, 10])\n",
    "                    rr_gpu.make_axis_nice(ax)\n",
    "\n",
    "            plt.tight_layout()\n",
    "            return f, axes\n",
    "\n",
    "        def plot_timecourse_of_error(res,subject_id):\n",
    "            f, axes = plt.subplots(1, 4, figsize=(8, 4))\n",
    "            ylim_all = [0, 7]\n",
    "            for mfi, mask_fn in enumerate(['start_occ_pad0', 'occ_end_pad0']):\n",
    "                rmse_alignstart = (res[mask_fn]['mse_t'][:, :, beh_idx_mat[0]] + res[mask_fn]['mse_t'][:, :, beh_idx_mat[1]]) ** 0.5 ####\n",
    "                rmse_alignend = (res[mask_fn]['mse_t2'][:, :, beh_idx_mat[0]] + res[mask_fn]['mse_t2'][:, :, beh_idx_mat[1]]) ** 0.5\n",
    "\n",
    "                if 'start' in mask_fn:\n",
    "                    min_timesteps = 15\n",
    "                else:\n",
    "                    min_timesteps = 14\n",
    "\n",
    "                ax = axes[mfi * 2]\n",
    "                t = np.arange(0, min_timesteps, 1)\n",
    "                ax.errorbar(t, np.nanmean(rmse_alignstart[:, t], axis=0),\n",
    "                            np.nanstd(rmse_alignstart[:, t], axis=0), fmt='-ko')\n",
    "                ax.set_ylim(ylim_all)\n",
    "                ax.axvline(0, linestyle='--', color=[0.5, 0.5, 0.5])\n",
    "                rr_gpu.make_axis_nice(ax)\n",
    "\n",
    "                np.savetxt('%s_%s_alignstart_t.csv'%(subject_id,mask_fn), t, fmt='%5.3f', delimiter=',', newline='\\n')\n",
    "                np.savetxt('%s_%s_alignstart_mean.csv'%(subject_id,mask_fn), np.nanmean(rmse_alignstart[:, t], axis=0), fmt='%5.3f', delimiter=',', newline='\\n')\n",
    "                np.savetxt('%s_%s_alignstart_std.csv'%(subject_id,mask_fn), np.nanstd(rmse_alignstart[:, t], axis=0), fmt='%5.3f', delimiter=',', newline='\\n')\n",
    "\n",
    "                ax = axes[mfi * 2 + 1]\n",
    "                t = np.arange(-min_timesteps, 0, 1)\n",
    "                ax.errorbar(t + 1, np.nanmean(rmse_alignend[:, t], axis=0),\n",
    "                            np.nanstd(rmse_alignend[:, t], axis=0), fmt='-ko')\n",
    "                ax.set_ylim(ylim_all)\n",
    "                ax.axvline(0, linestyle='--', color=[0.5, 0.5, 0.5])\n",
    "                rr_gpu.make_axis_nice(ax)\n",
    "\n",
    "                np.savetxt('%s_%s_alignend_t.csv'%(subject_id,mask_fn), t + 1, fmt='%5.3f', delimiter=',', newline='\\n')\n",
    "                np.savetxt('%s_%s_alignend_mean.csv'%(subject_id,mask_fn), np.nanmean(rmse_alignend[:, t], axis=0), fmt='%5.3f', delimiter=',', newline='\\n')\n",
    "                np.savetxt('%s_%s_alignend_std.csv'%(subject_id,mask_fn), np.nanstd(rmse_alignend[:, t], axis=0), fmt='%5.3f', delimiter=',', newline='\\n')\n",
    "\n",
    "            for i in [1, 2, 3]:\n",
    "                axes[i].axes.get_yaxis().set_visible(False)\n",
    "\n",
    "            return f, axes\n",
    "\n",
    "        res_ = self.get_metrics_unrolled_and_remasked(time_idx=time_idx)\n",
    "        print(res_.shape)\n",
    "\n",
    "        f, axes = plot_average_metric(res_)\n",
    "        outfn = '%s/%s_decode_perf_over_epochs_%s.pdf' % (self.figoutpath, self.save_prefix, file_suffix)\n",
    "        f.savefig(outfn)\n",
    "\n",
    "        f, axes = plot_timecourse_of_error(res_,self.subject_id)\n",
    "        outfn = '%s/%s_decode_perf_over_time_%s.pdf' % (self.figoutpath, self.save_prefix, file_suffix)\n",
    "        f.savefig(outfn)\n",
    "        return"
   ]
  },
  {
   "cell_type": "code",
   "execution_count": null,
   "metadata": {},
   "outputs": [],
   "source": []
  },
  {
   "cell_type": "code",
   "execution_count": 6,
   "metadata": {},
   "outputs": [
    {
     "name": "stdout",
     "output_type": "stream",
     "text": [
      "start_occ_pad0\n",
      "occ_end_pad0\n"
     ]
    }
   ],
   "source": [
    "   for mfi, mask_fn in enumerate(['start_occ_pad0', 'occ_end_pad0']):\n",
    "                print( mask_fn )"
   ]
  },
  {
   "cell_type": "code",
   "execution_count": 7,
   "metadata": {
    "pycharm": {
     "name": "#%%\n"
    },
    "scrolled": true
   },
   "outputs": [
    {
     "name": "stdout",
     "output_type": "stream",
     "text": [
      "../data//decode_all_hand_dmfc_occ_start_end_pad0_50ms_0.50_neural_responses_reliable_FactorAnalysis_50.pkl\n"
     ]
    },
    {
     "ename": "NameError",
     "evalue": "name 'plt' is not defined",
     "output_type": "error",
     "traceback": [
      "\u001b[0;31m---------------------------------------------------------------------------\u001b[0m",
      "\u001b[0;31mNameError\u001b[0m                                 Traceback (most recent call last)",
      "Cell \u001b[0;32mIn[7], line 10\u001b[0m\n\u001b[1;32m      8\u001b[0m ph\u001b[38;5;241m.\u001b[39mload_data()\n\u001b[1;32m      9\u001b[0m ph\u001b[38;5;241m.\u001b[39mload_ground_truth_data()\n\u001b[0;32m---> 10\u001b[0m \u001b[43mph\u001b[49m\u001b[38;5;241;43m.\u001b[39;49m\u001b[43mget_colormap_for_decoded_variables\u001b[49m\u001b[43m(\u001b[49m\u001b[43m)\u001b[49m\n\u001b[1;32m     12\u001b[0m \u001b[38;5;28mself\u001b[39m \u001b[38;5;241m=\u001b[39m ph\n\u001b[1;32m     14\u001b[0m \u001b[38;5;28mself\u001b[39m\u001b[38;5;241m.\u001b[39mplot_decode_performance_unrolled_over_time(compute_egocentric\u001b[38;5;241m=\u001b[39m\u001b[38;5;28;01mFalse\u001b[39;00m)\n",
      "File \u001b[0;32m~/DMFC-decoder-simulation/code/utils/decoding_summary.py:290\u001b[0m, in \u001b[0;36mPlotHelper.get_colormap_for_decoded_variables\u001b[0;34m(self)\u001b[0m\n\u001b[1;32m    283\u001b[0m \u001b[38;5;28;01mdef\u001b[39;00m\u001b[38;5;250m \u001b[39m\u001b[38;5;21mget_colormap_for_decoded_variables\u001b[39m(\u001b[38;5;28mself\u001b[39m):\n\u001b[1;32m    284\u001b[0m     \u001b[38;5;66;03m# ['ball_pos_x_TRUE', 'ball_pos_y_TRUE',  'ball_pos_dx_TRUE', 'ball_pos_dy_TRUE', 'ball_pos_dspeed_TRUE', 'ball_pos_dtheta_TRUE',\u001b[39;00m\n\u001b[1;32m    285\u001b[0m     \u001b[38;5;66;03m#  'paddle_pos_y', 'joy',\u001b[39;00m\n\u001b[1;32m    286\u001b[0m     \u001b[38;5;66;03m#  'eye_v', 'eye_h',  'eye_dv', 'eye_dh',  'eye_dtheta', 'eye_dspeed',\u001b[39;00m\n\u001b[1;32m    287\u001b[0m     \u001b[38;5;66;03m#  't_from_start', 't_from_occ', 't_from_end',\u001b[39;00m\n\u001b[1;32m    288\u001b[0m     \u001b[38;5;66;03m#  'ball_final_y', 'ball_initial_y', 'ball_occ_start_y']\u001b[39;00m\n\u001b[0;32m--> 290\u001b[0m     cmap \u001b[38;5;241m=\u001b[39m \u001b[43mplt\u001b[49m\u001b[38;5;241m.\u001b[39mget_cmap(\u001b[38;5;124m'\u001b[39m\u001b[38;5;124mDark2\u001b[39m\u001b[38;5;124m'\u001b[39m, \u001b[38;5;241m8\u001b[39m)\n\u001b[1;32m    291\u001b[0m     \u001b[38;5;28mself\u001b[39m\u001b[38;5;241m.\u001b[39mbeh_var_groups \u001b[38;5;241m=\u001b[39m {\n\u001b[1;32m    292\u001b[0m         \u001b[38;5;124m'\u001b[39m\u001b[38;5;124mball_var_idx\u001b[39m\u001b[38;5;124m'\u001b[39m: [\u001b[38;5;241m0\u001b[39m, \u001b[38;5;241m1\u001b[39m, \u001b[38;5;241m2\u001b[39m, \u001b[38;5;241m3\u001b[39m, \u001b[38;5;241m4\u001b[39m, \u001b[38;5;241m5\u001b[39m, \u001b[38;5;241m6\u001b[39m, \u001b[38;5;241m7\u001b[39m, \u001b[38;5;241m27\u001b[39m, \u001b[38;5;241m30\u001b[39m, \u001b[38;5;241m31\u001b[39m, \u001b[38;5;241m32\u001b[39m], \u001b[38;5;66;03m# [0, 1, 2, 3, 4, 5], ###\u001b[39;00m\n\u001b[1;32m    293\u001b[0m         \u001b[38;5;124m'\u001b[39m\u001b[38;5;124meye_var_idx\u001b[39m\u001b[38;5;124m'\u001b[39m: [\u001b[38;5;241m10\u001b[39m,\u001b[38;5;241m11\u001b[39m,\u001b[38;5;241m12\u001b[39m,\u001b[38;5;241m13\u001b[39m,\u001b[38;5;241m14\u001b[39m,\u001b[38;5;241m15\u001b[39m, \u001b[38;5;241m16\u001b[39m, \u001b[38;5;241m17\u001b[39m, \u001b[38;5;241m18\u001b[39m, \u001b[38;5;241m19\u001b[39m], \u001b[38;5;66;03m# [8, 9, 10, 11, 12, 13],\u001b[39;00m\n\u001b[1;32m    294\u001b[0m         \u001b[38;5;124m'\u001b[39m\u001b[38;5;124mtime_var_idx\u001b[39m\u001b[38;5;124m'\u001b[39m: [\u001b[38;5;241m24\u001b[39m, \u001b[38;5;241m25\u001b[39m, \u001b[38;5;241m26\u001b[39m], \u001b[38;5;66;03m# [14, 15, 16],\u001b[39;00m\n\u001b[1;32m    295\u001b[0m         \u001b[38;5;124m'\u001b[39m\u001b[38;5;124mtarget_var_idx\u001b[39m\u001b[38;5;124m'\u001b[39m: [\u001b[38;5;241m8\u001b[39m, \u001b[38;5;241m9\u001b[39m, \u001b[38;5;241m19\u001b[39m, \u001b[38;5;241m20\u001b[39m, \u001b[38;5;241m21\u001b[39m, \u001b[38;5;241m22\u001b[39m, \u001b[38;5;241m23\u001b[39m, \u001b[38;5;241m28\u001b[39m, \u001b[38;5;241m29\u001b[39m], \u001b[38;5;66;03m# [6, 7, 17, 18, 19],\u001b[39;00m\n\u001b[1;32m    296\u001b[0m     }\n\u001b[1;32m    298\u001b[0m     \u001b[38;5;28mself\u001b[39m\u001b[38;5;241m.\u001b[39mdec_cols \u001b[38;5;241m=\u001b[39m {\n\u001b[1;32m    299\u001b[0m         \u001b[38;5;124m'\u001b[39m\u001b[38;5;124mball_var_idx\u001b[39m\u001b[38;5;124m'\u001b[39m: cmap(\u001b[38;5;241m0\u001b[39m),\n\u001b[1;32m    300\u001b[0m         \u001b[38;5;124m'\u001b[39m\u001b[38;5;124meye_var_idx\u001b[39m\u001b[38;5;124m'\u001b[39m: cmap(\u001b[38;5;241m1\u001b[39m),\n\u001b[1;32m    301\u001b[0m         \u001b[38;5;124m'\u001b[39m\u001b[38;5;124mtime_var_idx\u001b[39m\u001b[38;5;124m'\u001b[39m: cmap(\u001b[38;5;241m2\u001b[39m),\n\u001b[1;32m    302\u001b[0m         \u001b[38;5;124m'\u001b[39m\u001b[38;5;124mtarget_var_idx\u001b[39m\u001b[38;5;124m'\u001b[39m: cmap(\u001b[38;5;241m3\u001b[39m),\n\u001b[1;32m    303\u001b[0m     }\n",
      "\u001b[0;31mNameError\u001b[0m: name 'plt' is not defined"
     ]
    }
   ],
   "source": [
    "ph = PlotHelper(timebinsize=50,\n",
    "                subject_id='all_hand_dmfc',\n",
    "                masks_to_test_suffix='start_end_pad0',\n",
    "                condition='occ',\n",
    "                neural_data_to_use='neural_responses_reliable_FactorAnalysis_50',\n",
    "                ncomp=50)\n",
    "\n",
    "ph.load_data()\n",
    "ph.load_ground_truth_data()\n",
    "ph.get_colormap_for_decoded_variables()\n",
    "\n",
    "self = ph\n",
    "\n",
    "self.plot_decode_performance_unrolled_over_time(compute_egocentric=False)"
   ]
  },
  {
   "cell_type": "code",
   "execution_count": null,
   "metadata": {},
   "outputs": [],
   "source": [
    "res_ = self.get_metrics_unrolled_and_remasked(time_idx=None)"
   ]
  },
  {
   "cell_type": "code",
   "execution_count": null,
   "metadata": {},
   "outputs": [],
   "source": [
    "res=res_"
   ]
  },
  {
   "cell_type": "code",
   "execution_count": null,
   "metadata": {},
   "outputs": [],
   "source": [
    " beh_idx_mat = [0, 1]"
   ]
  },
  {
   "cell_type": "code",
   "execution_count": null,
   "metadata": {},
   "outputs": [],
   "source": [
    "subject_id='all_hand_dmfc'"
   ]
  },
  {
   "cell_type": "code",
   "execution_count": null,
   "metadata": {},
   "outputs": [],
   "source": [
    "distance_matrix= np.load('distance_matrix.npy')"
   ]
  },
  {
   "cell_type": "code",
   "execution_count": null,
   "metadata": {},
   "outputs": [],
   "source": [
    "import phys_utils\n",
    "import dataset_augment_utils\n",
    "import data_utils"
   ]
  },
  {
   "cell_type": "code",
   "execution_count": null,
   "metadata": {},
   "outputs": [],
   "source": [
    "data = data_utils.load_neural_dataset(timebinsize=50,subject_id='all_hand_dmfc',recompute_augment=True)\n",
    "\n",
    "data_aug = dataset_augment_utils.augment_data_structure(data)"
   ]
  },
  {
   "cell_type": "code",
   "execution_count": null,
   "metadata": {},
   "outputs": [],
   "source": [
    "mask_start_occ = data_aug['masks']['occ']['start_occ_pad0']\n",
    "mask_occ_end = data_aug['masks']['occ']['occ_end_pad0']"
   ]
  },
  {
   "cell_type": "code",
   "execution_count": null,
   "metadata": {},
   "outputs": [],
   "source": [
    "mask_start_occ[1,23]"
   ]
  },
  {
   "cell_type": "code",
   "execution_count": null,
   "metadata": {},
   "outputs": [],
   "source": [
    "distance_matrix.shape"
   ]
  },
  {
   "cell_type": "code",
   "execution_count": null,
   "metadata": {},
   "outputs": [],
   "source": [
    "mask_new_star_occ= ~np.isnan(mask_start_occ) "
   ]
  },
  {
   "cell_type": "code",
   "execution_count": null,
   "metadata": {},
   "outputs": [],
   "source": [
    "star_occ = np.where(mask_new_star_occ,distance_matrix,np.nan) #7/18/2025"
   ]
  },
  {
   "cell_type": "code",
   "execution_count": null,
   "metadata": {},
   "outputs": [],
   "source": [
    "a=mask_start_occ*distance_matrix #7/18/2025"
   ]
  },
  {
   "cell_type": "code",
   "execution_count": null,
   "metadata": {},
   "outputs": [],
   "source": [
    "filtered_star_occ =star_occ[:,~np.isnan(star_occ).all(axis=0)] #7/18/2025"
   ]
  },
  {
   "cell_type": "code",
   "execution_count": null,
   "metadata": {},
   "outputs": [],
   "source": [
    "plt.figure(figsize=(8,4))\n",
    "plt.plot(np.arange(100)*50, np.nanmean(distance_matrix, axis=0))\n",
    "\n",
    "plt.xlabel('Timepoint')\n",
    "plt.ylabel('Distance')"
   ]
  },
  {
   "cell_type": "code",
   "execution_count": null,
   "metadata": {},
   "outputs": [],
   "source": [
    "#Plot the avg ball pos acroos all the conditions for each valid timestamp #7/18/2025\n",
    "plt.figure(figsize=(8, 4))\n",
    "t = np.arange(6,6+ 15, 1)\n",
    "plt.errorbar(t, np.nanmean(filtered_star_occ[:, t], axis=0),\n",
    "                            np.nanstd(filtered_star_occ[:, t], axis=0), fmt='-ko')\n",
    "\n",
    "plt.xlabel('Timepoint')\n",
    "plt.ylabel('RMSE/Distance')\n",
    "plt.title('Start of Trial')\n",
    "plt.ylim(0,8)\n",
    "plt.xlim(6,15+6)\n",
    "plt.legend()\n",
    "plt.show()"
   ]
  },
  {
   "cell_type": "code",
   "execution_count": null,
   "metadata": {},
   "outputs": [],
   "source": [
    "#Plot the avg ball pos acroos all the conditions for each valid timestamp #7/18/2025\n",
    "plt.figure(figsize=(8,4))\n",
    "t = np.arange(13,37, 1)\n",
    "plt.errorbar(t, np.nanmean(filtered_star_occ[:, t], axis=0),\n",
    "                            np.nanstd(filtered_star_occ[:, t], axis=0), fmt='-ko')\n",
    "\n",
    "plt.xlabel('Timepoint')\n",
    "plt.ylabel('RMSE/Distance')\n",
    "plt.title('Start of Occulsion')\n",
    "plt.ylim(0,8)\n",
    "plt.xlim(13,37)\n",
    "plt.legend()\n",
    "plt.show()"
   ]
  },
  {
   "cell_type": "code",
   "execution_count": null,
   "metadata": {},
   "outputs": [],
   "source": []
  },
  {
   "cell_type": "code",
   "execution_count": null,
   "metadata": {},
   "outputs": [],
   "source": []
  },
  {
   "cell_type": "code",
   "execution_count": null,
   "metadata": {},
   "outputs": [],
   "source": [
    "mask_new_occ_end= ~np.isnan(mask_occ_end)  #7/18/2025\n",
    "occ_end= np.where(mask_new_occ_end,distance_matrix,np.nan)\n",
    "filtered_occ_end =occ_end[:,~np.isnan(occ_end).all(axis=0)]"
   ]
  },
  {
   "cell_type": "code",
   "execution_count": null,
   "metadata": {},
   "outputs": [],
   "source": [
    "filtered_occ_end.shape"
   ]
  },
  {
   "cell_type": "code",
   "execution_count": null,
   "metadata": {},
   "outputs": [],
   "source": [
    "#Plot the avg ball pos acroos all the conditions for each valid timestamp #7/18/2025\n",
    "plt.figure(figsize=(8,4))\n",
    "t = np.arange(0,14, 1)\n",
    "plt.errorbar(t, np.nanmean(filtered_occ_end[:, t], axis=0),\n",
    "                            np.nanstd(filtered_occ_end[:, t], axis=0), fmt='-ko')\n",
    "\n",
    "plt.xlabel('Timepoint')\n",
    "plt.ylabel('RMSE/Distance')\n",
    "plt.title('End of Occulsion')\n",
    "plt.ylim(0,8)\n",
    "plt.xlim(0,14)\n",
    "plt.legend()\n",
    "plt.show()"
   ]
  },
  {
   "cell_type": "code",
   "execution_count": null,
   "metadata": {
    "scrolled": true
   },
   "outputs": [],
   "source": [
    "#Plot the avg ball pos acroos all the conditions for each valid timestamp #7/18/2025\n",
    "plt.figure(figsize=(8,4))\n",
    "t = np.arange(44,58, 1)\n",
    "plt.errorbar(t, np.nanmean(filtered_occ_end[:, t], axis=0),\n",
    "                            np.nanstd(filtered_occ_end[:, t], axis=0), fmt='-ko')\n",
    "\n",
    "plt.xlabel('Timepoint')\n",
    "plt.ylabel('RMSE/Distance')\n",
    "plt.title('End of trial')\n",
    "plt.ylim(0,8)\n",
    "plt.xlim(44,58)\n",
    "plt.legend()\n",
    "plt.show()"
   ]
  },
  {
   "cell_type": "code",
   "execution_count": null,
   "metadata": {},
   "outputs": [],
   "source": [
    "import os\n",
    "print([f for f in os.listdir() if 'mean.csv' in f])"
   ]
  },
  {
   "cell_type": "code",
   "execution_count": null,
   "metadata": {},
   "outputs": [],
   "source": [
    "time_idx = None\n",
    "subject_id = 'all_hand_dmfc'"
   ]
  },
  {
   "cell_type": "code",
   "execution_count": null,
   "metadata": {},
   "outputs": [],
   "source": [
    "#load and save code decoding_mean \n",
    "time_vectors_map = {\n",
    "    'start_occ_pad0': {\n",
    "        'start': np.arange(6, 6 + 15,1),\n",
    "        'end': np.arange(13, 37,1)\n",
    "    },\n",
    "    'occ_end_pad0': {\n",
    "        'start': np.arange(0, 14,1),\n",
    "        'end': np.arange(44, 58,1)\n",
    "    }\n",
    "}\n",
    "\n",
    "\n",
    "for mfi, mask_fn in enumerate(['start_occ_pad0', 'occ_end_pad0']):\n",
    "    rmse_alignstart = (res[mask_fn]['mse_t'][:, :, beh_idx_mat[0]] + res[mask_fn]['mse_t'][:, :, beh_idx_mat[1]]) ** 0.5 ####\n",
    "    rmse_alignend = (res[mask_fn]['mse_t2'][:, :, beh_idx_mat[0]] + res[mask_fn]['mse_t2'][:, :, beh_idx_mat[1]]) ** 0.5\n",
    "    \n",
    "    t_start = time_vectors_map[mask_fn]['start']\n",
    "    t_end = time_vectors_map[mask_fn]['end']\n",
    "    \n",
    "    decoding_mean_start = np.nanmean(rmse_alignstart[:, t_start], axis=0)\n",
    "    decoding_mean_end = np.nanmean(rmse_alignend[:, t_end], axis=0)\n",
    "    \n",
    "    np.save(f\"{mask_fn}_start_decoding_mean.npy\", decoding_mean_start)\n",
    "    np.save(f\"{mask_fn}_end_decoding_mean.npy\", decoding_mean_end)"
   ]
  },
  {
   "cell_type": "code",
   "execution_count": null,
   "metadata": {},
   "outputs": [],
   "source": [
    "font_path = 'EB_Garamond/EBGaramond-VariableFont_wght.ttf'\n",
    "eb_garamond = fm.FontProperties(fname=font_path)\n",
    "\n",
    "f, axes = plt.subplots(1, 4, figsize=(10.26, 9.62))\n",
    "ylim_all = [0, 7]\n",
    "subplot_titles = [\n",
    "    'start-> +15 samples',\n",
    "    '-14 samples-> occlusion onset',\n",
    "    'occlusion onset-> +14',\n",
    "    '-14 samples-> trial end'\n",
    "]\n",
    "\n",
    "for ax, title in zip(axes.flat, subplot_titles):\n",
    "    ax.set_title(title, fontsize=40, pad=12)\n",
    "\n",
    "for mfi, mask_fn in enumerate(['start_occ_pad0', 'occ_end_pad0']):\n",
    "    rmse_alignstart = (res[mask_fn]['mse_t'][:, :, beh_idx_mat[0]] +\n",
    "                       res[mask_fn]['mse_t'][:, :, beh_idx_mat[1]]) ** 0.5\n",
    "    rmse_alignend = (res[mask_fn]['mse_t2'][:, :, beh_idx_mat[0]] +\n",
    "                     res[mask_fn]['mse_t2'][:, :, beh_idx_mat[1]]) ** 0.5\n",
    "\n",
    "    min_timesteps = 15 if 'start' in mask_fn else 14\n",
    "\n",
    "    # === START-ALIGNED ===\n",
    "    ax = axes[mfi * 2]\n",
    "    t_start = np.arange(0, min_timesteps)\n",
    "\n",
    "    ax.errorbar(t_start,\n",
    "                np.nanmean(rmse_alignstart[:, t_start], axis=0),\n",
    "                np.nanstd(rmse_alignstart[:, t_start], axis=0),\n",
    "                fmt='-mo', label='Neural Decoding')\n",
    "\n",
    "    if 'start' in mask_fn:\n",
    "        baseline_start = np.nanmean(filtered_star_occ[:, t_start], axis=0)\n",
    "    else:\n",
    "        baseline_start = np.nanmean(filtered_occ_end[:, t_start], axis=0)\n",
    "\n",
    "    ax.plot(t_start, baseline_start, '--o', color='orange', label='Baseline')\n",
    "\n",
    "    ax.set_ylim(ylim_all)\n",
    "    ax.set_xlim([0, 15])  # Make sure tick 15 shows\n",
    "    ax.set_xticks([0, 5, 10, 15])\n",
    "    ax.set_xticklabels(['0', '5', '10', '15'])\n",
    "    ax.axvline(0, linestyle='--', color='gray')\n",
    "\n",
    "    ax.set_title(subplot_titles[mfi * 2], fontproperties=eb_garamond, fontsize=17)\n",
    "    ax.tick_params(axis='both', labelsize=20)\n",
    "\n",
    "    # Format tick labels\n",
    "    for label in ax.get_xticklabels() + ax.get_yticklabels():\n",
    "        label.set_fontproperties(eb_garamond)\n",
    "        label.set_weight('bold')\n",
    "        label.set_fontsize(15)\n",
    "\n",
    "    if mfi == 0:\n",
    "        ax.set_ylabel('RMSE', fontproperties=eb_garamond, fontsize=28)\n",
    "\n",
    "    ax.legend(prop=eb_garamond, fontsize=16)\n",
    "\n",
    "    # === END-ALIGNED ===\n",
    "    ax = axes[mfi * 2 + 1]\n",
    "    t_end = np.arange(0, min_timesteps)\n",
    "\n",
    "    ax.errorbar(t_end - min_timesteps + 1,\n",
    "                np.nanmean(rmse_alignend[:, -min_timesteps:], axis=0),\n",
    "                np.nanstd(rmse_alignend[:, -min_timesteps:], axis=0),\n",
    "                fmt='-mo', label='Neural Decoding')\n",
    "\n",
    "    if 'start' in mask_fn:\n",
    "        baseline_end = np.nanmean(filtered_star_occ[:, -min_timesteps:], axis=0)\n",
    "    else:\n",
    "        baseline_end = np.nanmean(filtered_occ_end[:, -min_timesteps:], axis=0)\n",
    "\n",
    "    ax.plot(t_end - min_timesteps + 1, baseline_end, '--o', color='orange', label='Baseline')\n",
    "\n",
    "    ax.set_ylim(ylim_all)\n",
    "    ax.set_xlim([-14, 0])\n",
    "    ax.set_xticks([-15, -10, -5, 0])\n",
    "    ax.set_xticklabels(['-15', '-10', '-5', '0'])\n",
    "    ax.axvline(0, linestyle='--', color='gray')\n",
    "\n",
    "    ax.set_title(subplot_titles[mfi * 2 + 1], fontproperties=eb_garamond, fontsize=17)\n",
    "    ax.set_xlabel('Time (samples)', fontproperties=eb_garamond, fontsize=28)\n",
    "    ax.tick_params(axis='both', labelsize=20)\n",
    "\n",
    "    for label in ax.get_xticklabels() + ax.get_yticklabels():\n",
    "        label.set_fontproperties(eb_garamond)\n",
    "        label.set_weight('bold')\n",
    "        label.set_fontsize(15)\n",
    "\n",
    "    if mfi == 0:\n",
    "        ax.set_ylabel('RMSE', fontproperties=eb_garamond, fontsize=28)\n",
    "\n",
    "    ax.legend(prop=eb_garamond, fontsize=16)\n",
    "\n",
    "# Hide y-axis on right 3 plots\n",
    "for i in [1, 2, 3]:\n",
    "    axes[i].get_yaxis().set_visible(False)\n",
    "\n",
    "plt.tight_layout()\n",
    "plt.savefig(\"decoded_vs_basline.png\", dpi=300, bbox_inches='tight')\n",
    "plt.show()\n",
    "\n"
   ]
  },
  {
   "cell_type": "code",
   "execution_count": null,
   "metadata": {},
   "outputs": [],
   "source": [
    "data = np.load('/home/jcleckle/DMFC-decoder-simulation/code/distance_matrix.npy', allow_pickle=True)\n",
    "print(data)"
   ]
  },
  {
   "cell_type": "code",
   "execution_count": null,
   "metadata": {},
   "outputs": [],
   "source": [
    "ax.errorbar(t, np.nanmean(filtered_star_occ[:, t], axis=0),\n",
    "                np.nanstd(filtered_star_occ[:, t], axis=0), fmt='-mo')\n",
    "    ax.set_ylim(ylim_all)\n",
    "    ax.axvline(0, linestyle='--', color=[0.5, 0.5, 0.5])\n",
    "    rr_gpu.make_axis_nice(ax)\n",
    "    \n",
    "            \n",
    "    ax = axes[mfi * 2 + 1]\n",
    "    t = np.arange(-min_timesteps, 0, 1)\n",
    "    ax.errorbar(t, np.nanmean(filtered_occ_end[:, t], axis=0),\n",
    "                np.nanstd(filtered_occ_end[:, t], axis=0), fmt='-mo')\n",
    "    ax.set_ylim(ylim_all)\n",
    "    ax.axvline(0, linestyle='--', color=[0.5, 0.5, 0.5])\n",
    "    rr_gpu.make_axis_nice(ax)\n",
    "\n",
    "for i in [1, 2, 3]:\n",
    "    axes[i].axes.get_yaxis().set_visible(False)\n",
    "\n",
    "plt.tight_layout()\n",
    "plt.show()\n",
    "\n",
    "\n",
    "res = self.get_metrics_unrolled_and_remasked(time_idx=time_idx)\n",
    "\n",
    "\n",
    "#f, axes = plot_average_metric(res)\n",
    "\n",
    "#f, axes = plot_timecourse_of_error(res_,self.subject_i"
   ]
  },
  {
   "cell_type": "code",
   "execution_count": null,
   "metadata": {},
   "outputs": [],
   "source": [
    "\n",
    "res_remasked = self.get_predictions_unrolled_and_remasked_base(time_idx=time_idx)\n",
    "\n",
    "# # get x/y for true and predicted, shape = (23, 79, 100)\n",
    "# true_all = res_remasked['true']['start_end_pad0']\n",
    "# pred_all = res_remasked['pred']['start_end_pad0']\n",
    "\n",
    "# mean over trials, result: (79, 100)\n",
    "true_x = np.nanmean(res_remasked['true']['start_end_pad0'][:, 0, :, :], axis=0)\n",
    "true_y = np.nanmean(res_remasked['true']['start_end_pad0'][:, 1, :, :], axis=0)\n",
    "\n",
    "neural_prediction_x = np.nanmean(res_remasked['pred']['start_end_pad0'][:, 0, :, :], axis=0)\n",
    "neural_prediction_y = np.nanmean(res_remasked['pred']['start_end_pad0'][:, 1, :, :], axis=0)\n",
    "\n",
    "\n",
    "task_indices = [0, 54, 78]\n",
    "\n",
    "fig, axs = plt.subplots(len(task_indices), 1, figsize=(13.92, 9.96*len(task_indices)), sharex=True, sharey=True)\n",
    "\n",
    "for i, task_idx in enumerate(task_indices):\n",
    "    ax = axs[i]\n",
    "    ax.plot(true_x[task_idx], true_y[task_idx], 'k-', label='True trajectory')\n",
    "    ax.plot(neural_prediction_x[task_idx], neural_prediction_y[task_idx], 'r--', label='Neural prediction')\n",
    "    ax.set_title(f'Task condition {task_idx}')\n",
    "    ax.set_xlabel('X position')\n",
    "    ax.set_ylabel('Y position')\n",
    "    ax.legend()\n",
    "    ax.grid(True)\n",
    "    ax.set_aspect('equal')\n",
    "\n",
    "plt.tight_layout()\n",
    "plt.show()\n"
   ]
  },
  {
   "cell_type": "code",
   "execution_count": null,
   "metadata": {},
   "outputs": [],
   "source": [
    "font_path = 'EB_Garamond/EBGaramond-VariableFont_wght.ttf'\n",
    "eb_garamond = fm.FontProperties(fname=font_path)\n",
    "\n",
    "rcParams['font.family'] = 'EB Garamond'\n",
    "\n",
    "res_remasked = self.get_predictions_unrolled_and_remasked_base(time_idx=time_idx)\n",
    "\n",
    "# Extract true and predicted mean trajectories\n",
    "true_x = np.nanmean(res_remasked['true']['start_end_pad0'][:, 0, :, :], axis=0)\n",
    "true_y = np.nanmean(res_remasked['true']['start_end_pad0'][:, 1, :, :], axis=0)\n",
    "neural_prediction_x = np.nanmean(res_remasked['pred']['start_end_pad0'][:, 0, :, :], axis=0)\n",
    "neural_prediction_y = np.nanmean(res_remasked['pred']['start_end_pad0'][:, 1, :, :], axis=0)\n",
    "\n",
    "# Define task indices and their visual colors\n",
    "task_indices = [0, 23, 54, 78]\n",
    "colors = ['orange', 'purple', 'yellow', 'magenta']\n",
    "\n",
    "fig, ax = plt.subplots(figsize=(9.55, 11.6))\n",
    "\n",
    "\n",
    "for task_idx, color in zip(task_indices, colors):\n",
    "    # 1. True trajectory → black dashed outline behind color solid line\n",
    "    ax.plot(true_x[task_idx], true_y[task_idx],\n",
    "            linestyle='--', color='black', linewidth=4, zorder=1)\n",
    "    ax.plot(true_x[task_idx], true_y[task_idx],\n",
    "            linestyle='-', color=color, linewidth=2, zorder=2)\n",
    "\n",
    "    # 2. Neural prediction → dashed line in same color\n",
    "    ax.plot(neural_prediction_x[task_idx], neural_prediction_y[task_idx],\n",
    "            linestyle='--', color=color, linewidth=2, zorder=0)\n",
    "\n",
    "# ax.set_title(\"True vs Neural Predicted Trajectories\")\n",
    "ax.set_xlabel(\"X Position\", fontproperties=eb_garamond, fontsize=30)\n",
    "ax.set_ylabel(\"Y Position\", fontproperties=eb_garamond, fontsize=30)\n",
    "\n",
    "ax.tick_params(axis='both', which='major', labelsize=23)\n",
    "for label in ax.get_xticklabels() + ax.get_yticklabels():\n",
    "    label.set_fontproperties(eb_garamond)\n",
    "    label.set_fontweight('bold')\n",
    "    label.setfontsize(15)\n",
    "\n",
    "\n",
    "ax.legend(prop=eb_garamond)\n",
    "ax.grid(True)\n",
    "ax.set_aspect('equal')\n",
    "plt.tight_layout()\n",
    "plt.show()\n",
    "\n"
   ]
  },
  {
   "cell_type": "code",
   "execution_count": null,
   "metadata": {},
   "outputs": [],
   "source": [
    "# Number of timepoints and task conditions\n",
    "n_conditions = 79\n",
    "n_timepoints = 100\n",
    "\n",
    "# Create synthetic \"true\" trajectory: flat line y=3 for all conditions and timepoints\n",
    "true_y = np.full((n_conditions, n_timepoints), 3)\n",
    "\n",
    "# Create synthetic \"predicted\" trajectory: flat line y=1 for all conditions and timepoints\n",
    "predicted_y = np.full((n_conditions, n_timepoints), 1)\n",
    "\n",
    "# Compute RMSE between true and predicted (only y here)\n",
    "rmse = np.sqrt(np.nanmean((true_y - predicted_y)**2))\n",
    "\n",
    "print(\"RMSE for synthetic flat lines:\", rmse)\n",
    "# Expected output: RMSE = 2.0"
   ]
  },
  {
   "cell_type": "code",
   "execution_count": null,
   "metadata": {},
   "outputs": [],
   "source": [
    "print(\"res_remasked['true']['start_end_pad0'].shape:\")\n",
    "print(res_remasked['true']['start_end_pad0'].shape)\n",
    "\n",
    "print(\"res_remasked['pred']['start_end_pad0'].shape:\")\n",
    "print(res_remasked['pred']['start_end_pad0'].shape)"
   ]
  },
  {
   "cell_type": "code",
   "execution_count": null,
   "metadata": {},
   "outputs": [],
   "source": [
    "for mask_name in self.ground_truth['masks']:\n",
    "    mask = np.array(self.ground_truth['masks'][mask_name])\n",
    "    print(f\"Mask '{mask_name}': sum = {np.sum(mask)}, shape = {mask.shape}\")"
   ]
  },
  {
   "cell_type": "code",
   "execution_count": null,
   "metadata": {},
   "outputs": [],
   "source": [
    "filtered_star_occ.shape"
   ]
  },
  {
   "cell_type": "code",
   "execution_count": null,
   "metadata": {},
   "outputs": [],
   "source": [
    "filtered_occ_end.shape"
   ]
  },
  {
   "cell_type": "code",
   "execution_count": null,
   "metadata": {},
   "outputs": [],
   "source": [
    "t.shape"
   ]
  },
  {
   "cell_type": "code",
   "execution_count": null,
   "metadata": {},
   "outputs": [],
   "source": [
    "print(rmse_alignstart.shape)\n",
    "print(rmse_alignend.shape)"
   ]
  },
  {
   "cell_type": "code",
   "execution_count": null,
   "metadata": {},
   "outputs": [],
   "source": []
  },
  {
   "cell_type": "code",
   "execution_count": null,
   "metadata": {},
   "outputs": [],
   "source": []
  },
  {
   "cell_type": "code",
   "execution_count": null,
   "metadata": {},
   "outputs": [],
   "source": []
  },
  {
   "cell_type": "code",
   "execution_count": null,
   "metadata": {},
   "outputs": [],
   "source": []
  }
 ],
 "metadata": {
  "kernelspec": {
   "display_name": "Python 3 (ipykernel)",
   "language": "python",
   "name": "python3"
  },
  "language_info": {
   "codemirror_mode": {
    "name": "ipython",
    "version": 3
   },
   "file_extension": ".py",
   "mimetype": "text/x-python",
   "name": "python",
   "nbconvert_exporter": "python",
   "pygments_lexer": "ipython3",
   "version": "3.9.12"
  }
 },
 "nbformat": 4,
 "nbformat_minor": 2
}
